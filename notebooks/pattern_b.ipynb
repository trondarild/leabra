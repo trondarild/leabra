{
 "cells": [
  {
   "cell_type": "markdown",
   "metadata": {},
   "source": [
    "# Pattern Associator"
   ]
  },
  {
   "cell_type": "markdown",
   "metadata": {},
   "source": [
    "We recreate the network of the [Pattern Associator tutorial from the CECN1 notebook](https://grey.colorado.edu/CompCogNeuro/index.php/CECN1_Pattern_Associator) exploring how the delta rule works and behave. "
   ]
  },
  {
   "cell_type": "code",
   "execution_count": 1,
   "metadata": {},
   "outputs": [
    {
     "output_type": "display_data",
     "data": {
      "text/plain": "<IPython.core.display.Javascript object>",
      "application/javascript": "\nIPython.OutputArea.prototype._should_scroll = function(lines) {\n    return false;\n}\n"
     },
     "metadata": {}
    },
    {
     "output_type": "display_data",
     "data": {
      "application/javascript": "\n(function(root) {\n  function now() {\n    return new Date();\n  }\n\n  const force = true;\n\n  if (typeof root._bokeh_onload_callbacks === \"undefined\" || force === true) {\n    root._bokeh_onload_callbacks = [];\n    root._bokeh_is_loading = undefined;\n  }\n\n  const JS_MIME_TYPE = 'application/javascript';\n  const HTML_MIME_TYPE = 'text/html';\n  const EXEC_MIME_TYPE = 'application/vnd.bokehjs_exec.v0+json';\n  const CLASS_NAME = 'output_bokeh rendered_html';\n\n  /**\n   * Render data to the DOM node\n   */\n  function render(props, node) {\n    const script = document.createElement(\"script\");\n    node.appendChild(script);\n  }\n\n  /**\n   * Handle when an output is cleared or removed\n   */\n  function handleClearOutput(event, handle) {\n    const cell = handle.cell;\n\n    const id = cell.output_area._bokeh_element_id;\n    const server_id = cell.output_area._bokeh_server_id;\n    // Clean up Bokeh references\n    if (id != null && id in Bokeh.index) {\n      Bokeh.index[id].model.document.clear();\n      delete Bokeh.index[id];\n    }\n\n    if (server_id !== undefined) {\n      // Clean up Bokeh references\n      const cmd_clean = \"from bokeh.io.state import curstate; print(curstate().uuid_to_server['\" + server_id + \"'].get_sessions()[0].document.roots[0]._id)\";\n      cell.notebook.kernel.execute(cmd_clean, {\n        iopub: {\n          output: function(msg) {\n            const id = msg.content.text.trim();\n            if (id in Bokeh.index) {\n              Bokeh.index[id].model.document.clear();\n              delete Bokeh.index[id];\n            }\n          }\n        }\n      });\n      // Destroy server and session\n      const cmd_destroy = \"import bokeh.io.notebook as ion; ion.destroy_server('\" + server_id + \"')\";\n      cell.notebook.kernel.execute(cmd_destroy);\n    }\n  }\n\n  /**\n   * Handle when a new output is added\n   */\n  function handleAddOutput(event, handle) {\n    const output_area = handle.output_area;\n    const output = handle.output;\n\n    // limit handleAddOutput to display_data with EXEC_MIME_TYPE content only\n    if ((output.output_type != \"display_data\") || (!Object.prototype.hasOwnProperty.call(output.data, EXEC_MIME_TYPE))) {\n      return\n    }\n\n    const toinsert = output_area.element.find(\".\" + CLASS_NAME.split(' ')[0]);\n\n    if (output.metadata[EXEC_MIME_TYPE][\"id\"] !== undefined) {\n      toinsert[toinsert.length - 1].firstChild.textContent = output.data[JS_MIME_TYPE];\n      // store reference to embed id on output_area\n      output_area._bokeh_element_id = output.metadata[EXEC_MIME_TYPE][\"id\"];\n    }\n    if (output.metadata[EXEC_MIME_TYPE][\"server_id\"] !== undefined) {\n      const bk_div = document.createElement(\"div\");\n      bk_div.innerHTML = output.data[HTML_MIME_TYPE];\n      const script_attrs = bk_div.children[0].attributes;\n      for (let i = 0; i < script_attrs.length; i++) {\n        toinsert[toinsert.length - 1].firstChild.setAttribute(script_attrs[i].name, script_attrs[i].value);\n        toinsert[toinsert.length - 1].firstChild.textContent = bk_div.children[0].textContent\n      }\n      // store reference to server id on output_area\n      output_area._bokeh_server_id = output.metadata[EXEC_MIME_TYPE][\"server_id\"];\n    }\n  }\n\n  function register_renderer(events, OutputArea) {\n\n    function append_mime(data, metadata, element) {\n      // create a DOM node to render to\n      const toinsert = this.create_output_subarea(\n        metadata,\n        CLASS_NAME,\n        EXEC_MIME_TYPE\n      );\n      this.keyboard_manager.register_events(toinsert);\n      // Render to node\n      const props = {data: data, metadata: metadata[EXEC_MIME_TYPE]};\n      render(props, toinsert[toinsert.length - 1]);\n      element.append(toinsert);\n      return toinsert\n    }\n\n    /* Handle when an output is cleared or removed */\n    events.on('clear_output.CodeCell', handleClearOutput);\n    events.on('delete.Cell', handleClearOutput);\n\n    /* Handle when a new output is added */\n    events.on('output_added.OutputArea', handleAddOutput);\n\n    /**\n     * Register the mime type and append_mime function with output_area\n     */\n    OutputArea.prototype.register_mime_type(EXEC_MIME_TYPE, append_mime, {\n      /* Is output safe? */\n      safe: true,\n      /* Index of renderer in `output_area.display_order` */\n      index: 0\n    });\n  }\n\n  // register the mime type if in Jupyter Notebook environment and previously unregistered\n  if (root.Jupyter !== undefined) {\n    const events = require('base/js/events');\n    const OutputArea = require('notebook/js/outputarea').OutputArea;\n\n    if (OutputArea.prototype.mime_types().indexOf(EXEC_MIME_TYPE) == -1) {\n      register_renderer(events, OutputArea);\n    }\n  }\n\n  \n  if (typeof (root._bokeh_timeout) === \"undefined\" || force === true) {\n    root._bokeh_timeout = Date.now() + 5000;\n    root._bokeh_failed_load = false;\n  }\n\n  const NB_LOAD_WARNING = {'data': {'text/html':\n     \"<div style='background-color: #fdd'>\\n\"+\n     \"<p>\\n\"+\n     \"BokehJS does not appear to have successfully loaded. If loading BokehJS from CDN, this \\n\"+\n     \"may be due to a slow or bad network connection. Possible fixes:\\n\"+\n     \"</p>\\n\"+\n     \"<ul>\\n\"+\n     \"<li>re-rerun `output_notebook()` to attempt to load from CDN again, or</li>\\n\"+\n     \"<li>use INLINE resources instead, as so:</li>\\n\"+\n     \"</ul>\\n\"+\n     \"<code>\\n\"+\n     \"from bokeh.resources import INLINE\\n\"+\n     \"output_notebook(resources=INLINE)\\n\"+\n     \"</code>\\n\"+\n     \"</div>\"}};\n\n  function display_loaded() {\n    const el = document.getElementById(null);\n    if (el != null) {\n      el.textContent = \"BokehJS is loading...\";\n    }\n    if (root.Bokeh !== undefined) {\n      if (el != null) {\n        el.textContent = \"BokehJS \" + root.Bokeh.version + \" successfully loaded.\";\n      }\n    } else if (Date.now() < root._bokeh_timeout) {\n      setTimeout(display_loaded, 100)\n    }\n  }\n\n\n  function run_callbacks() {\n    try {\n      root._bokeh_onload_callbacks.forEach(function(callback) {\n        if (callback != null)\n          callback();\n      });\n    } finally {\n      delete root._bokeh_onload_callbacks\n    }\n    console.debug(\"Bokeh: all callbacks have finished\");\n  }\n\n  function load_libs(css_urls, js_urls, callback) {\n    if (css_urls == null) css_urls = [];\n    if (js_urls == null) js_urls = [];\n\n    root._bokeh_onload_callbacks.push(callback);\n    if (root._bokeh_is_loading > 0) {\n      console.debug(\"Bokeh: BokehJS is being loaded, scheduling callback at\", now());\n      return null;\n    }\n    if (js_urls == null || js_urls.length === 0) {\n      run_callbacks();\n      return null;\n    }\n    console.debug(\"Bokeh: BokehJS not loaded, scheduling load and callback at\", now());\n    root._bokeh_is_loading = css_urls.length + js_urls.length;\n\n    function on_load() {\n      root._bokeh_is_loading--;\n      if (root._bokeh_is_loading === 0) {\n        console.debug(\"Bokeh: all BokehJS libraries/stylesheets loaded\");\n        run_callbacks()\n      }\n    }\n\n    function on_error(url) {\n      console.error(\"failed to load \" + url);\n    }\n\n    for (let i = 0; i < css_urls.length; i++) {\n      const url = css_urls[i];\n      const element = document.createElement(\"link\");\n      element.onload = on_load;\n      element.onerror = on_error.bind(null, url);\n      element.rel = \"stylesheet\";\n      element.type = \"text/css\";\n      element.href = url;\n      console.debug(\"Bokeh: injecting link tag for BokehJS stylesheet: \", url);\n      document.body.appendChild(element);\n    }\n\n    for (let i = 0; i < js_urls.length; i++) {\n      const url = js_urls[i];\n      const element = document.createElement('script');\n      element.onload = on_load;\n      element.onerror = on_error.bind(null, url);\n      element.async = false;\n      element.src = url;\n      console.debug(\"Bokeh: injecting script tag for BokehJS library: \", url);\n      document.head.appendChild(element);\n    }\n  };\n\n  function inject_raw_css(css) {\n    const element = document.createElement(\"style\");\n    element.appendChild(document.createTextNode(css));\n    document.body.appendChild(element);\n  }\n\n  \n  const js_urls = [\"https://cdn.bokeh.org/bokeh/release/bokeh-2.4.2.min.js\", \"https://cdn.bokeh.org/bokeh/release/bokeh-gl-2.4.2.min.js\", \"https://cdn.bokeh.org/bokeh/release/bokeh-widgets-2.4.2.min.js\", \"https://cdn.bokeh.org/bokeh/release/bokeh-tables-2.4.2.min.js\", \"https://cdn.bokeh.org/bokeh/release/bokeh-mathjax-2.4.2.min.js\"];\n  const css_urls = [];\n  \n\n  const inline_js = [\n    function(Bokeh) {\n      Bokeh.set_log_level(\"info\");\n    },\n    function(Bokeh) {\n    \n    \n    }\n  ];\n\n  function run_inline_js() {\n    \n    if (root.Bokeh !== undefined || force === true) {\n      \n    for (let i = 0; i < inline_js.length; i++) {\n      inline_js[i].call(root, root.Bokeh);\n    }\n    } else if (Date.now() < root._bokeh_timeout) {\n      setTimeout(run_inline_js, 100);\n    } else if (!root._bokeh_failed_load) {\n      console.log(\"Bokeh: BokehJS failed to load within specified timeout.\");\n      root._bokeh_failed_load = true;\n    } else if (force !== true) {\n      const cell = $(document.getElementById(null)).parents('.cell').data().cell;\n      cell.output_area.append_execute_result(NB_LOAD_WARNING)\n    }\n\n  }\n\n  if (root._bokeh_is_loading === 0) {\n    console.debug(\"Bokeh: BokehJS loaded, going straight to plotting\");\n    run_inline_js();\n  } else {\n    load_libs(css_urls, js_urls, function() {\n      console.debug(\"Bokeh: BokehJS plotting callback run at\", now());\n      run_inline_js();\n    });\n  }\n}(window));",
      "application/vnd.bokehjs_load.v0+json": "\n(function(root) {\n  function now() {\n    return new Date();\n  }\n\n  const force = true;\n\n  if (typeof root._bokeh_onload_callbacks === \"undefined\" || force === true) {\n    root._bokeh_onload_callbacks = [];\n    root._bokeh_is_loading = undefined;\n  }\n\n  \n\n  \n  if (typeof (root._bokeh_timeout) === \"undefined\" || force === true) {\n    root._bokeh_timeout = Date.now() + 5000;\n    root._bokeh_failed_load = false;\n  }\n\n  const NB_LOAD_WARNING = {'data': {'text/html':\n     \"<div style='background-color: #fdd'>\\n\"+\n     \"<p>\\n\"+\n     \"BokehJS does not appear to have successfully loaded. If loading BokehJS from CDN, this \\n\"+\n     \"may be due to a slow or bad network connection. Possible fixes:\\n\"+\n     \"</p>\\n\"+\n     \"<ul>\\n\"+\n     \"<li>re-rerun `output_notebook()` to attempt to load from CDN again, or</li>\\n\"+\n     \"<li>use INLINE resources instead, as so:</li>\\n\"+\n     \"</ul>\\n\"+\n     \"<code>\\n\"+\n     \"from bokeh.resources import INLINE\\n\"+\n     \"output_notebook(resources=INLINE)\\n\"+\n     \"</code>\\n\"+\n     \"</div>\"}};\n\n  function display_loaded() {\n    const el = document.getElementById(null);\n    if (el != null) {\n      el.textContent = \"BokehJS is loading...\";\n    }\n    if (root.Bokeh !== undefined) {\n      if (el != null) {\n        el.textContent = \"BokehJS \" + root.Bokeh.version + \" successfully loaded.\";\n      }\n    } else if (Date.now() < root._bokeh_timeout) {\n      setTimeout(display_loaded, 100)\n    }\n  }\n\n\n  function run_callbacks() {\n    try {\n      root._bokeh_onload_callbacks.forEach(function(callback) {\n        if (callback != null)\n          callback();\n      });\n    } finally {\n      delete root._bokeh_onload_callbacks\n    }\n    console.debug(\"Bokeh: all callbacks have finished\");\n  }\n\n  function load_libs(css_urls, js_urls, callback) {\n    if (css_urls == null) css_urls = [];\n    if (js_urls == null) js_urls = [];\n\n    root._bokeh_onload_callbacks.push(callback);\n    if (root._bokeh_is_loading > 0) {\n      console.debug(\"Bokeh: BokehJS is being loaded, scheduling callback at\", now());\n      return null;\n    }\n    if (js_urls == null || js_urls.length === 0) {\n      run_callbacks();\n      return null;\n    }\n    console.debug(\"Bokeh: BokehJS not loaded, scheduling load and callback at\", now());\n    root._bokeh_is_loading = css_urls.length + js_urls.length;\n\n    function on_load() {\n      root._bokeh_is_loading--;\n      if (root._bokeh_is_loading === 0) {\n        console.debug(\"Bokeh: all BokehJS libraries/stylesheets loaded\");\n        run_callbacks()\n      }\n    }\n\n    function on_error(url) {\n      console.error(\"failed to load \" + url);\n    }\n\n    for (let i = 0; i < css_urls.length; i++) {\n      const url = css_urls[i];\n      const element = document.createElement(\"link\");\n      element.onload = on_load;\n      element.onerror = on_error.bind(null, url);\n      element.rel = \"stylesheet\";\n      element.type = \"text/css\";\n      element.href = url;\n      console.debug(\"Bokeh: injecting link tag for BokehJS stylesheet: \", url);\n      document.body.appendChild(element);\n    }\n\n    for (let i = 0; i < js_urls.length; i++) {\n      const url = js_urls[i];\n      const element = document.createElement('script');\n      element.onload = on_load;\n      element.onerror = on_error.bind(null, url);\n      element.async = false;\n      element.src = url;\n      console.debug(\"Bokeh: injecting script tag for BokehJS library: \", url);\n      document.head.appendChild(element);\n    }\n  };\n\n  function inject_raw_css(css) {\n    const element = document.createElement(\"style\");\n    element.appendChild(document.createTextNode(css));\n    document.body.appendChild(element);\n  }\n\n  \n  const js_urls = [\"https://cdn.bokeh.org/bokeh/release/bokeh-2.4.2.min.js\", \"https://cdn.bokeh.org/bokeh/release/bokeh-gl-2.4.2.min.js\", \"https://cdn.bokeh.org/bokeh/release/bokeh-widgets-2.4.2.min.js\", \"https://cdn.bokeh.org/bokeh/release/bokeh-tables-2.4.2.min.js\", \"https://cdn.bokeh.org/bokeh/release/bokeh-mathjax-2.4.2.min.js\"];\n  const css_urls = [];\n  \n\n  const inline_js = [\n    function(Bokeh) {\n      Bokeh.set_log_level(\"info\");\n    },\n    function(Bokeh) {\n    \n    \n    }\n  ];\n\n  function run_inline_js() {\n    \n    if (root.Bokeh !== undefined || force === true) {\n      \n    for (let i = 0; i < inline_js.length; i++) {\n      inline_js[i].call(root, root.Bokeh);\n    }\n    } else if (Date.now() < root._bokeh_timeout) {\n      setTimeout(run_inline_js, 100);\n    } else if (!root._bokeh_failed_load) {\n      console.log(\"Bokeh: BokehJS failed to load within specified timeout.\");\n      root._bokeh_failed_load = true;\n    } else if (force !== true) {\n      const cell = $(document.getElementById(null)).parents('.cell').data().cell;\n      cell.output_area.append_execute_result(NB_LOAD_WARNING)\n    }\n\n  }\n\n  if (root._bokeh_is_loading === 0) {\n    console.debug(\"Bokeh: BokehJS loaded, going straight to plotting\");\n    run_inline_js();\n  } else {\n    load_libs(css_urls, js_urls, function() {\n      console.debug(\"Bokeh: BokehJS plotting callback run at\", now());\n      run_inline_js();\n    });\n  }\n}(window));"
     },
     "metadata": {}
    }
   ],
   "source": [
    "import numpy as np\n",
    "import dotdot\n",
    "import leabra\n",
    "import graphs"
   ]
  },
  {
   "cell_type": "code",
   "execution_count": 2,
   "metadata": {},
   "outputs": [],
   "source": [
    "import random\n",
    "random.seed(0)"
   ]
  },
  {
   "cell_type": "code",
   "execution_count": 49,
   "metadata": {},
   "outputs": [],
   "source": [
    "inputsize = 10\n",
    "outputsize = 10"
   ]
  },
  {
   "cell_type": "code",
   "execution_count": 20,
   "metadata": {},
   "outputs": [],
   "source": [
    "def generate_hot_vec(size, hots):\n",
    "    retval = np.zeros(size)\n",
    "    for i in range(hots):\n",
    "        ix = 0\n",
    "        while True:\n",
    "            ix = random.randint (0, size-1)\n",
    "            if retval[ix] != 1.0:\n",
    "                break\n",
    "        retval[ix] = 1.0\n",
    "\n",
    "    return retval"
   ]
  },
  {
   "cell_type": "code",
   "execution_count": 43,
   "metadata": {},
   "outputs": [],
   "source": [
    "def is_in_matrix(vec, matrix):\n",
    "    ''' vec - row vector to test\n",
    "    matrix - matrix possibly containing row vector\n",
    "    '''\n",
    "    for i in range(matrix.shape[0]):\n",
    "        if np.array_equal(vec, matrix[i]): return True\n",
    "    return False\n"
   ]
  },
  {
   "cell_type": "code",
   "execution_count": 44,
   "metadata": {},
   "outputs": [],
   "source": [
    "def generate_unique_patterns(rows, cols, hots):\n",
    "    retval = np.zeros((rows, cols))\n",
    "    for j in range(rows):\n",
    "        vec = np.zeros(cols)\n",
    "        while True:\n",
    "            vec = generate_hot_vec(cols, hots)\n",
    "            if not is_in_matrix(vec, retval): break\n",
    "        retval[j] = vec\n",
    "    return retval"
   ]
  },
  {
   "cell_type": "code",
   "execution_count": 47,
   "metadata": {},
   "outputs": [
    {
     "output_type": "execute_result",
     "data": {
      "text/plain": "array([[1., 0., 0., 0., 1.],\n       [0., 0., 0., 1., 1.],\n       [1., 0., 1., 0., 0.],\n       [1., 1., 0., 0., 0.]])"
     },
     "metadata": {},
     "execution_count": 47
    }
   ],
   "source": [
    "generate_unique_patterns(4, 5, 2)"
   ]
  },
  {
   "cell_type": "code",
   "execution_count": 3,
   "metadata": {},
   "outputs": [],
   "source": [
    "u_spec = leabra.UnitSpec(act_thr=0.5, act_gain=100, act_sd=0.01, \n",
    "                         g_bar_e=1.0, g_bar_i=1.0, g_bar_l=0.1, \n",
    "                         e_rev_e=1.0, e_rev_i=0.25, e_rev_l=0.3,\n",
    "                         avg_l_min=0.1, avg_l_init=0.4,\n",
    "                         adapt_on=False)"
   ]
  },
  {
   "cell_type": "code",
   "execution_count": 50,
   "metadata": {},
   "outputs": [],
   "source": [
    "input_layer  = leabra.Layer(inputsize, unit_spec=u_spec, name='input_layer')\n",
    "output_spec  = leabra.LayerSpec(g_i=1.5, ff=1.0, fb=0.5, fb_dt=1/1.4, ff0=0.1)\n",
    "output_layer = leabra.Layer(outputsize, spec=output_spec, unit_spec=u_spec, name='output_layer')"
   ]
  },
  {
   "cell_type": "code",
   "execution_count": 51,
   "metadata": {},
   "outputs": [],
   "source": [
    "conspec = leabra.ConnectionSpec(proj='full', lrule='leabra', lrate=0.04)\n",
    "conn    = leabra.Connection(input_layer, output_layer, spec=conspec)"
   ]
  },
  {
   "cell_type": "code",
   "execution_count": 53,
   "metadata": {},
   "outputs": [
    {
     "output_type": "execute_result",
     "data": {
      "text/plain": "array([[0.28598584, 0.40053077, 0.46803432, 0.28052122, 0.48356561,\n        0.54824246, 0.59966156, 0.4456381 , 0.38006663, 0.70219932],\n       [0.48510808, 0.70115212, 0.53488427, 0.59884854, 0.35170734,\n        0.63367417, 0.64432415, 0.32910431, 0.33097704, 0.51473711],\n       [0.30860642, 0.7107092 , 0.58280291, 0.25660188, 0.59064034,\n        0.70004903, 0.68740235, 0.70875556, 0.57446674, 0.44432112],\n       [0.5788081 , 0.32670639, 0.59541138, 0.4789771 , 0.28953689,\n        0.61950806, 0.52215975, 0.3174188 , 0.63108333, 0.49091354],\n       [0.55506783, 0.58670173, 0.54513884, 0.69597177, 0.67688719,\n        0.31617214, 0.40514879, 0.62424294, 0.66445139, 0.29036155],\n       [0.54728846, 0.59929134, 0.33003989, 0.36154891, 0.47406766,\n        0.60517499, 0.5868876 , 0.68726882, 0.26577274, 0.6858441 ],\n       [0.53373617, 0.63609286, 0.60450302, 0.33283749, 0.28194315,\n        0.60075808, 0.47318236, 0.69247275, 0.70401993, 0.55198869],\n       [0.25003458, 0.26945509, 0.41297195, 0.66886842, 0.2749285 ,\n        0.66135996, 0.73708844, 0.45756871, 0.52428103, 0.73151889],\n       [0.73928588, 0.6687242 , 0.31526088, 0.25736464, 0.72477377,\n        0.45874254, 0.2516964 , 0.25714566, 0.62737691, 0.74012232],\n       [0.58788095, 0.55603098, 0.34522997, 0.55417982, 0.34925819,\n        0.40120802, 0.59427   , 0.34111057, 0.48780274, 0.71138486]])"
     },
     "metadata": {},
     "execution_count": 53
    }
   ],
   "source": [
    "conn.weights"
   ]
  },
  {
   "cell_type": "code",
   "execution_count": 54,
   "metadata": {},
   "outputs": [],
   "source": [
    "network = leabra.Network(layers=[input_layer, output_layer], connections=[conn])"
   ]
  },
  {
   "cell_type": "code",
   "execution_count": 55,
   "metadata": {},
   "outputs": [],
   "source": [
    "def event(k, network):\n",
    "    \"\"\"Run a minus phase and a plus phase for a given input/output pair\"\"\"\n",
    "    inputs  = np.zeros(inputsize) #[0.0, 0.0, 0.0, 0.0]\n",
    "    outputs = np.zeros(outputsize) # [0.0, 0.0]\n",
    "    inputs[k] = 1.0\n",
    "    outputs[int(k/2)] = 1.0  # desired output\n",
    "\n",
    "    network.set_inputs({'input_layer': inputs})\n",
    "    network.set_outputs({'output_layer': outputs})\n",
    "\n",
    "    # minus phase\n",
    "    for _ in range(3):\n",
    "        network.quarter()\n",
    "        print('g_e', [u.g_e for u in output_layer.units])\n",
    "        print('v_m', [u.v_m for u in output_layer.units])\n",
    "        print('v_m_eq', [u.v_m_eq for u in output_layer.units])\n",
    "        print('act', output_layer.activities)\n",
    "#        print(input_layer.activities)\n",
    "        print([u.avg_s_eff for u in input_layer.units])\n",
    "        \n",
    "    error = sum((np.array(output_layer.activities) - outputs)**2) \n",
    "\n",
    "    # plus phase: the output is set directly\n",
    "    network.quarter()\n",
    "    \n",
    "    return error"
   ]
  },
  {
   "cell_type": "code",
   "execution_count": null,
   "metadata": {},
   "outputs": [],
   "source": [
    "conn.weights\n",
    "print(output_layer.to_connections)"
   ]
  },
  {
   "cell_type": "code",
   "execution_count": null,
   "metadata": {},
   "outputs": [],
   "source": [
    "event(0, network)"
   ]
  },
  {
   "cell_type": "code",
   "execution_count": null,
   "metadata": {},
   "outputs": [],
   "source": [
    "conn.weights"
   ]
  },
  {
   "cell_type": "code",
   "execution_count": null,
   "metadata": {},
   "outputs": [],
   "source": [
    "def trial():\n",
    "    sse = 0.0\n",
    "    sse += event(0, network)\n",
    "    sse += event(1, network)\n",
    "    sse += event(2, network)\n",
    "    sse += event(3, network)\n",
    "    return sse / 4"
   ]
  },
  {
   "cell_type": "code",
   "execution_count": null,
   "metadata": {},
   "outputs": [],
   "source": [
    "err = [trial() for _ in range(20)]"
   ]
  },
  {
   "cell_type": "code",
   "execution_count": null,
   "metadata": {},
   "outputs": [],
   "source": [
    "conn.weights"
   ]
  },
  {
   "cell_type": "code",
   "execution_count": 62,
   "metadata": {},
   "outputs": [
    {
     "output_type": "display_data",
     "data": {
      "text/html": "\n\n\n\n\n\n  <div class=\"bk-root\" id=\"84202e3d-e2f7-4909-b1ff-443b66cbd919\" data-root-id=\"1002\"></div>\n"
     },
     "metadata": {}
    },
    {
     "output_type": "display_data",
     "data": {
      "application/javascript": "(function(root) {\n  function embed_document(root) {\n    \n  const docs_json = {\"8cb83bcf-72f9-4161-a72f-f40a0f150b83\":{\"defs\":[],\"roots\":{\"references\":[{\"attributes\":{\"below\":[{\"id\":\"1013\"}],\"center\":[{\"id\":\"1016\"},{\"id\":\"1020\"},{\"id\":\"1040\"}],\"height\":400,\"left\":[{\"id\":\"1017\"}],\"min_border_bottom\":35,\"min_border_left\":35,\"min_border_right\":35,\"min_border_top\":35,\"renderers\":[{\"id\":\"1029\"}],\"title\":{\"id\":\"1003\"},\"toolbar\":{\"id\":\"1022\"},\"toolbar_location\":null,\"x_range\":{\"id\":\"1005\"},\"x_scale\":{\"id\":\"1009\"},\"y_range\":{\"id\":\"1007\"},\"y_scale\":{\"id\":\"1011\"}},\"id\":\"1002\",\"subtype\":\"Figure\",\"type\":\"Plot\"},{\"attributes\":{},\"id\":\"1036\",\"type\":\"BasicTickFormatter\"},{\"attributes\":{\"line_alpha\":0.1,\"line_color\":\"#00a0b0\",\"x\":{\"field\":\"x\"},\"y\":{\"field\":\"y\"}},\"id\":\"1027\",\"type\":\"Line\"},{\"attributes\":{\"coordinates\":null,\"formatter\":{\"id\":\"1033\"},\"group\":null,\"major_label_policy\":{\"id\":\"1034\"},\"major_tick_in\":0,\"minor_tick_line_color\":null,\"ticker\":{\"id\":\"1018\"}},\"id\":\"1017\",\"type\":\"LinearAxis\"},{\"attributes\":{\"line_color\":\"#00a0b0\",\"x\":{\"field\":\"x\"},\"y\":{\"field\":\"y\"}},\"id\":\"1026\",\"type\":\"Line\"},{\"attributes\":{},\"id\":\"1039\",\"type\":\"Selection\"},{\"attributes\":{\"source\":{\"id\":\"1025\"}},\"id\":\"1030\",\"type\":\"CDSView\"},{\"attributes\":{},\"id\":\"1034\",\"type\":\"AllLabels\"},{\"attributes\":{},\"id\":\"1038\",\"type\":\"UnionRenderers\"},{\"attributes\":{\"label\":{\"value\":\"None\"},\"renderers\":[{\"id\":\"1029\"}]},\"id\":\"1041\",\"type\":\"LegendItem\"},{\"attributes\":{},\"id\":\"1005\",\"type\":\"DataRange1d\"},{\"attributes\":{},\"id\":\"1007\",\"type\":\"DataRange1d\"},{\"attributes\":{},\"id\":\"1033\",\"type\":\"BasicTickFormatter\"},{\"attributes\":{\"data\":{\"x\":[0,1,2,3,4,5,6,7,8,9,10,11,12,13,14,15,16,17,18,19],\"y\":[3.9012362799451075,3.7503524858000303,3.4084103145956206,3.1323743060649876,2.9506505079323633,2.820275888643257,2.807322563218171,2.9436032393045957,2.994537002649009,3.063178994029157,3.2195566784183667,3.3671330814938587,3.392849026214937,3.3892112995491934,3.3842090705346095,3.3806931841831984,3.371869682401363,3.3584598658866556,3.3448441346375475,3.3295538700866523]},\"selected\":{\"id\":\"1039\"},\"selection_policy\":{\"id\":\"1038\"}},\"id\":\"1025\",\"type\":\"ColumnDataSource\"},{\"attributes\":{},\"id\":\"1009\",\"type\":\"LinearScale\"},{\"attributes\":{\"coordinates\":null,\"group\":null,\"text\":\"Average error over trials\"},\"id\":\"1003\",\"type\":\"Title\"},{\"attributes\":{\"logo\":null,\"tools\":[{\"id\":\"1021\"}]},\"id\":\"1022\",\"type\":\"Toolbar\"},{\"attributes\":{\"coordinates\":null,\"formatter\":{\"id\":\"1036\"},\"group\":null,\"major_label_policy\":{\"id\":\"1037\"},\"major_tick_in\":0,\"minor_tick_line_color\":null,\"ticker\":{\"id\":\"1014\"}},\"id\":\"1013\",\"type\":\"LinearAxis\"},{\"attributes\":{\"axis\":{\"id\":\"1013\"},\"coordinates\":null,\"grid_line_color\":null,\"group\":null,\"ticker\":null},\"id\":\"1016\",\"type\":\"Grid\"},{\"attributes\":{},\"id\":\"1014\",\"type\":\"BasicTicker\"},{\"attributes\":{},\"id\":\"1037\",\"type\":\"AllLabels\"},{\"attributes\":{\"coordinates\":null,\"group\":null,\"items\":[{\"id\":\"1041\"}]},\"id\":\"1040\",\"type\":\"Legend\"},{\"attributes\":{},\"id\":\"1018\",\"type\":\"BasicTicker\"},{\"attributes\":{\"coordinates\":null,\"data_source\":{\"id\":\"1025\"},\"glyph\":{\"id\":\"1026\"},\"group\":null,\"hover_glyph\":null,\"muted_glyph\":{\"id\":\"1028\"},\"nonselection_glyph\":{\"id\":\"1027\"},\"view\":{\"id\":\"1030\"}},\"id\":\"1029\",\"type\":\"GlyphRenderer\"},{\"attributes\":{},\"id\":\"1011\",\"type\":\"LinearScale\"},{\"attributes\":{\"axis\":{\"id\":\"1017\"},\"coordinates\":null,\"dimension\":1,\"grid_line_color\":null,\"group\":null,\"ticker\":null},\"id\":\"1020\",\"type\":\"Grid\"},{\"attributes\":{},\"id\":\"1021\",\"type\":\"SaveTool\"},{\"attributes\":{\"line_alpha\":0.2,\"line_color\":\"#00a0b0\",\"x\":{\"field\":\"x\"},\"y\":{\"field\":\"y\"}},\"id\":\"1028\",\"type\":\"Line\"}],\"root_ids\":[\"1002\"]},\"title\":\"Bokeh Application\",\"version\":\"2.4.2\"}};\n  const render_items = [{\"docid\":\"8cb83bcf-72f9-4161-a72f-f40a0f150b83\",\"root_ids\":[\"1002\"],\"roots\":{\"1002\":\"84202e3d-e2f7-4909-b1ff-443b66cbd919\"}}];\n  root.Bokeh.embed.embed_items_notebook(docs_json, render_items);\n\n  }\n  if (root.Bokeh !== undefined) {\n    embed_document(root);\n  } else {\n    let attempts = 0;\n    const timer = setInterval(function(root) {\n      if (root.Bokeh !== undefined) {\n        clearInterval(timer);\n        embed_document(root);\n      } else {\n        attempts++;\n        if (attempts > 100) {\n          clearInterval(timer);\n          console.log(\"Bokeh: ERROR: Unable to run BokehJS code because BokehJS library is missing\");\n        }\n      }\n    }, 10, root)\n  }\n})(window);",
      "application/vnd.bokehjs_exec.v0+json": ""
     },
     "metadata": {
      "application/vnd.bokehjs_exec.v0+json": {
       "id": "1002"
      }
     }
    }
   ],
   "source": [
    "graphs.line(range(len(err)), err, title=\"Average error over trials\", width=600)"
   ]
  },
  {
   "cell_type": "code",
   "execution_count": 63,
   "metadata": {},
   "outputs": [],
   "source": [
    "def event_vec(inputs, outputs, network):\n",
    "    network.set_inputs({'input_layer': inputs})\n",
    "    network.set_outputs({'output_layer': outputs})\n",
    "\n",
    "    # minus phase\n",
    "    for _ in range(3):\n",
    "        network.quarter()\n",
    "        # print('g_e', [u.g_e for u in output_layer.units])\n",
    "        # print('v_m', [u.v_m for u in output_layer.units])\n",
    "        # print('v_m_eq', [u.v_m_eq for u in output_layer.units])\n",
    "        # print('act', output_layer.activities)\n",
    "        # print(input_layer.activities)\n",
    "        # print([u.avg_s_eff for u in input_layer.units])\n",
    "        \n",
    "    error = sum((np.array(output_layer.activities) - outputs)**2) \n",
    "\n",
    "    # plus phase: the output is set directly\n",
    "    network.quarter()\n",
    "    \n",
    "    return error"
   ]
  },
  {
   "cell_type": "code",
   "execution_count": 65,
   "metadata": {},
   "outputs": [],
   "source": [
    "def trial_vec(inputs, outputs):\n",
    "    sse = 0.0\n",
    "    for i in range(inputs.shape[0]):\n",
    "        sse += event_vec(inputs[i], outputs[i], network)\n",
    "    return sse / inputs.shape[0]\n"
   ]
  },
  {
   "cell_type": "code",
   "execution_count": 74,
   "metadata": {
    "tags": []
   },
   "outputs": [],
   "source": [
    " rows = 10\n",
    " cols = inputsize\n",
    " hots = 2\n",
    " inp = generate_unique_patterns(rows, cols, hots)\n",
    " outp = generate_unique_patterns(rows, cols, hots)\n",
    " err = [trial_vec(inp, outp) for _ in range(100)]"
   ]
  },
  {
   "cell_type": "code",
   "execution_count": 75,
   "metadata": {},
   "outputs": [
    {
     "output_type": "display_data",
     "data": {
      "text/html": "\n\n\n\n\n\n  <div class=\"bk-root\" id=\"a51a9bf9-590f-41d4-a37a-dd0633407a7c\" data-root-id=\"1562\"></div>\n"
     },
     "metadata": {}
    },
    {
     "output_type": "display_data",
     "data": {
      "application/javascript": "(function(root) {\n  function embed_document(root) {\n    \n  const docs_json = {\"9a6f37ba-0425-41a3-a8bd-f7c6c8beedd4\":{\"defs\":[],\"roots\":{\"references\":[{\"attributes\":{\"below\":[{\"id\":\"1573\"}],\"center\":[{\"id\":\"1576\"},{\"id\":\"1580\"},{\"id\":\"1600\"}],\"height\":400,\"left\":[{\"id\":\"1577\"}],\"min_border_bottom\":35,\"min_border_left\":35,\"min_border_right\":35,\"min_border_top\":35,\"renderers\":[{\"id\":\"1589\"}],\"title\":{\"id\":\"1563\"},\"toolbar\":{\"id\":\"1582\"},\"toolbar_location\":null,\"x_range\":{\"id\":\"1565\"},\"x_scale\":{\"id\":\"1569\"},\"y_range\":{\"id\":\"1567\"},\"y_scale\":{\"id\":\"1571\"}},\"id\":\"1562\",\"subtype\":\"Figure\",\"type\":\"Plot\"},{\"attributes\":{\"axis\":{\"id\":\"1573\"},\"coordinates\":null,\"grid_line_color\":null,\"group\":null,\"ticker\":null},\"id\":\"1576\",\"type\":\"Grid\"},{\"attributes\":{\"line_alpha\":0.2,\"line_color\":\"#00a0b0\",\"x\":{\"field\":\"x\"},\"y\":{\"field\":\"y\"}},\"id\":\"1588\",\"type\":\"Line\"},{\"attributes\":{\"coordinates\":null,\"formatter\":{\"id\":\"1593\"},\"group\":null,\"major_label_policy\":{\"id\":\"1594\"},\"major_tick_in\":0,\"minor_tick_line_color\":null,\"ticker\":{\"id\":\"1578\"}},\"id\":\"1577\",\"type\":\"LinearAxis\"},{\"attributes\":{},\"id\":\"1571\",\"type\":\"LinearScale\"},{\"attributes\":{},\"id\":\"1594\",\"type\":\"AllLabels\"},{\"attributes\":{\"source\":{\"id\":\"1585\"}},\"id\":\"1590\",\"type\":\"CDSView\"},{\"attributes\":{\"label\":{\"value\":\"None\"},\"renderers\":[{\"id\":\"1589\"}]},\"id\":\"1601\",\"type\":\"LegendItem\"},{\"attributes\":{},\"id\":\"1599\",\"type\":\"Selection\"},{\"attributes\":{},\"id\":\"1578\",\"type\":\"BasicTicker\"},{\"attributes\":{},\"id\":\"1567\",\"type\":\"DataRange1d\"},{\"attributes\":{\"axis\":{\"id\":\"1577\"},\"coordinates\":null,\"dimension\":1,\"grid_line_color\":null,\"group\":null,\"ticker\":null},\"id\":\"1580\",\"type\":\"Grid\"},{\"attributes\":{},\"id\":\"1569\",\"type\":\"LinearScale\"},{\"attributes\":{},\"id\":\"1565\",\"type\":\"DataRange1d\"},{\"attributes\":{},\"id\":\"1593\",\"type\":\"BasicTickFormatter\"},{\"attributes\":{\"line_alpha\":0.1,\"line_color\":\"#00a0b0\",\"x\":{\"field\":\"x\"},\"y\":{\"field\":\"y\"}},\"id\":\"1587\",\"type\":\"Line\"},{\"attributes\":{},\"id\":\"1598\",\"type\":\"UnionRenderers\"},{\"attributes\":{\"coordinates\":null,\"formatter\":{\"id\":\"1596\"},\"group\":null,\"major_label_policy\":{\"id\":\"1597\"},\"major_tick_in\":0,\"minor_tick_line_color\":null,\"ticker\":{\"id\":\"1574\"}},\"id\":\"1573\",\"type\":\"LinearAxis\"},{\"attributes\":{\"coordinates\":null,\"group\":null,\"items\":[{\"id\":\"1601\"}]},\"id\":\"1600\",\"type\":\"Legend\"},{\"attributes\":{\"coordinates\":null,\"data_source\":{\"id\":\"1585\"},\"glyph\":{\"id\":\"1586\"},\"group\":null,\"hover_glyph\":null,\"muted_glyph\":{\"id\":\"1588\"},\"nonselection_glyph\":{\"id\":\"1587\"},\"view\":{\"id\":\"1590\"}},\"id\":\"1589\",\"type\":\"GlyphRenderer\"},{\"attributes\":{\"data\":{\"x\":[0,1,2,3,4,5,6,7,8,9,10,11,12,13,14,15,16,17,18,19,20,21,22,23,24,25,26,27,28,29,30,31,32,33,34,35,36,37,38,39,40,41,42,43,44,45,46,47,48,49,50,51,52,53,54,55,56,57,58,59,60,61,62,63,64,65,66,67,68,69,70,71,72,73,74,75,76,77,78,79,80,81,82,83,84,85,86,87,88,89,90,91,92,93,94,95,96,97,98,99],\"y\":[3.445338966228295,3.347458046349755,3.2317952722699417,3.0535241214749456,2.8533947624453164,2.697371456291166,2.5913399204764618,2.4605478006133104,2.2751140347682055,2.1261148338312856,1.9921691557096914,1.888624094909049,1.806162422699461,1.7363218568823686,1.6714378552400333,1.598346209945337,1.5279722605212602,1.4682451506180842,1.4130510325243046,1.3579544450149208,1.2958896872782448,1.2219462584436094,1.135943673183471,1.0425186019434296,0.9564657954235194,0.8943364708751685,0.8420978599466402,0.7726535759570861,0.7017178694234902,0.6523902685944086,0.6175319864016953,0.5900259723922637,0.5666270774315925,0.5462338921817563,0.528346304067918,0.5128109248775173,0.49939830318586853,0.48799496228004546,0.47833955439210196,0.470046314854912,0.4628521244959033,0.45655469982656405,0.45095186659848674,0.44587180265871673,0.4411619555582037,0.43678954001202397,0.4326655904075311,0.4287862794891395,0.425039157685598,0.4214329956393882,0.4179020141950625,0.41442131726339254,0.4110223483652278,0.4076911378433115,0.40439228022197815,0.401172056045996,0.3979831479028046,0.3948905689323025,0.39188979428113085,0.3890151214204553,0.3863067819484792,0.3837466507858479,0.3814035340900304,0.37927947691409963,0.37733912207470305,0.3756326731488103,0.37411354036037187,0.37282024700299343,0.3716746234354356,0.37063294481611775,0.36967862025799114,0.36878560242713665,0.3679665508027641,0.36720780963008137,0.3664946414532714,0.3658180822860127,0.365172472149215,0.3645495441133976,0.36396760263927486,0.3634216031056384,0.3629128074453769,0.3624217602924428,0.3619686209473122,0.3615513820838572,0.36116132976879156,0.3607853216745724,0.3604239127913647,0.3600937998264562,0.3597803318122991,0.35947978548236215,0.35919030393353474,0.35891616195098236,0.35865785036751646,0.358406926448413,0.3581796230828744,0.35795387389155675,0.3577432666297363,0.3575609014118236,0.35739481905239145,0.3572655368091301]},\"selected\":{\"id\":\"1599\"},\"selection_policy\":{\"id\":\"1598\"}},\"id\":\"1585\",\"type\":\"ColumnDataSource\"},{\"attributes\":{},\"id\":\"1597\",\"type\":\"AllLabels\"},{\"attributes\":{},\"id\":\"1574\",\"type\":\"BasicTicker\"},{\"attributes\":{\"line_color\":\"#00a0b0\",\"x\":{\"field\":\"x\"},\"y\":{\"field\":\"y\"}},\"id\":\"1586\",\"type\":\"Line\"},{\"attributes\":{\"coordinates\":null,\"group\":null,\"text\":\"Average error over trials\"},\"id\":\"1563\",\"type\":\"Title\"},{\"attributes\":{},\"id\":\"1596\",\"type\":\"BasicTickFormatter\"},{\"attributes\":{\"logo\":null,\"tools\":[{\"id\":\"1581\"}]},\"id\":\"1582\",\"type\":\"Toolbar\"},{\"attributes\":{},\"id\":\"1581\",\"type\":\"SaveTool\"}],\"root_ids\":[\"1562\"]},\"title\":\"Bokeh Application\",\"version\":\"2.4.2\"}};\n  const render_items = [{\"docid\":\"9a6f37ba-0425-41a3-a8bd-f7c6c8beedd4\",\"root_ids\":[\"1562\"],\"roots\":{\"1562\":\"a51a9bf9-590f-41d4-a37a-dd0633407a7c\"}}];\n  root.Bokeh.embed.embed_items_notebook(docs_json, render_items);\n\n  }\n  if (root.Bokeh !== undefined) {\n    embed_document(root);\n  } else {\n    let attempts = 0;\n    const timer = setInterval(function(root) {\n      if (root.Bokeh !== undefined) {\n        clearInterval(timer);\n        embed_document(root);\n      } else {\n        attempts++;\n        if (attempts > 100) {\n          clearInterval(timer);\n          console.log(\"Bokeh: ERROR: Unable to run BokehJS code because BokehJS library is missing\");\n        }\n      }\n    }, 10, root)\n  }\n})(window);",
      "application/vnd.bokehjs_exec.v0+json": ""
     },
     "metadata": {
      "application/vnd.bokehjs_exec.v0+json": {
       "id": "1562"
      }
     }
    }
   ],
   "source": [
    "graphs.line(range(len(err)), err, title=\"Average error over trials\", width=600)"
   ]
  },
  {
   "cell_type": "code",
   "execution_count": null,
   "metadata": {},
   "outputs": [],
   "source": []
  }
 ],
 "metadata": {
  "kernelspec": {
   "display_name": "Python 3 (ipykernel)",
   "language": "python",
   "name": "python3"
  },
  "language_info": {
   "codemirror_mode": {
    "name": "ipython",
    "version": 3
   },
   "file_extension": ".py",
   "mimetype": "text/x-python",
   "name": "python",
   "nbconvert_exporter": "python",
   "pygments_lexer": "ipython3",
   "version": "3.9.5-final"
  }
 },
 "nbformat": 4,
 "nbformat_minor": 1
}