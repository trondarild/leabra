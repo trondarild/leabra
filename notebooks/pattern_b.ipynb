{
 "cells": [
  {
   "cell_type": "markdown",
   "metadata": {},
   "source": [
    "# Pattern Associator"
   ]
  },
  {
   "cell_type": "markdown",
   "metadata": {},
   "source": [
    "We recreate the network of the [Pattern Associator tutorial from the CECN1 notebook](https://grey.colorado.edu/CompCogNeuro/index.php/CECN1_Pattern_Associator) exploring how the delta rule works and behave. "
   ]
  },
  {
   "cell_type": "code",
   "execution_count": 129,
   "metadata": {},
   "outputs": [],
   "source": [
    "%load_ext autoreload\n",
    "%autoreload 2"
   ]
  },
  {
   "cell_type": "code",
   "execution_count": 130,
   "metadata": {},
   "outputs": [],
   "source": [
    "import numpy as np\n",
    "import dotdot\n",
    "import leabra\n",
    "import graphs"
   ]
  },
  {
   "cell_type": "code",
   "execution_count": 2,
   "metadata": {},
   "outputs": [],
   "source": [
    "import random\n",
    "random.seed(0)"
   ]
  },
  {
   "cell_type": "code",
   "execution_count": 315,
   "metadata": {},
   "outputs": [],
   "source": [
    "inputsize = 5\n",
    "outputsize = inputsize\n",
    "hiddensize = 4*inputsize\n",
    "numpatterns = 2\n",
    "numhots = 2\n"
   ]
  },
  {
   "cell_type": "code",
   "execution_count": 138,
   "metadata": {},
   "outputs": [],
   "source": [
    "def generate_hot_vec(size, hots):\n",
    "    retval = np.zeros(size)\n",
    "    for i in range(hots):\n",
    "        ix = 0\n",
    "        while True:\n",
    "            ix = random.randint (0, size-1)\n",
    "            if retval[ix] != 1.0:\n",
    "                break\n",
    "        retval[ix] = 1.0\n",
    "\n",
    "    return retval"
   ]
  },
  {
   "cell_type": "code",
   "execution_count": 139,
   "metadata": {},
   "outputs": [],
   "source": [
    "def is_in_matrix(vec, matrix):\n",
    "    ''' vec - row vector to test\n",
    "    matrix - matrix possibly containing row vector\n",
    "    '''\n",
    "    for i in range(matrix.shape[0]):\n",
    "        if np.array_equal(vec, matrix[i]): return True\n",
    "    return False\n"
   ]
  },
  {
   "cell_type": "code",
   "execution_count": 140,
   "metadata": {},
   "outputs": [],
   "source": [
    "def generate_unique_patterns(rows, cols, hots):\n",
    "    retval = np.zeros((rows, cols))\n",
    "    for j in range(rows):\n",
    "        vec = np.zeros(cols)\n",
    "        while True:\n",
    "            vec = generate_hot_vec(cols, hots)\n",
    "            if not is_in_matrix(vec, retval): break\n",
    "        retval[j] = vec\n",
    "    return retval"
   ]
  },
  {
   "cell_type": "code",
   "execution_count": 316,
   "metadata": {},
   "outputs": [],
   "source": [
    "input_pats = generate_unique_patterns(numpatterns, inputsize, numhots)\n",
    "output_pats = generate_unique_patterns(numpatterns, outputsize, numhots)\n"
   ]
  },
  {
   "cell_type": "code",
   "execution_count": 142,
   "metadata": {},
   "outputs": [],
   "source": [
    "u_spec = leabra.UnitSpec(act_thr=0.5, act_gain=100, act_sd=0.01, \n",
    "                         g_bar_e=1.0, g_bar_i=1.0, g_bar_l=0.1, \n",
    "                         e_rev_e=1.0, e_rev_i=0.25, e_rev_l=0.3,\n",
    "                         avg_l_min=0.1, avg_l_init=0.4,\n",
    "                         adapt_on=False)"
   ]
  },
  {
   "cell_type": "code",
   "execution_count": 143,
   "metadata": {},
   "outputs": [],
   "source": [
    "input_layer  = leabra.Layer(inputsize, unit_spec=u_spec, name='input_layer')\n",
    "output_spec  = leabra.LayerSpec(g_i=1.5, ff=1.0, fb=0.5, fb_dt=1/1.4, ff0=0.1)\n",
    "output_layer = leabra.Layer(outputsize, spec=output_spec, unit_spec=u_spec, name='output_layer')\n",
    "hidden_layer = leabra.Layer(hiddensize, unit_spec=u_spec, name='hidden_layer')"
   ]
  },
  {
   "cell_type": "code",
   "execution_count": 309,
   "metadata": {},
   "outputs": [],
   "source": [
    "conspec_l = leabra.ConnectionSpec(proj='full', lrule='leabra', lrate=0.04)\n",
    "conspec = leabra.ConnectionSpec(proj='full', lrule='', lrate=0.04)\n",
    "\n",
    "inp_hidden_conn = leabra.Connection(input_layer, hidden_layer, spec=conspec) # no learning from input to hidden\n",
    "\n",
    "hidden_out_conn = leabra.Connection(hidden_layer, output_layer, spec=conspec_l) # learning from hidden to output\n",
    "\n",
    "out_hidden_conn = leabra.Connection(output_layer, hidden_layer, spec=conspec_l) # learning from output to hidden\n",
    "\n",
    "inp_out_conn = leabra.Connection(input_layer, output_layer, spec=conspec_l)"
   ]
  },
  {
   "cell_type": "code",
   "execution_count": 310,
   "metadata": {},
   "outputs": [],
   "source": [
    "# [inp_hidden_conn, hidden_out_conn]\n",
    "# [inp_out_conn]\n",
    "network = leabra.Network(layers=[input_layer, hidden_layer, output_layer], connections=[inp_hidden_conn, hidden_out_conn, out_hidden_conn])\n",
    "network.build()"
   ]
  },
  {
   "cell_type": "code",
   "execution_count": 182,
   "metadata": {},
   "outputs": [],
   "source": [
    "def event(k, network):\n",
    "    \"\"\"Run a minus phase and a plus phase for a given input/output pair\"\"\"\n",
    "    inputs = input_pats[k]\n",
    "    outputs = output_pats[k]\n",
    "    # inputs  = np.zeros(inputsize) #[0.0, 0.0, 0.0, 0.0]\n",
    "    # outputs = np.zeros(outputsize) # [0.0, 0.0]\n",
    "    # inputs[k] = 1.0\n",
    "    # outputs[int(k/2)] = 1.0  # desired output\n",
    "\n",
    "    network.set_inputs({'input_layer': inputs})\n",
    "    network.set_outputs({'output_layer': outputs})\n",
    "\n",
    "    # minus phase\n",
    "    for _ in range(3):\n",
    "        network.quarter()\n",
    "        # print('g_e', [u.g_e for u in output_layer.units])\n",
    "        # print('v_m', [u.v_m for u in output_layer.units])\n",
    "        # print('v_m_eq', [u.v_m_eq for u in output_layer.units])\n",
    "        # print('act', output_layer.activities)\n",
    "        # print(input_layer.activities)\n",
    "        # print([u.avg_s_eff for u in input_layer.units])\n",
    "        \n",
    "    error = sum((np.array(output_layer.activities) - outputs)**2) \n",
    "\n",
    "    # plus phase: the output is set directly\n",
    "    network.quarter()\n",
    "    \n",
    "    return error"
   ]
  },
  {
   "cell_type": "code",
   "execution_count": 183,
   "metadata": {
    "tags": []
   },
   "outputs": [
    {
     "output_type": "stream",
     "name": "stdout",
     "text": "[<leabra.connection.Connection object at 0x7f888eba3190>, <leabra.connection.Connection object at 0x7f8895a1ee50>]\n"
    }
   ],
   "source": [
    "inp_hidden_conn.weights\n",
    "print(output_layer.to_connections)"
   ]
  },
  {
   "cell_type": "code",
   "execution_count": 148,
   "metadata": {},
   "outputs": [
    {
     "output_type": "execute_result",
     "data": {
      "text/plain": "2.460662913447386"
     },
     "metadata": {},
     "execution_count": 148
    }
   ],
   "source": [
    "event(0, network)"
   ]
  },
  {
   "cell_type": "code",
   "execution_count": 150,
   "metadata": {},
   "outputs": [],
   "source": [
    "def trial():\n",
    "    sse = 0.0\n",
    "    for i in range(numpatterns):\n",
    "      sse += event(i, network)  \n",
    "    # sse += event(0, network)\n",
    "    # sse += event(1, network)\n",
    "    # sse += event(2, network)\n",
    "    # sse += event(3, network)\n",
    "    return sse / numpatterns"
   ]
  },
  {
   "cell_type": "code",
   "execution_count": 184,
   "metadata": {
    "tags": []
   },
   "outputs": [],
   "source": [
    "err = [trial() for _ in range(200)]"
   ]
  },
  {
   "cell_type": "code",
   "execution_count": null,
   "metadata": {},
   "outputs": [],
   "source": [
    "conn.weights"
   ]
  },
  {
   "cell_type": "code",
   "execution_count": 185,
   "metadata": {},
   "outputs": [
    {
     "output_type": "display_data",
     "data": {
      "text/html": "\n\n\n\n\n\n  <div class=\"bk-root\" id=\"edd52444-406c-48b6-98b8-e81a4d123c87\" data-root-id=\"4592\"></div>\n"
     },
     "metadata": {}
    },
    {
     "output_type": "display_data",
     "data": {
      "application/javascript": "(function(root) {\n  function embed_document(root) {\n    \n  const docs_json = {\"de283cb4-78a3-40fe-ac11-31ba48b5e885\":{\"defs\":[],\"roots\":{\"references\":[{\"attributes\":{\"below\":[{\"id\":\"4603\"}],\"center\":[{\"id\":\"4606\"},{\"id\":\"4610\"},{\"id\":\"4630\"}],\"height\":400,\"left\":[{\"id\":\"4607\"}],\"min_border_bottom\":35,\"min_border_left\":35,\"min_border_right\":35,\"min_border_top\":35,\"renderers\":[{\"id\":\"4619\"}],\"title\":{\"id\":\"4593\"},\"toolbar\":{\"id\":\"4612\"},\"toolbar_location\":null,\"x_range\":{\"id\":\"4595\"},\"x_scale\":{\"id\":\"4599\"},\"y_range\":{\"id\":\"4597\"},\"y_scale\":{\"id\":\"4601\"}},\"id\":\"4592\",\"subtype\":\"Figure\",\"type\":\"Plot\"},{\"attributes\":{},\"id\":\"4608\",\"type\":\"BasicTicker\"},{\"attributes\":{},\"id\":\"4629\",\"type\":\"Selection\"},{\"attributes\":{},\"id\":\"4627\",\"type\":\"AllLabels\"},{\"attributes\":{},\"id\":\"4624\",\"type\":\"AllLabels\"},{\"attributes\":{},\"id\":\"4626\",\"type\":\"BasicTickFormatter\"},{\"attributes\":{\"coordinates\":null,\"group\":null,\"text\":\"Average error over trials\"},\"id\":\"4593\",\"type\":\"Title\"},{\"attributes\":{},\"id\":\"4597\",\"type\":\"DataRange1d\"},{\"attributes\":{\"axis\":{\"id\":\"4603\"},\"coordinates\":null,\"grid_line_color\":null,\"group\":null,\"ticker\":null},\"id\":\"4606\",\"type\":\"Grid\"},{\"attributes\":{\"coordinates\":null,\"data_source\":{\"id\":\"4615\"},\"glyph\":{\"id\":\"4616\"},\"group\":null,\"hover_glyph\":null,\"muted_glyph\":{\"id\":\"4618\"},\"nonselection_glyph\":{\"id\":\"4617\"},\"view\":{\"id\":\"4620\"}},\"id\":\"4619\",\"type\":\"GlyphRenderer\"},{\"attributes\":{\"label\":{\"value\":\"None\"},\"renderers\":[{\"id\":\"4619\"}]},\"id\":\"4631\",\"type\":\"LegendItem\"},{\"attributes\":{\"logo\":null,\"tools\":[{\"id\":\"4611\"}]},\"id\":\"4612\",\"type\":\"Toolbar\"},{\"attributes\":{},\"id\":\"4628\",\"type\":\"UnionRenderers\"},{\"attributes\":{},\"id\":\"4599\",\"type\":\"LinearScale\"},{\"attributes\":{\"axis\":{\"id\":\"4607\"},\"coordinates\":null,\"dimension\":1,\"grid_line_color\":null,\"group\":null,\"ticker\":null},\"id\":\"4610\",\"type\":\"Grid\"},{\"attributes\":{\"coordinates\":null,\"group\":null,\"items\":[{\"id\":\"4631\"}]},\"id\":\"4630\",\"type\":\"Legend\"},{\"attributes\":{},\"id\":\"4595\",\"type\":\"DataRange1d\"},{\"attributes\":{\"coordinates\":null,\"formatter\":{\"id\":\"4626\"},\"group\":null,\"major_label_policy\":{\"id\":\"4627\"},\"major_tick_in\":0,\"minor_tick_line_color\":null,\"ticker\":{\"id\":\"4604\"}},\"id\":\"4603\",\"type\":\"LinearAxis\"},{\"attributes\":{},\"id\":\"4611\",\"type\":\"SaveTool\"},{\"attributes\":{\"coordinates\":null,\"formatter\":{\"id\":\"4623\"},\"group\":null,\"major_label_policy\":{\"id\":\"4624\"},\"major_tick_in\":0,\"minor_tick_line_color\":null,\"ticker\":{\"id\":\"4608\"}},\"id\":\"4607\",\"type\":\"LinearAxis\"},{\"attributes\":{\"line_color\":\"#00a0b0\",\"x\":{\"field\":\"x\"},\"y\":{\"field\":\"y\"}},\"id\":\"4616\",\"type\":\"Line\"},{\"attributes\":{},\"id\":\"4601\",\"type\":\"LinearScale\"},{\"attributes\":{\"data\":{\"x\":[0,1,2,3,4,5,6,7,8,9,10,11,12,13,14,15,16,17,18,19,20,21,22,23,24,25,26,27,28,29,30,31,32,33,34,35,36,37,38,39,40,41,42,43,44,45,46,47,48,49,50,51,52,53,54,55,56,57,58,59,60,61,62,63,64,65,66,67,68,69,70,71,72,73,74,75,76,77,78,79,80,81,82,83,84,85,86,87,88,89,90,91,92,93,94,95,96,97,98,99,100,101,102,103,104,105,106,107,108,109,110,111,112,113,114,115,116,117,118,119,120,121,122,123,124,125,126,127,128,129,130,131,132,133,134,135,136,137,138,139,140,141,142,143,144,145,146,147,148,149,150,151,152,153,154,155,156,157,158,159,160,161,162,163,164,165,166,167,168,169,170,171,172,173,174,175,176,177,178,179,180,181,182,183,184,185,186,187,188,189,190,191,192,193,194,195,196,197,198,199],\"y\":[1.705653631338682,1.6943339161588005,1.6827518885561135,1.6705777102881534,1.6577901226219218,1.6443726369547118,1.6304405774127122,1.6159733652165924,1.6011981933287212,1.5862810660851703,1.571181385426781,1.5561388779809326,1.5412697050248383,1.5267160634330734,1.5126465673314333,1.4988340680672279,1.4854051556783303,1.4723949557676395,1.4599058143747166,1.4480108012139836,1.4368660327958376,1.4265113690175801,1.4170483571487955,1.408463690938488,1.4008367205231345,1.39381340492206,1.387655424285836,1.3820775087556616,1.377111910713661,1.372676697689742,1.3687594389211544,1.3652202242126616,1.362062487805298,1.3592922186808054,1.357142885783155,1.3556171804286676,1.354894524109671,1.354971034179132,1.3557042205593397,1.3571294512877976,1.3591527469045555,1.3616377577254641,1.364458581260986,1.3674999973313318,1.3706816325939717,1.3738509817597016,1.3769746927722806,1.380036187888213,1.3830842337524234,1.3861816955505795,1.389426603618575,1.3926783492939006,1.3960510380468496,1.399429410629955,1.4025663060865443,1.405280340524238,1.4072137492539607,1.4083195094712626,1.408219176009516,1.4070144114831429,1.4046850463575042,1.401361123047669,1.3971832045216228,1.392237411098983,1.3868451688398182,1.3812060444092413,1.3754133491036,1.3696383155629008,1.364098333418542,1.3587646402445497,1.3538269914122183,1.3492726962243535,1.3451775929102716,1.341629439136971,1.3386036804769854,1.3361210264618189,1.334403537663944,1.333526947602465,1.333291531524583,1.333606229419552,1.33439664949714,1.3357358292011594,1.3375505019401668,1.3395923787498967,1.3417815905128903,1.3440250916116125,1.3462161587779302,1.3483744872730983,1.3503226995606266,1.3519625339466854,1.3532892532384997,1.3542648497013285,1.3548991351376287,1.3551662037829315,1.3548267462872023,1.3534153554202917,1.351663287561915,1.3496498357504552,1.3473916272636064,1.3448150406333794,1.3420982896210474,1.3392299611407301,1.3362047962137393,1.333148667149782,1.3299954797353009,1.3268915758885724,1.3241770930795922,1.321550440834126,1.3189951082666966,1.3165655035428432,1.3142984123284558,1.3121772202067379,1.3102196042111864,1.3083711542154544,1.3066717440695943,1.3051446267814457,1.3037525256221278,1.3024123133781473,1.3011133730327171,1.2998908428483273,1.2986892729615793,1.2975566306053736,1.2964534768650697,1.295427261764997,1.2943930427250405,1.2920813985128285,1.289769386094577,1.2874809999386398,1.2852107621329205,1.2829466098507536,1.2806694752626986,1.2783719607140132,1.2760782615681783,1.2737990089361246,1.2715330834566265,1.2693139919345833,1.2671888519190382,1.2651039000121447,1.263058952716263,1.2610301023553712,1.2590033101582896,1.256997233711033,1.255083934155499,1.2531876207279264,1.2360703497445595,1.2359983919152446,1.232461522084911,1.2309530979808048,1.2292591241699407,1.2275566624916001,1.2256226497396616,1.2234880090877942,1.2212973026563874,1.2191033025227185,1.216927754097025,1.2148485081527105,1.2128505455312002,1.2107996779872492,1.2087468899011267,1.2067268252588563,1.2047278252188693,1.202750262905694,1.2008774062419973,1.199086299853474,1.1973064659847235,1.1955296211370525,1.1936866101113668,1.1919696407041813,1.190271200478517,1.1886856137834483,1.1871303229736865,1.1856154669360928,1.1841573175950195,1.182735045289822,1.1813536975484542,1.180045715304526,1.1787773051981774,1.1775490143144327,1.1763659538274518,1.1752216493519627,1.1741148237231875,1.173072296720936,1.1720958763364808,1.17115051182903,1.1702385176089094,1.1693474183894428,1.168479401167398,1.1676329171236786,1.1668188448207673,1.166079400671912,1.1653522451119964,1.1646323070194076,1.1639299502178686,1.1632382930054228,1.1625540960577792,1.1618751469993223,1.1612549606037175,1.1606359638345078,1.1600198701682156,1.1594056266395878]},\"selected\":{\"id\":\"4629\"},\"selection_policy\":{\"id\":\"4628\"}},\"id\":\"4615\",\"type\":\"ColumnDataSource\"},{\"attributes\":{\"line_alpha\":0.2,\"line_color\":\"#00a0b0\",\"x\":{\"field\":\"x\"},\"y\":{\"field\":\"y\"}},\"id\":\"4618\",\"type\":\"Line\"},{\"attributes\":{},\"id\":\"4604\",\"type\":\"BasicTicker\"},{\"attributes\":{\"source\":{\"id\":\"4615\"}},\"id\":\"4620\",\"type\":\"CDSView\"},{\"attributes\":{\"line_alpha\":0.1,\"line_color\":\"#00a0b0\",\"x\":{\"field\":\"x\"},\"y\":{\"field\":\"y\"}},\"id\":\"4617\",\"type\":\"Line\"},{\"attributes\":{},\"id\":\"4623\",\"type\":\"BasicTickFormatter\"}],\"root_ids\":[\"4592\"]},\"title\":\"Bokeh Application\",\"version\":\"2.4.2\"}};\n  const render_items = [{\"docid\":\"de283cb4-78a3-40fe-ac11-31ba48b5e885\",\"root_ids\":[\"4592\"],\"roots\":{\"4592\":\"edd52444-406c-48b6-98b8-e81a4d123c87\"}}];\n  root.Bokeh.embed.embed_items_notebook(docs_json, render_items);\n\n  }\n  if (root.Bokeh !== undefined) {\n    embed_document(root);\n  } else {\n    let attempts = 0;\n    const timer = setInterval(function(root) {\n      if (root.Bokeh !== undefined) {\n        clearInterval(timer);\n        embed_document(root);\n      } else {\n        attempts++;\n        if (attempts > 100) {\n          clearInterval(timer);\n          console.log(\"Bokeh: ERROR: Unable to run BokehJS code because BokehJS library is missing\");\n        }\n      }\n    }, 10, root)\n  }\n})(window);",
      "application/vnd.bokehjs_exec.v0+json": ""
     },
     "metadata": {
      "application/vnd.bokehjs_exec.v0+json": {
       "id": "4592"
      }
     }
    }
   ],
   "source": [
    "graphs.line(range(len(err)), err, title=\"Average error over trials\", width=600)"
   ]
  },
  {
   "cell_type": "code",
   "execution_count": 179,
   "metadata": {},
   "outputs": [
    {
     "output_type": "execute_result",
     "data": {
      "text/plain": "1.8053570178876517"
     },
     "metadata": {},
     "execution_count": 179
    }
   ],
   "source": [
    "max(err)"
   ]
  },
  {
   "cell_type": "code",
   "execution_count": 326,
   "metadata": {
    "tags": []
   },
   "outputs": [
    {
     "output_type": "stream",
     "name": "stdout",
     "text": "(1.0, 2.0)\n(1.0, 2.0)\n(1.0, 2.0)\n"
    }
   ],
   "source": [
    "ta = np.ones(3)\n",
    "tb = 2*np.ones(3)\n",
    "c = zip(ta,tb)\n",
    "for i in c: print(i)"
   ]
  },
  {
   "cell_type": "code",
   "execution_count": 329,
   "metadata": {},
   "outputs": [],
   "source": [
    "def hamming_dist(a, b):\n",
    "    \"\"\"Count the number of  different ixes\"\"\"\n",
    "    assert len(a)==len(b), 'len a: ' + str(len(a)) + ' != len(b): ' + str(len(b))\n",
    "    ctr = 0\n",
    "    for i in zip(a,b):\n",
    "        if i[0]==0 and i[1] != 0 or i[0] > 0 and i[1] == 0 : ctr+=1\n",
    "    return ctr\n"
   ]
  },
  {
   "cell_type": "code",
   "execution_count": 333,
   "metadata": {},
   "outputs": [
    {
     "output_type": "execute_result",
     "data": {
      "text/plain": "1"
     },
     "metadata": {},
     "execution_count": 333
    }
   ],
   "source": [
    "ta = [0.,1.,0.]\n",
    "tb = [1., 1., 0]\n",
    "hamming_dist(ta, tb)"
   ]
  },
  {
   "cell_type": "code",
   "execution_count": 334,
   "metadata": {},
   "outputs": [],
   "source": [
    "def event_vec(inputs, outputs, network):\n",
    "    network.set_inputs({'input_layer': inputs})\n",
    "    network.set_outputs({'output_layer': outputs})\n",
    "\n",
    "    # minus phase\n",
    "    for _ in range(3):\n",
    "        network.quarter()\n",
    "        # print('g_e', [u.g_e for u in output_layer.units])\n",
    "        # print('v_m', [u.v_m for u in output_layer.units])\n",
    "        # print('v_m_eq', [u.v_m_eq for u in output_layer.units])\n",
    "        # print('act', output_layer.activities)\n",
    "        # print(input_layer.activities)\n",
    "        # print([u.avg_s_eff for u in input_layer.units])\n",
    "        \n",
    "    error = sum((np.array(output_layer.activities) - outputs)**2) \n",
    "    hd = hamming_dist(output_layer.activities, outputs)\n",
    "    # print (output_layer.activities)\n",
    "    out_act = output_layer.activities\n",
    "    # plus phase: the output is set directly\n",
    "    network.quarter()\n",
    "    \n",
    "    return (error, out_act, hd)"
   ]
  },
  {
   "cell_type": "code",
   "execution_count": 335,
   "metadata": {},
   "outputs": [],
   "source": [
    "def trial_vec(inputs, outputs):\n",
    "    sse = 0.0\n",
    "    act_mat = []\n",
    "    hd_mn = 0.0\n",
    "    for i in range(inputs.shape[0]):\n",
    "        (err, act, hd) = event_vec(inputs[i], outputs[i], network)\n",
    "        sse += err\n",
    "        hd_mn += hd\n",
    "        act_mat.append(act)\n",
    "\n",
    "    # print()\n",
    "    return (sse / inputs.shape[0], act_mat, hd_mn / inputs.shape[0])\n"
   ]
  },
  {
   "cell_type": "code",
   "execution_count": 336,
   "metadata": {
    "tags": []
   },
   "outputs": [],
   "source": [
    "rows = 2\n",
    "cols = inputsize\n",
    "hots = 2\n",
    "inp = generate_unique_patterns(rows, cols, hots)\n",
    "outp = generate_unique_patterns(rows, cols, hots)\n",
    "err_act = [trial_vec(inp, outp) for _ in range(400)]\n",
    "\n",
    "out_acts = []\n",
    "err = []\n",
    "hds = []\n",
    "for e in err_act:\n",
    "    out_acts.append(e[1])\n",
    "    err.append(e[0])\n",
    "    hds.append(e[2])\n",
    "\n",
    "o = np.array(out_acts)\n"
   ]
  },
  {
   "cell_type": "code",
   "execution_count": 337,
   "metadata": {},
   "outputs": [
    {
     "output_type": "execute_result",
     "data": {
      "text/plain": "array([[1., 0., 0., 0., 1.],\n       [0., 1., 0., 1., 0.]])"
     },
     "metadata": {},
     "execution_count": 337
    }
   ],
   "source": [
    "outp"
   ]
  },
  {
   "cell_type": "code",
   "execution_count": 340,
   "metadata": {},
   "outputs": [
    {
     "output_type": "display_data",
     "data": {
      "text/html": "\n\n\n\n\n\n  <div class=\"bk-root\" id=\"26ea9ef5-1b29-4edb-a404-aba7144ff8b0\" data-root-id=\"57309\"></div>\n"
     },
     "metadata": {}
    },
    {
     "output_type": "display_data",
     "data": {
      "application/javascript": "(function(root) {\n  function embed_document(root) {\n    \n  const docs_json = {\"42c053e9-c9bc-4948-85aa-2c58be66bfd3\":{\"defs\":[],\"roots\":{\"references\":[{\"attributes\":{\"below\":[{\"id\":\"57320\"}],\"center\":[{\"id\":\"57323\"},{\"id\":\"57327\"},{\"id\":\"57347\"}],\"height\":400,\"left\":[{\"id\":\"57324\"}],\"min_border_bottom\":35,\"min_border_left\":35,\"min_border_right\":35,\"min_border_top\":35,\"renderers\":[{\"id\":\"57336\"}],\"title\":{\"id\":\"57310\"},\"toolbar\":{\"id\":\"57329\"},\"toolbar_location\":null,\"x_range\":{\"id\":\"57312\"},\"x_scale\":{\"id\":\"57316\"},\"y_range\":{\"id\":\"57314\"},\"y_scale\":{\"id\":\"57318\"}},\"id\":\"57309\",\"subtype\":\"Figure\",\"type\":\"Plot\"},{\"attributes\":{},\"id\":\"57325\",\"type\":\"BasicTicker\"},{\"attributes\":{\"line_alpha\":0.1,\"line_color\":\"#00a0b0\",\"x\":{\"field\":\"x\"},\"y\":{\"field\":\"y\"}},\"id\":\"57334\",\"type\":\"Line\"},{\"attributes\":{},\"id\":\"57341\",\"type\":\"AllLabels\"},{\"attributes\":{},\"id\":\"57314\",\"type\":\"DataRange1d\"},{\"attributes\":{},\"id\":\"57345\",\"type\":\"UnionRenderers\"},{\"attributes\":{\"axis\":{\"id\":\"57324\"},\"coordinates\":null,\"dimension\":1,\"grid_line_color\":null,\"group\":null,\"ticker\":null},\"id\":\"57327\",\"type\":\"Grid\"},{\"attributes\":{\"coordinates\":null,\"group\":null,\"text\":\"Average error over trials\"},\"id\":\"57310\",\"type\":\"Title\"},{\"attributes\":{},\"id\":\"57316\",\"type\":\"LinearScale\"},{\"attributes\":{},\"id\":\"57343\",\"type\":\"BasicTickFormatter\"},{\"attributes\":{\"axis\":{\"id\":\"57320\"},\"coordinates\":null,\"grid_line_color\":null,\"group\":null,\"ticker\":null},\"id\":\"57323\",\"type\":\"Grid\"},{\"attributes\":{},\"id\":\"57346\",\"type\":\"Selection\"},{\"attributes\":{\"source\":{\"id\":\"57332\"}},\"id\":\"57337\",\"type\":\"CDSView\"},{\"attributes\":{\"label\":{\"value\":\"None\"},\"renderers\":[{\"id\":\"57336\"}]},\"id\":\"57348\",\"type\":\"LegendItem\"},{\"attributes\":{\"line_color\":\"#00a0b0\",\"x\":{\"field\":\"x\"},\"y\":{\"field\":\"y\"}},\"id\":\"57333\",\"type\":\"Line\"},{\"attributes\":{\"logo\":null,\"tools\":[{\"id\":\"57328\"}]},\"id\":\"57329\",\"type\":\"Toolbar\"},{\"attributes\":{\"line_alpha\":0.2,\"line_color\":\"#00a0b0\",\"x\":{\"field\":\"x\"},\"y\":{\"field\":\"y\"}},\"id\":\"57335\",\"type\":\"Line\"},{\"attributes\":{},\"id\":\"57318\",\"type\":\"LinearScale\"},{\"attributes\":{},\"id\":\"57344\",\"type\":\"AllLabels\"},{\"attributes\":{\"coordinates\":null,\"group\":null,\"items\":[{\"id\":\"57348\"}]},\"id\":\"57347\",\"type\":\"Legend\"},{\"attributes\":{},\"id\":\"57340\",\"type\":\"BasicTickFormatter\"},{\"attributes\":{},\"id\":\"57328\",\"type\":\"SaveTool\"},{\"attributes\":{\"data\":{\"x\":[0,1,2,3,4,5,6,7,8,9,10,11,12,13,14,15,16,17,18,19,20,21,22,23,24,25,26,27,28,29,30,31,32,33,34,35,36,37,38,39,40,41,42,43,44,45,46,47,48,49,50,51,52,53,54,55,56,57,58,59,60,61,62,63,64,65,66,67,68,69,70,71,72,73,74,75,76,77,78,79,80,81,82,83,84,85,86,87,88,89,90,91,92,93,94,95,96,97,98,99,100,101,102,103,104,105,106,107,108,109,110,111,112,113,114,115,116,117,118,119,120,121,122,123,124,125,126,127,128,129,130,131,132,133,134,135,136,137,138,139,140,141,142,143,144,145,146,147,148,149,150,151,152,153,154,155,156,157,158,159,160,161,162,163,164,165,166,167,168,169,170,171,172,173,174,175,176,177,178,179,180,181,182,183,184,185,186,187,188,189,190,191,192,193,194,195,196,197,198,199,200,201,202,203,204,205,206,207,208,209,210,211,212,213,214,215,216,217,218,219,220,221,222,223,224,225,226,227,228,229,230,231,232,233,234,235,236,237,238,239,240,241,242,243,244,245,246,247,248,249,250,251,252,253,254,255,256,257,258,259,260,261,262,263,264,265,266,267,268,269,270,271,272,273,274,275,276,277,278,279,280,281,282,283,284,285,286,287,288,289,290,291,292,293,294,295,296,297,298,299,300,301,302,303,304,305,306,307,308,309,310,311,312,313,314,315,316,317,318,319,320,321,322,323,324,325,326,327,328,329,330,331,332,333,334,335,336,337,338,339,340,341,342,343,344,345,346,347,348,349,350,351,352,353,354,355,356,357,358,359,360,361,362,363,364,365,366,367,368,369,370,371,372,373,374,375,376,377,378,379,380,381,382,383,384,385,386,387,388,389,390,391,392,393,394,395,396,397,398,399],\"y\":[1.821032413032336,1.8218698352792557,1.822658519871953,1.8231719277848668,1.8230062237854239,1.8215557999776097,1.8182562469572412,1.8130374796393485,1.8064770476546084,1.7994812144432024,1.7925398690066934,1.785769585414872,1.7792813948972503,1.773174726742489,1.7674632568322215,1.7619971510981398,1.7562170529693708,1.7519532243882427,1.750731846187663,1.7499278969319352,1.7493222717809775,1.748808160341807,1.7483432381225783,1.7479071945566642,1.7474817163821097,1.747050038747434,1.7465861327576684,1.7461081201178539,1.7455936059101909,1.7450620476019878,1.7444961435698223,1.7439108018171017,1.743288041692963,1.7426680332190208,1.7420137632267951,1.7412996903063636,1.7405569041459037,1.7397581464093332,1.7390146586217665,1.7382254934366204,1.737415507737145,1.7366079642344587,1.735570592351364,1.7344982788383592,1.7342012186605151,1.732866375118594,1.7316889218050853,1.7304494243342008,1.728515929154396,1.728969220209386,1.7281596119941725,1.7273537659347364,1.7264588687985054,1.7245683489360277,1.7248904240690583,1.7241914733648533,1.723449709279464,1.7227248427815856,1.7208907942503913,1.7201973172701344,1.7205657518927655,1.7198359335044788,1.7191908087081331,1.7186578031939816,1.716355363284072,1.7167379021823117,1.716076392267281,1.7156404623803299,1.7084105698704573,1.7182667464570867,1.7116242816587073,1.7147483368374614,1.712457520809168,1.7102041916595891,1.6923840823460334,1.7324254073863783,1.6551796159621066,1.654895797015654,1.6038138113537515,1.6977563440709273,1.7087548970101643,1.6821710538084362,1.6976597848084254,1.6937060986565453,1.7060883710319676,1.6838923325414474,1.7187048413519461,1.7112807050230723,1.7109718545218975,1.7106627476326266,1.710087865226054,1.7329199874962362,1.7326194166460755,1.7322163792413456,1.7319247321493756,1.7316372251701109,1.7313540931195548,1.7310754327483562,1.730801666856285,1.7305298011995562,1.730258877305179,1.729993041702795,1.7248508101401534,1.7245811712591728,1.7060707790671024,1.7058100566536598,1.7055552624393862,1.705308532161794,1.732564361440426,1.732343801215368,1.7321279929678468,1.7239070400219583,1.7236632611310354,1.7234240732469193,1.7310775417450297,1.730876727740895,1.7306784185085187,1.730481694772419,1.7302851375670967,1.7300866532492725,1.7218465759371133,1.721602519368846,1.7213461272799249,1.7210738578155063,1.7207804747906406,1.7204604590782473,1.7200836054023505,1.7196564969729775,1.7191780835843287,1.7186205661309084,1.7179559630928465,1.717229505279854,1.7163670985622406,1.7153890730076862,1.7143290918609886,1.7130663237548869,1.7117707630682957,1.7102124751026182,1.7086410259908655,1.7068072560636864,1.7049313757523876,1.7028816690051198,1.7006695406770793,1.6984896443431534,1.6959470347364873,1.6934279227601854,1.7005248149367824,1.6978773121492967,1.695276704278406,1.6927213299017725,1.6899361990683766,1.6871275925340035,1.6843648719378352,1.6816667982113516,1.6787255350720471,1.6757967401613727,1.6729567260947795,1.670297894301377,1.667494174068846,1.6645603109086264,1.6616688023597668,1.658833526091549,1.6560773528996788,1.6534115705729744,1.6287034710621842,1.6256172911633489,1.5133782675901246,1.5216703760505008,1.51811923607496,1.5942566099057083,1.5914519710584254,1.52725656806281,1.4808415638419925,1.5101448901700727,1.5071596256167927,1.5048138448268906,1.5019882449951072,1.4991090339443,1.5221029013491307,1.4905302877132023,1.4879151660851893,1.514831060423845,1.512500693052535,1.481126443908345,1.4787720440398529,1.476487791369255,1.5035890845157773,1.501554272644908,1.4996866099910608,1.5016101118112977,1.4996892213751376,1.4978657817072079,1.496126181803287,1.4944494622499709,1.4928324125300017,1.4912735778638306,1.4815438733720367,1.5262866962264368,1.524949622127447,1.5230860269561624,1.5350612016216338,1.5338669651178145,1.5327131156968314,1.531596392747389,1.5305157367247915,1.529465318572934,1.5284470112742572,1.5274503374865254,1.5264847564707078,1.525549239534195,1.5398672424936783,1.5389967704084047,1.5381529745378084,1.5373347612119574,1.536541388387786,1.535772219998249,1.5350262390326368,1.5343026022662978,1.5183172871751291,1.5329247442678207,1.5169768875084968,1.5163089569584522,1.515682575010862,1.5150743583601736,1.5297618510837754,1.5291916295987762,1.5286386445562634,1.5281013791244291,1.5275793203161234,1.5270740875496167,1.526579608387869,1.488821329371193,1.4883544971109002,1.4879031227155306,1.4874627085373369,1.4870317201599326,1.4866046241734023,1.486261094127981,1.4859598962385467,1.4856664374438247,1.4853889467757173,1.4851103532060055,1.4848387184104357,1.484573723639364,1.2631480355622766,1.2629202668366033,1.2626980796648,1.2624923158717232,1.2622807447392255,1.262074257333953,1.2618726800262805,1.2616758516203221,1.2614841487250807,1.2612969140475556,1.2611139762060675,1.2609352057533103,1.260760454686032,1.260589595346486,1.2604225024088194,1.2602590566997915,1.2600991431136932,1.2599426416116697,1.259789449540005,1.2596394518596457,1.2594925435193476,1.2593486365907811,1.2592076348395782,1.4530173454464776,1.452853722932283,1.4526935025007308,1.508295994049111,1.508150674480192,1.5080082059130313,1.5078685060934354,1.5077314796131236,1.5075970320476857,1.4516002315457153,1.451463079670419,1.4513284186266722,1.4511961518440297,1.451066208547816,1.4509385124759866,1.4508129832737566,1.4506895510532523,1.4505681401583848,1.450448680465211,1.4503311111729087,1.4502153639692468,1.450101377339332,1.449989090917466,1.3178282863294133,1.3177388828225252,1.3176508314212931,1.3175640826358777,1.3174785911105427,1.3173943116722062,1.317234552737722,1.3171524940579493,1.3170715283216432,1.3169916204566867,1.3169127351202314,1.3167654240084432,1.3166884891167818,1.3166125281671768,1.3165374614700442,1.3164632592562366,1.316389887106065,1.3163173159456993,1.3162455191729772,1.3161744735001752,1.3161041438529408,1.3160344916780726,1.3159655012605187,1.3158971532332155,1.3158294246475573,1.3663250400943492,1.3662533378039465,1.3661821939934,1.3661115876278893,1.366041496866323,1.3659718912885352,1.3659027619159003,1.3658340658192087,1.365766431913653,1.3656992813029865,1.3656325281396247,1.3655661542662112,1.365500123702852,1.3654344356201547,1.3653690647020658,1.3653040124541411,1.3652392389675034,1.3651747402878809,1.3651105059807,1.3650465219474774,1.3649827738298779,1.364919244893437,1.3648559233516373,1.3647928082860252,1.3647298801298495,1.3646671258107066,1.3646045265963385,1.364542069854756,1.3644797447327461,1.3644175445341171,1.3643554606621304,1.364293483418113,1.364231591704674,1.3641697748576247,1.3641080221060764,1.3640463252838093,1.3639846849121566,1.3639230957751611,1.363861544799998,1.363800011011483,1.363738470937558,1.363676914169476,1.3636153361048935,1.3635537317598971,1.3634920981169019,1.363430421714908,1.363368696706813,1.3631641860143053,1.3631022672610702,1.3630402819150604,1.3629782208475323,1.4417857295676733,1.4417129911566535,1.4416401364563263,1.4415671576008013,1.441494055216355,1.4412500932100698,1.4411759683789165,1.4411016906527252,1.4410272528388473,1.4409526345911652,1.4408778137235516,1.440802822465209,1.4407276522729566,1.4406522879281418,1.4405767271084555,1.4405009711493795,1.3621555947047406,1.3620916286703642,1.440761847191637,1.4406866506886293,1.4406112081858231,1.4405355184582547,1.4404595612051825,1.4403833522606837,1.44030688781191,1.4402301716602544,1.440153194780101,1.440075937373452,1.4399983786660897,1.4399205095602896,1.4398423356415848,1.4397638564790243,1.4396850664695278,1.439605953748075]},\"selected\":{\"id\":\"57346\"},\"selection_policy\":{\"id\":\"57345\"}},\"id\":\"57332\",\"type\":\"ColumnDataSource\"},{\"attributes\":{\"coordinates\":null,\"data_source\":{\"id\":\"57332\"},\"glyph\":{\"id\":\"57333\"},\"group\":null,\"hover_glyph\":null,\"muted_glyph\":{\"id\":\"57335\"},\"nonselection_glyph\":{\"id\":\"57334\"},\"view\":{\"id\":\"57337\"}},\"id\":\"57336\",\"type\":\"GlyphRenderer\"},{\"attributes\":{},\"id\":\"57321\",\"type\":\"BasicTicker\"},{\"attributes\":{\"coordinates\":null,\"formatter\":{\"id\":\"57343\"},\"group\":null,\"major_label_policy\":{\"id\":\"57344\"},\"major_tick_in\":0,\"minor_tick_line_color\":null,\"ticker\":{\"id\":\"57321\"}},\"id\":\"57320\",\"type\":\"LinearAxis\"},{\"attributes\":{\"coordinates\":null,\"formatter\":{\"id\":\"57340\"},\"group\":null,\"major_label_policy\":{\"id\":\"57341\"},\"major_tick_in\":0,\"minor_tick_line_color\":null,\"ticker\":{\"id\":\"57325\"}},\"id\":\"57324\",\"type\":\"LinearAxis\"},{\"attributes\":{},\"id\":\"57312\",\"type\":\"DataRange1d\"}],\"root_ids\":[\"57309\"]},\"title\":\"Bokeh Application\",\"version\":\"2.4.2\"}};\n  const render_items = [{\"docid\":\"42c053e9-c9bc-4948-85aa-2c58be66bfd3\",\"root_ids\":[\"57309\"],\"roots\":{\"57309\":\"26ea9ef5-1b29-4edb-a404-aba7144ff8b0\"}}];\n  root.Bokeh.embed.embed_items_notebook(docs_json, render_items);\n\n  }\n  if (root.Bokeh !== undefined) {\n    embed_document(root);\n  } else {\n    let attempts = 0;\n    const timer = setInterval(function(root) {\n      if (root.Bokeh !== undefined) {\n        clearInterval(timer);\n        embed_document(root);\n      } else {\n        attempts++;\n        if (attempts > 100) {\n          clearInterval(timer);\n          console.log(\"Bokeh: ERROR: Unable to run BokehJS code because BokehJS library is missing\");\n        }\n      }\n    }, 10, root)\n  }\n})(window);",
      "application/vnd.bokehjs_exec.v0+json": ""
     },
     "metadata": {
      "application/vnd.bokehjs_exec.v0+json": {
       "id": "57309"
      }
     }
    }
   ],
   "source": [
    "graphs.line(range(len(err)), err, title=\"Average error over trials\", width=600)"
   ]
  },
  {
   "cell_type": "code",
   "execution_count": 339,
   "metadata": {},
   "outputs": [
    {
     "output_type": "display_data",
     "data": {
      "text/html": "\n\n\n\n\n\n  <div class=\"bk-root\" id=\"feb2c9dc-b542-47e9-b793-75caea2ad9df\" data-root-id=\"56284\"></div>\n"
     },
     "metadata": {}
    },
    {
     "output_type": "display_data",
     "data": {
      "application/javascript": "(function(root) {\n  function embed_document(root) {\n    \n  const docs_json = {\"e9e90488-08a3-47bd-9e14-88d67ea469c1\":{\"defs\":[],\"roots\":{\"references\":[{\"attributes\":{\"below\":[{\"id\":\"56295\"}],\"center\":[{\"id\":\"56298\"},{\"id\":\"56302\"},{\"id\":\"56322\"}],\"height\":400,\"left\":[{\"id\":\"56299\"}],\"min_border_bottom\":35,\"min_border_left\":35,\"min_border_right\":35,\"min_border_top\":35,\"renderers\":[{\"id\":\"56311\"}],\"title\":{\"id\":\"56285\"},\"toolbar\":{\"id\":\"56304\"},\"toolbar_location\":null,\"x_range\":{\"id\":\"56287\"},\"x_scale\":{\"id\":\"56291\"},\"y_range\":{\"id\":\"56289\"},\"y_scale\":{\"id\":\"56293\"}},\"id\":\"56284\",\"subtype\":\"Figure\",\"type\":\"Plot\"},{\"attributes\":{},\"id\":\"56293\",\"type\":\"LinearScale\"},{\"attributes\":{\"logo\":null,\"tools\":[{\"id\":\"56303\"}]},\"id\":\"56304\",\"type\":\"Toolbar\"},{\"attributes\":{},\"id\":\"56316\",\"type\":\"AllLabels\"},{\"attributes\":{\"coordinates\":null,\"group\":null,\"text\":\"Average hamming dist over trials\"},\"id\":\"56285\",\"type\":\"Title\"},{\"attributes\":{\"coordinates\":null,\"formatter\":{\"id\":\"56318\"},\"group\":null,\"major_label_policy\":{\"id\":\"56319\"},\"major_tick_in\":0,\"minor_tick_line_color\":null,\"ticker\":{\"id\":\"56296\"}},\"id\":\"56295\",\"type\":\"LinearAxis\"},{\"attributes\":{\"coordinates\":null,\"formatter\":{\"id\":\"56315\"},\"group\":null,\"major_label_policy\":{\"id\":\"56316\"},\"major_tick_in\":0,\"minor_tick_line_color\":null,\"ticker\":{\"id\":\"56300\"}},\"id\":\"56299\",\"type\":\"LinearAxis\"},{\"attributes\":{},\"id\":\"56289\",\"type\":\"DataRange1d\"},{\"attributes\":{\"axis\":{\"id\":\"56299\"},\"coordinates\":null,\"dimension\":1,\"grid_line_color\":null,\"group\":null,\"ticker\":null},\"id\":\"56302\",\"type\":\"Grid\"},{\"attributes\":{},\"id\":\"56318\",\"type\":\"BasicTickFormatter\"},{\"attributes\":{},\"id\":\"56321\",\"type\":\"Selection\"},{\"attributes\":{},\"id\":\"56320\",\"type\":\"UnionRenderers\"},{\"attributes\":{},\"id\":\"56319\",\"type\":\"AllLabels\"},{\"attributes\":{\"coordinates\":null,\"data_source\":{\"id\":\"56307\"},\"glyph\":{\"id\":\"56308\"},\"group\":null,\"hover_glyph\":null,\"muted_glyph\":{\"id\":\"56310\"},\"nonselection_glyph\":{\"id\":\"56309\"},\"view\":{\"id\":\"56312\"}},\"id\":\"56311\",\"type\":\"GlyphRenderer\"},{\"attributes\":{},\"id\":\"56291\",\"type\":\"LinearScale\"},{\"attributes\":{},\"id\":\"56315\",\"type\":\"BasicTickFormatter\"},{\"attributes\":{\"line_color\":\"#00a0b0\",\"x\":{\"field\":\"x\"},\"y\":{\"field\":\"y\"}},\"id\":\"56308\",\"type\":\"Line\"},{\"attributes\":{\"label\":{\"value\":\"None\"},\"renderers\":[{\"id\":\"56311\"}]},\"id\":\"56323\",\"type\":\"LegendItem\"},{\"attributes\":{\"line_alpha\":0.1,\"line_color\":\"#00a0b0\",\"x\":{\"field\":\"x\"},\"y\":{\"field\":\"y\"}},\"id\":\"56309\",\"type\":\"Line\"},{\"attributes\":{\"data\":{\"x\":[0,1,2,3,4,5,6,7,8,9,10,11,12,13,14,15,16,17,18,19,20,21,22,23,24,25,26,27,28,29,30,31,32,33,34,35,36,37,38,39,40,41,42,43,44,45,46,47,48,49,50,51,52,53,54,55,56,57,58,59,60,61,62,63,64,65,66,67,68,69,70,71,72,73,74,75,76,77,78,79,80,81,82,83,84,85,86,87,88,89,90,91,92,93,94,95,96,97,98,99,100,101,102,103,104,105,106,107,108,109,110,111,112,113,114,115,116,117,118,119,120,121,122,123,124,125,126,127,128,129,130,131,132,133,134,135,136,137,138,139,140,141,142,143,144,145,146,147,148,149,150,151,152,153,154,155,156,157,158,159,160,161,162,163,164,165,166,167,168,169,170,171,172,173,174,175,176,177,178,179,180,181,182,183,184,185,186,187,188,189,190,191,192,193,194,195,196,197,198,199,200,201,202,203,204,205,206,207,208,209,210,211,212,213,214,215,216,217,218,219,220,221,222,223,224,225,226,227,228,229,230,231,232,233,234,235,236,237,238,239,240,241,242,243,244,245,246,247,248,249,250,251,252,253,254,255,256,257,258,259,260,261,262,263,264,265,266,267,268,269,270,271,272,273,274,275,276,277,278,279,280,281,282,283,284,285,286,287,288,289,290,291,292,293,294,295,296,297,298,299,300,301,302,303,304,305,306,307,308,309,310,311,312,313,314,315,316,317,318,319,320,321,322,323,324,325,326,327,328,329,330,331,332,333,334,335,336,337,338,339,340,341,342,343,344,345,346,347,348,349,350,351,352,353,354,355,356,357,358,359,360,361,362,363,364,365,366,367,368,369,370,371,372,373,374,375,376,377,378,379,380,381,382,383,384,385,386,387,388,389,390,391,392,393,394,395,396,397,398,399],\"y\":[2.0,2.0,2.0,2.0,2.0,2.0,2.0,2.0,2.0,2.0,2.0,2.0,2.0,2.0,2.0,2.0,2.0,2.0,2.0,2.0,2.0,2.0,2.0,2.0,2.0,2.0,2.0,2.0,2.0,2.0,2.0,2.0,2.0,2.0,2.0,2.0,2.0,2.0,2.0,2.0,2.0,2.0,2.0,2.0,2.0,2.0,2.0,2.0,2.0,2.0,2.0,2.0,2.0,2.0,2.0,2.0,2.0,2.0,2.0,2.0,2.0,2.0,2.0,2.0,2.0,2.0,2.0,2.0,2.0,2.0,2.0,2.0,2.0,2.0,2.0,2.0,2.0,2.0,2.0,2.0,2.0,2.0,2.0,2.0,2.0,2.0,2.0,2.0,2.0,2.0,2.0,2.0,2.0,2.0,2.0,2.0,2.0,2.0,2.0,2.0,2.0,2.0,2.0,2.0,2.0,2.0,2.0,2.0,2.0,2.0,1.5,1.5,1.5,1.5,1.5,1.5,1.5,1.0,1.0,1.0,1.0,1.0,1.0,1.0,1.0,1.0,1.0,1.0,1.0,1.0,1.0,1.0,1.0,1.0,1.0,1.0,1.0,1.0,1.0,1.0,1.0,1.0,1.0,1.0,1.0,1.0,1.0,1.0,1.0,1.0,1.0,1.0,1.0,1.0,1.0,1.0,1.0,1.0,1.0,1.0,1.0,1.0,1.0,1.0,1.0,1.0,1.0,1.0,1.0,1.0,1.0,1.0,1.0,1.0,1.0,1.0,1.0,1.0,1.0,1.0,1.0,1.0,1.0,1.0,1.0,1.0,1.0,1.0,1.0,1.0,1.0,1.0,1.0,1.0,1.0,1.0,1.0,1.0,1.0,1.0,1.0,1.0,1.0,1.0,1.0,1.0,1.0,1.0,1.0,1.0,1.0,1.0,1.0,1.0,1.0,1.0,1.0,1.0,1.0,1.0,1.0,1.0,1.0,1.0,1.0,1.0,1.0,1.0,1.0,1.0,1.0,1.0,1.0,1.0,1.0,1.0,1.0,1.0,1.0,1.0,1.0,1.0,1.0,1.0,1.0,1.0,1.0,1.0,1.0,1.0,1.0,1.0,1.0,1.0,1.0,1.0,1.0,1.0,1.0,1.0,1.0,1.0,1.0,1.0,1.0,1.0,1.0,1.0,1.0,1.0,1.0,1.0,1.0,1.0,1.0,1.0,1.0,1.0,1.0,1.0,1.0,1.0,1.0,1.0,1.0,1.0,1.0,1.0,1.0,1.0,1.0,1.0,1.0,1.0,1.0,1.0,1.0,1.0,1.0,1.0,1.0,1.0,1.0,1.0,1.0,1.0,1.0,1.0,1.0,1.0,1.0,1.0,1.0,1.0,1.0,1.0,1.0,1.0,1.0,1.0,1.0,1.0,1.0,1.0,1.0,1.0,1.0,1.0,1.0,1.0,1.0,1.0,1.0,1.0,1.0,1.0,1.0,1.0,1.0,1.0,1.0,1.0,1.0,1.0,1.0,1.0,1.0,1.0,1.0,1.0,1.0,1.0,1.0,1.0,1.0,1.0,1.0,1.0,1.0,1.0,1.0,1.0,1.0,1.0,1.0,1.0,1.0,1.0,1.0,1.0,1.0,1.0,1.0,1.0,1.0,1.0,1.0,1.0,1.0,1.0,1.0,1.0,1.0,1.0,1.0,1.0,1.0,1.0,1.0,1.0,1.0,1.0,1.0,1.0,1.0,1.0,1.0,1.0,1.0,1.0]},\"selected\":{\"id\":\"56321\"},\"selection_policy\":{\"id\":\"56320\"}},\"id\":\"56307\",\"type\":\"ColumnDataSource\"},{\"attributes\":{\"coordinates\":null,\"group\":null,\"items\":[{\"id\":\"56323\"}]},\"id\":\"56322\",\"type\":\"Legend\"},{\"attributes\":{\"axis\":{\"id\":\"56295\"},\"coordinates\":null,\"grid_line_color\":null,\"group\":null,\"ticker\":null},\"id\":\"56298\",\"type\":\"Grid\"},{\"attributes\":{},\"id\":\"56300\",\"type\":\"BasicTicker\"},{\"attributes\":{},\"id\":\"56303\",\"type\":\"SaveTool\"},{\"attributes\":{},\"id\":\"56287\",\"type\":\"DataRange1d\"},{\"attributes\":{\"source\":{\"id\":\"56307\"}},\"id\":\"56312\",\"type\":\"CDSView\"},{\"attributes\":{},\"id\":\"56296\",\"type\":\"BasicTicker\"},{\"attributes\":{\"line_alpha\":0.2,\"line_color\":\"#00a0b0\",\"x\":{\"field\":\"x\"},\"y\":{\"field\":\"y\"}},\"id\":\"56310\",\"type\":\"Line\"}],\"root_ids\":[\"56284\"]},\"title\":\"Bokeh Application\",\"version\":\"2.4.2\"}};\n  const render_items = [{\"docid\":\"e9e90488-08a3-47bd-9e14-88d67ea469c1\",\"root_ids\":[\"56284\"],\"roots\":{\"56284\":\"feb2c9dc-b542-47e9-b793-75caea2ad9df\"}}];\n  root.Bokeh.embed.embed_items_notebook(docs_json, render_items);\n\n  }\n  if (root.Bokeh !== undefined) {\n    embed_document(root);\n  } else {\n    let attempts = 0;\n    const timer = setInterval(function(root) {\n      if (root.Bokeh !== undefined) {\n        clearInterval(timer);\n        embed_document(root);\n      } else {\n        attempts++;\n        if (attempts > 100) {\n          clearInterval(timer);\n          console.log(\"Bokeh: ERROR: Unable to run BokehJS code because BokehJS library is missing\");\n        }\n      }\n    }, 10, root)\n  }\n})(window);",
      "application/vnd.bokehjs_exec.v0+json": ""
     },
     "metadata": {
      "application/vnd.bokehjs_exec.v0+json": {
       "id": "56284"
      }
     }
    }
   ],
   "source": [
    "graphs.line(range(len(hds)), hds, title=\"Average hamming dist over trials\", width=600)"
   ]
  },
  {
   "cell_type": "code",
   "execution_count": 291,
   "metadata": {},
   "outputs": [],
   "source": [
    "#palette = [\"f7c1bb\",\"885a5a\",\"353a47\",\"84b082\",\"dc136c\"]\n",
    "palette = [\"264653\",\"2a9d8f\",\"e9c46a\",\"f4a261\",\"e76f51\"]"
   ]
  },
  {
   "cell_type": "code",
   "execution_count": 341,
   "metadata": {},
   "outputs": [
    {
     "output_type": "display_data",
     "data": {
      "text/html": "\n\n\n\n\n\n  <div class=\"bk-root\" id=\"b0b6182e-cd37-46bd-9cc2-141cce950e17\" data-root-id=\"58343\"></div>\n"
     },
     "metadata": {}
    },
    {
     "output_type": "display_data",
     "data": {
      "application/javascript": "(function(root) {\n  function embed_document(root) {\n    \n  const docs_json = {\"fb8a44ba-e09f-4520-9706-4a1f234c9aea\":{\"defs\":[],\"roots\":{\"references\":[{\"attributes\":{\"below\":[{\"id\":\"58352\"}],\"center\":[{\"id\":\"58355\"},{\"id\":\"58359\"},{\"id\":\"58378\"}],\"left\":[{\"id\":\"58356\"}],\"min_border_bottom\":35,\"min_border_left\":35,\"min_border_right\":35,\"min_border_top\":35,\"renderers\":[{\"id\":\"58366\"},{\"id\":\"58384\"},{\"id\":\"58403\"},{\"id\":\"58424\"},{\"id\":\"58447\"}],\"title\":{\"id\":\"58368\"},\"toolbar\":{\"id\":\"58360\"},\"toolbar_location\":null,\"x_range\":{\"id\":\"58344\"},\"x_scale\":{\"id\":\"58348\"},\"y_range\":{\"id\":\"58346\"},\"y_scale\":{\"id\":\"58350\"}},\"id\":\"58343\",\"subtype\":\"Figure\",\"type\":\"Plot\"},{\"attributes\":{\"coordinates\":null,\"data_source\":{\"id\":\"58443\"},\"glyph\":{\"id\":\"58444\"},\"group\":null,\"hover_glyph\":null,\"muted_glyph\":{\"id\":\"58446\"},\"nonselection_glyph\":{\"id\":\"58445\"},\"view\":{\"id\":\"58448\"}},\"id\":\"58447\",\"type\":\"GlyphRenderer\"},{\"attributes\":{\"coordinates\":null,\"data_source\":{\"id\":\"58362\"},\"glyph\":{\"id\":\"58363\"},\"group\":null,\"hover_glyph\":null,\"muted_glyph\":{\"id\":\"58365\"},\"nonselection_glyph\":{\"id\":\"58364\"},\"view\":{\"id\":\"58367\"}},\"id\":\"58366\",\"type\":\"GlyphRenderer\"},{\"attributes\":{\"source\":{\"id\":\"58380\"}},\"id\":\"58385\",\"type\":\"CDSView\"},{\"attributes\":{\"line_color\":\"#e9c46a\",\"line_width\":4,\"x\":{\"field\":\"x\"},\"y\":{\"field\":\"y\"}},\"id\":\"58400\",\"type\":\"Line\"},{\"attributes\":{\"coordinates\":null,\"data_source\":{\"id\":\"58380\"},\"glyph\":{\"id\":\"58381\"},\"group\":null,\"hover_glyph\":null,\"muted_glyph\":{\"id\":\"58383\"},\"nonselection_glyph\":{\"id\":\"58382\"},\"view\":{\"id\":\"58385\"}},\"id\":\"58384\",\"type\":\"GlyphRenderer\"},{\"attributes\":{\"source\":{\"id\":\"58362\"}},\"id\":\"58367\",\"type\":\"CDSView\"},{\"attributes\":{},\"id\":\"58441\",\"type\":\"Selection\"},{\"attributes\":{\"data\":{\"x\":[0,1,2,3,4,5,6,7,8,9,10,11,12,13,14,15,16,17,18,19,20,21,22,23,24,25,26,27,28,29,30,31,32,33,34,35,36,37,38,39,40,41,42,43,44,45,46,47,48,49,50,51,52,53,54,55,56,57,58,59,60,61,62,63,64,65,66,67,68,69,70,71,72,73,74,75,76,77,78,79,80,81,82,83,84,85,86,87,88,89,90,91,92,93,94,95,96,97,98,99,100,101,102,103,104,105,106,107,108,109,110,111,112,113,114,115,116,117,118,119,120,121,122,123,124,125,126,127,128,129,130,131,132,133,134,135,136,137,138,139,140,141,142,143,144,145,146,147,148,149,150,151,152,153,154,155,156,157,158,159,160,161,162,163,164,165,166,167,168,169,170,171,172,173,174,175,176,177,178,179,180,181,182,183,184,185,186,187,188,189,190,191,192,193,194,195,196,197,198,199,200,201,202,203,204,205,206,207,208,209,210,211,212,213,214,215,216,217,218,219,220,221,222,223,224,225,226,227,228,229,230,231,232,233,234,235,236,237,238,239,240,241,242,243,244,245,246,247,248,249,250,251,252,253,254,255,256,257,258,259,260,261,262,263,264,265,266,267,268,269,270,271,272,273,274,275,276,277,278,279,280,281,282,283,284,285,286,287,288,289,290,291,292,293,294,295,296,297,298,299,300,301,302,303,304,305,306,307,308,309,310,311,312,313,314,315,316,317,318,319,320,321,322,323,324,325,326,327,328,329,330,331,332,333,334,335,336,337,338,339,340,341,342,343,344,345,346,347,348,349,350,351,352,353,354,355,356,357,358,359,360,361,362,363,364,365,366,367,368,369,370,371,372,373,374,375,376,377,378,379,380,381,382,383,384,385,386,387,388,389,390,391,392,393,394,395,396,397,398,399],\"y\":{\"__ndarray__\":\"AAAAAAAAAAAAAAAAAAAAAAAAAAAAAAAAAAAAAAAAAAAAAAAAAAAAAAAAAAAAAAAAAAAAAAAAAAAAAAAAAAAAAAAAAAAAAAAAAAAAAAAAAAAAAAAAAAAAAAAAAAAAAAAAAAAAAAAAAAAAAAAAAAAAAAAAAAAAAAAAAAAAAAAAAAAAAAAAAAAAAAAAAAAAAAAAAAAAAAAAAAAAAAAAAAAAAAAAAAAAAAAAAAAAAAAAAAAAAAAAAAAAAAAAAAAAAAAAAAAAAAAAAAAAAAAAAAAAAAAAAAAAAAAAAAAAAAAAAAAAAAAAAAAAAAAAAAAAAAAAAAAAAAAAAAAAAAAAAAAAAAAAAAAAAAAAAAAAAAAAAAAAAAAAAAAAAAAAAAAAAAAAAAAAAAAAAAAAAAAAAAAAAAAAAAAAAAAAAAAAAAAAAAAAAAAAAAAAAAAAAAAAAAAAAAAAAAAAAAAAAAAAAAAAAAAAAAAAAAAAAAAAAAAAAAAAAAAAAAAAAAAAAAAAAAAAAAAAAAAAAAAAAAAAAAAAAAAAAAAAAAAAAAAAAAAAAAAAAAAAAAAAAAAAAAAAAAAAAAAAAAAAAAAAAAAAAAAAAAAAAAAAAAAAAAAAAAAAAAAAAAAAAAAAAAAAAAAAAAAAAAAAAAAAAAAAAAAAAAAAAAAAAAAAAAAAAAAAAAAAAAAAAAAAAAAAAAAAAAAAAAAAAAAAAAAAAAAAAAAAAAAAAAAAAAAAAAAAAAAAAAAAAAAAAAAAAAAAAAAAAAAAAAAAAAAAAAAAAAAAAAAAAAAAAAAAAAAAAAAAAAAAAAAAAAAAAAAAAAAAAAAAAAAAAAAAAAAAAAAAAAAAAAAAAAAAAAAAAAAAAAAAAAAAAAAAAAAAAAAAAAAAAAAAAAAAAAAAAAAAAAAAAAAAAAAAAAAAAAAAAAAAAAAAAAAAAAAAAAAAAAAAAAAAAAAAAAAAAAAAAAAAAAAAAAAAAAAAAAAAAAAAAAAAAAAAAAAAAAAAAAAAAAAAAAAAAAAAAAAAAAAAAAAAAAAAAAAAAAAAAAAAAAAAAAAAAAAAAAAAAAAAAAAAAAAAAAAAAAAAAAAAAAAAAAAAAAAAAAAAAAAAAAAAAAAAAAAAAAAAAAAAAAAAAAAAAAAAAAAAAAAAAAAAAAAAAAAAAAAAAAAAAAAAAAAAAAAAAAAAAAAAAAAAAAAAAAAAAAAAAAAAAAAAAAAAAAAAAAAAAAAAAAAAAAAAAAAAAAAAAAAAAAAAAAAAAAAAAAAAAAAAAAAAAAAAAAAAAAAAAAAAAAAAAAAAAAAAAAAAAAAAAAAAAAAAAAAAAAAAAAAAAAAAAAAAAAAAAAAAAAAAAAAAAAAAAAAAAAAAAAAAAAAAAAAAAAAAAAAAAAAAAAAAAAAAAAAAAAAAAAAAAAAAAAAAAAAAAAAAAAAAAAAAAAAAAAAAAAAAAAAAAAAAAAAAAAAAAAAAAAAAAAAAAAAAAAAAAAAAAAAAAAAAAAAAAAAAAAAAAAAAAAAAAAAAAAAAAAAAAAAAAAAAAAAAAAAAAAAAAAAAAAAAAAAAAAAAAAAAAAAAAAAAAAAAAAAAAAAAAAAAAAAAAAAAAAAAAAAAAAAAAAAAAAAAAAAAAAAAAAAAAAAAAAAAAAAAAAAAAAAAAAAAAAAAAAAAAAAAAAAAAAAAAAAAAAAAAAAAAAAAAAAAAAAAAAAAAAAAAAAAAAAAAAAAAAAAAAAAAAAAAAAAAAAAAAAAAAAAAAAAAAAAAAAAAAAAAAAAAAAAAAAAAAAAAAAAAAAAAAAAAAAAAAAAAAAAAAAAAAAAAAAAAAAAAAAAAAAAAAAAAAAAAAAAAAAAAAAAAAAAAAAAAAAAAAAAAAAAAAAAAAAAAAAAAAAAAAAAAAAAAAAAAAAAAAAAAAAAAAAAAAAAAAAAAAAAAAAAAAAAAAAAAAAAAAAAAAAAAAAAAAAAAAAAAAAAAAAAAAAAAAAAAAAAAAAAAAAAAAAAAAAAAAAAAAAAAAAAAAAAAAAAAAAAAAAAAAAAAAAAAAAAAAAAAAAAAAAAAAAAAAAAAAAAAAAAAAAAAAAAAAAAAAAAAAAAAAAAAAAAAAAAAAAAAAAAAAAAAAAAAAAAAAAAAAAAAAAAAAAAAAAAAAAAAAAAAAAAAAAAAAAAAAAAAAAAAAAAAAAAAAAAAAAAAAAAAAAAAAAAAAAAAAAAAAAAAAAAAAAAAAAAAAAAAAAAAAAAAAAAAAAAAAAAAAAAAAAAAAAAAAAAAAAAAAAAAAAAAAAAAAAAAAAAAAAAAAAAAAAAAAAAAAAAAAAAAAAAAAAAAAAAAAAAAAAAAAAAAAAAAAAAAAAAAAAAAAAAAAAAAAAAAAAAAAAAAAAAAAAAAAAAAAAAAAAAAAAAAAAAAAAAAAAAAAAAAAAAAAAAAAAAAAAAAAAAAAAAAAAAAAAAAAAAAAAAAAAAAAAAAAAAAAAAAAAAAAAAAAAAAAAAAAAAAAAAAAAAAAAAAAAAAAAAAAAAAAAAAAAAAAAAAAAAAAAAAAAAAAAAAAAAAAAAAAAAAAAAAAAAAAAAAAAAAAAAAAAAAAAAAAAAAAAAAAAAAAAAAAAAAAAAAAAAAAAAAAAAAAAAAAAAAAAAAAAAAAAAAAAAAAAAAAAAAAAAAAAAAAAAAAAAAAAAAAAAAAAAAAAAAAAAAAAAAAAAAAAAAAAAAAAAAAAAAAAAAAAAAAAAAAAAAAAAAAAAAAAAAAAAAAAAAAAAAAAAAAAAAAAAAAAAAAAAAAAAAAAAAAAAAAAAAAAAAAAAAAAAAAAAAAAAAAAAAAAAAAAAAAAAAAAAAAAAAAAAAAAAAAAAAAAAAAAAAAAAAAAAAAAAAAAAAAAAAAAAAAAAAAAAAAAAAAAAAAAAAAAAAAAAAAAAAAAAAAAAAAAAAAAAAAAAAAAAAAAAAAAAAAAAAAAAAAAAAAAAAAAAAAAAAAAAAAAAAAAAAAAAAAAAAAAAAAAAAAAAAAAAAAAAAAAAAAAAAAAAAAAAAAAAAAAAAAAAAAAAAAAAAAAAAAAAAAAAAAAAAAAAAAAAAAAAAAAAAAAAAAAAAAAAAAAAAAAAAAAAAAAAAAAAAAAAAAAAAAAAAAAAAAAAAAAAAAAAAAAAAAAAAAAAAAAAAAAAAAAAAAAAAAAAAAAAAAAAAAAAAAAAAAAAAAAAAAAAAAAAAAAAAAAAAAAAAAAAAAAAAAAAAAAAAAAAAAAAAAAAAAAAAAAAAAAAAAAAAAAAAAAAAAAAAAAAAAAAAAAAAAAAAAAAAAAAAAAAAAAAAAAAAAAAAAAAAAAAAAAAAAAAAAAAAAAAAAAAAAAAAAAAAAAAAAAAAAAAAAAAAAAAAAAAAAAAAAAAAAAAAAAAAAAAAAAAAAAAAAAAAAAAAAAAAAAAAAAAAAAAAAAAAAAAAAAAAAAAAAAAAAAAAAAAAAAAAAAAAAAAAAAAAAAAAAAAAAAAAAAAAAAAAAAAAAAAAAAAAAAAAAAAAAAAAAAAAAAAAAAAAAAAAAAAAAAAAAAAAAAAAAAAAAAAAAAAAAAAAAAAAAAAAAAAAAAAAAAAAAAAAAAAAAAAAAAAAAAAAAAAAAAAAAAAAAAAAAAAAAAAAAAAAAAAAAAAAAAAAAAAAAAAAAAAAAAAAAAAAAAAAAAAAAAAAAAAAAAAAAAAAAAAAAAAAAAAAAAAAAAAAAAAAAAAAAAAAAAAAAAAAAAAAAAAAAAAAAAAAAAAAAAAAAAAAAAAAAAAAAAAAAAAAAAAAAAAAAAAAAAAAAAAAAAAAAAAAAAAAAAAAAAAAAAAAAAAAAAAAAAAAAAAAAAAAAAAAAAAAAAAAAAAAAAAAAAAAAAAAAAAAAAAAAAAAAAAAAAAAAAAAAAAAAAAAAAAAAAAAAAAAAAAAAAAAAAAAAAAAAAAAAAAAAAAAAAAAAAAAAAAAAAAAAAAAAAAAAAAAAAAAAAAAAAAAAAAAAAAAAAAAAAAAAAAAAAAAAAAAAAAAAAAAAAAAAAAAAAAAAAAAAAAAAAAAAAAAAAAAAAAAAAAAAAAAAAAAAAAAAAAAAAAAAAAAAAAAAAAAAAAAAAAAAAAAAAAAAAAAAAAAAAAAAAAAAAAAAAAAAAAAAAAAAAAAAAAAAAAAAAAAAAAAAAAAAAAAAAAAAAAAAAAAAAAAAAAAAAAAAAAAAAAAAAAAAAAAAAAAAAAAAAAAAAAAAAAAAAAAAAAAAAAAAAAAAAAAAAAAAAAAAAAAAAAAAAAAAAAAAAAAAAAAAAAAAAAAAAAAAAAAAAAAAAAAAA=\",\"dtype\":\"float64\",\"order\":\"little\",\"shape\":[400]}},\"selected\":{\"id\":\"58418\"},\"selection_policy\":{\"id\":\"58417\"}},\"id\":\"58399\",\"type\":\"ColumnDataSource\"},{\"attributes\":{},\"id\":\"58357\",\"type\":\"BasicTicker\"},{\"attributes\":{\"line_alpha\":0.1,\"line_color\":\"#264653\",\"line_width\":4,\"x\":{\"field\":\"x\"},\"y\":{\"field\":\"y\"}},\"id\":\"58364\",\"type\":\"Line\"},{\"attributes\":{\"data\":{\"x\":[0,1,2,3,4,5,6,7,8,9,10,11,12,13,14,15,16,17,18,19,20,21,22,23,24,25,26,27,28,29,30,31,32,33,34,35,36,37,38,39,40,41,42,43,44,45,46,47,48,49,50,51,52,53,54,55,56,57,58,59,60,61,62,63,64,65,66,67,68,69,70,71,72,73,74,75,76,77,78,79,80,81,82,83,84,85,86,87,88,89,90,91,92,93,94,95,96,97,98,99,100,101,102,103,104,105,106,107,108,109,110,111,112,113,114,115,116,117,118,119,120,121,122,123,124,125,126,127,128,129,130,131,132,133,134,135,136,137,138,139,140,141,142,143,144,145,146,147,148,149,150,151,152,153,154,155,156,157,158,159,160,161,162,163,164,165,166,167,168,169,170,171,172,173,174,175,176,177,178,179,180,181,182,183,184,185,186,187,188,189,190,191,192,193,194,195,196,197,198,199,200,201,202,203,204,205,206,207,208,209,210,211,212,213,214,215,216,217,218,219,220,221,222,223,224,225,226,227,228,229,230,231,232,233,234,235,236,237,238,239,240,241,242,243,244,245,246,247,248,249,250,251,252,253,254,255,256,257,258,259,260,261,262,263,264,265,266,267,268,269,270,271,272,273,274,275,276,277,278,279,280,281,282,283,284,285,286,287,288,289,290,291,292,293,294,295,296,297,298,299,300,301,302,303,304,305,306,307,308,309,310,311,312,313,314,315,316,317,318,319,320,321,322,323,324,325,326,327,328,329,330,331,332,333,334,335,336,337,338,339,340,341,342,343,344,345,346,347,348,349,350,351,352,353,354,355,356,357,358,359,360,361,362,363,364,365,366,367,368,369,370,371,372,373,374,375,376,377,378,379,380,381,382,383,384,385,386,387,388,389,390,391,392,393,394,395,396,397,398,399],\"y\":{\"__ndarray__\":\"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\",\"dtype\":\"float64\",\"order\":\"little\",\"shape\":[400]}},\"selected\":{\"id\":\"58377\"},\"selection_policy\":{\"id\":\"58376\"}},\"id\":\"58362\",\"type\":\"ColumnDataSource\"},{\"attributes\":{\"line_alpha\":0.1,\"line_color\":\"#e76f51\",\"line_width\":4,\"x\":{\"field\":\"x\"},\"y\":{\"field\":\"y\"}},\"id\":\"58445\",\"type\":\"Line\"},{\"attributes\":{\"data\":{\"x\":[0,1,2,3,4,5,6,7,8,9,10,11,12,13,14,15,16,17,18,19,20,21,22,23,24,25,26,27,28,29,30,31,32,33,34,35,36,37,38,39,40,41,42,43,44,45,46,47,48,49,50,51,52,53,54,55,56,57,58,59,60,61,62,63,64,65,66,67,68,69,70,71,72,73,74,75,76,77,78,79,80,81,82,83,84,85,86,87,88,89,90,91,92,93,94,95,96,97,98,99,100,101,102,103,104,105,106,107,108,109,110,111,112,113,114,115,116,117,118,119,120,121,122,123,124,125,126,127,128,129,130,131,132,133,134,135,136,137,138,139,140,141,142,143,144,145,146,147,148,149,150,151,152,153,154,155,156,157,158,159,160,161,162,163,164,165,166,167,168,169,170,171,172,173,174,175,176,177,178,179,180,181,182,183,184,185,186,187,188,189,190,191,192,193,194,195,196,197,198,199,200,201,202,203,204,205,206,207,208,209,210,211,212,213,214,215,216,217,218,219,220,221,222,223,224,225,226,227,228,229,230,231,232,233,234,235,236,237,238,239,240,241,242,243,244,245,246,247,248,249,250,251,252,253,254,255,256,257,258,259,260,261,262,263,264,265,266,267,268,269,270,271,272,273,274,275,276,277,278,279,280,281,282,283,284,285,286,287,288,289,290,291,292,293,294,295,296,297,298,299,300,301,302,303,304,305,306,307,308,309,310,311,312,313,314,315,316,317,318,319,320,321,322,323,324,325,326,327,328,329,330,331,332,333,334,335,336,337,338,339,340,341,342,343,344,345,346,347,348,349,350,351,352,353,354,355,356,357,358,359,360,361,362,363,364,365,366,367,368,369,370,371,372,373,374,375,376,377,378,379,380,381,382,383,384,385,386,387,388,389,390,391,392,393,394,395,396,397,398,399],\"y\":{\"__ndarray__\":\"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\",\"dtype\":\"float64\",\"order\":\"little\",\"shape\":[400]}},\"selected\":{\"id\":\"58397\"},\"selection_policy\":{\"id\":\"58396\"}},\"id\":\"58380\",\"type\":\"ColumnDataSource\"},{\"attributes\":{\"coordinates\":null,\"formatter\":{\"id\":\"58371\"},\"group\":null,\"major_label_policy\":{\"id\":\"58372\"},\"major_tick_in\":0,\"minor_tick_line_color\":null,\"ticker\":{\"id\":\"58357\"}},\"id\":\"58356\",\"type\":\"LinearAxis\"},{\"attributes\":{\"line_alpha\":0.2,\"line_color\":\"#f4a261\",\"line_width\":4,\"x\":{\"field\":\"x\"},\"y\":{\"field\":\"y\"}},\"id\":\"58423\",\"type\":\"Line\"},{\"attributes\":{},\"id\":\"58344\",\"type\":\"DataRange1d\"},{\"attributes\":{},\"id\":\"58397\",\"type\":\"Selection\"},{\"attributes\":{\"axis\":{\"id\":\"58352\"},\"coordinates\":null,\"grid_line_color\":null,\"group\":null,\"ticker\":null},\"id\":\"58355\",\"type\":\"Grid\"},{\"attributes\":{\"line_alpha\":0.1,\"line_color\":\"#2a9d8f\",\"line_width\":4,\"x\":{\"field\":\"x\"},\"y\":{\"field\":\"y\"}},\"id\":\"58382\",\"type\":\"Line\"},{\"attributes\":{},\"id\":\"58417\",\"type\":\"UnionRenderers\"},{\"attributes\":{\"label\":{\"value\":\"0\"},\"renderers\":[{\"id\":\"58366\"}]},\"id\":\"58379\",\"type\":\"LegendItem\"},{\"attributes\":{\"label\":{\"value\":\"2\"},\"renderers\":[{\"id\":\"58403\"}]},\"id\":\"58419\",\"type\":\"LegendItem\"},{\"attributes\":{\"coordinates\":null,\"data_source\":{\"id\":\"58399\"},\"glyph\":{\"id\":\"58400\"},\"group\":null,\"hover_glyph\":null,\"muted_glyph\":{\"id\":\"58402\"},\"nonselection_glyph\":{\"id\":\"58401\"},\"view\":{\"id\":\"58404\"}},\"id\":\"58403\",\"type\":\"GlyphRenderer\"},{\"attributes\":{\"axis\":{\"id\":\"58356\"},\"coordinates\":null,\"dimension\":1,\"grid_line_color\":null,\"group\":null,\"ticker\":null},\"id\":\"58359\",\"type\":\"Grid\"},{\"attributes\":{\"coordinates\":null,\"data_source\":{\"id\":\"58420\"},\"glyph\":{\"id\":\"58421\"},\"group\":null,\"hover_glyph\":null,\"muted_glyph\":{\"id\":\"58423\"},\"nonselection_glyph\":{\"id\":\"58422\"},\"view\":{\"id\":\"58425\"}},\"id\":\"58424\",\"type\":\"GlyphRenderer\"},{\"attributes\":{},\"id\":\"58396\",\"type\":\"UnionRenderers\"},{\"attributes\":{\"line_alpha\":0.1,\"line_color\":\"#e9c46a\",\"line_width\":4,\"x\":{\"field\":\"x\"},\"y\":{\"field\":\"y\"}},\"id\":\"58401\",\"type\":\"Line\"},{\"attributes\":{},\"id\":\"58466\",\"type\":\"Selection\"},{\"attributes\":{},\"id\":\"58353\",\"type\":\"BasicTicker\"},{\"attributes\":{\"label\":{\"value\":\"1\"},\"renderers\":[{\"id\":\"58384\"}]},\"id\":\"58398\",\"type\":\"LegendItem\"},{\"attributes\":{\"label\":{\"value\":\"4\"},\"renderers\":[{\"id\":\"58447\"}]},\"id\":\"58467\",\"type\":\"LegendItem\"},{\"attributes\":{\"line_alpha\":0.2,\"line_color\":\"#264653\",\"line_width\":4,\"x\":{\"field\":\"x\"},\"y\":{\"field\":\"y\"}},\"id\":\"58365\",\"type\":\"Line\"},{\"attributes\":{\"line_color\":\"#264653\",\"line_width\":4,\"x\":{\"field\":\"x\"},\"y\":{\"field\":\"y\"}},\"id\":\"58363\",\"type\":\"Line\"},{\"attributes\":{},\"id\":\"58440\",\"type\":\"UnionRenderers\"},{\"attributes\":{},\"id\":\"58465\",\"type\":\"UnionRenderers\"},{\"attributes\":{\"line_color\":\"#e76f51\",\"line_width\":4,\"x\":{\"field\":\"x\"},\"y\":{\"field\":\"y\"}},\"id\":\"58444\",\"type\":\"Line\"},{\"attributes\":{\"coordinates\":null,\"group\":null,\"items\":[{\"id\":\"58379\"},{\"id\":\"58398\"},{\"id\":\"58419\"},{\"id\":\"58442\"},{\"id\":\"58467\"}]},\"id\":\"58378\",\"type\":\"Legend\"},{\"attributes\":{\"logo\":null},\"id\":\"58360\",\"type\":\"Toolbar\"},{\"attributes\":{\"line_alpha\":0.1,\"line_color\":\"#f4a261\",\"line_width\":4,\"x\":{\"field\":\"x\"},\"y\":{\"field\":\"y\"}},\"id\":\"58422\",\"type\":\"Line\"},{\"attributes\":{\"line_color\":\"#f4a261\",\"line_width\":4,\"x\":{\"field\":\"x\"},\"y\":{\"field\":\"y\"}},\"id\":\"58421\",\"type\":\"Line\"},{\"attributes\":{},\"id\":\"58376\",\"type\":\"UnionRenderers\"},{\"attributes\":{\"data\":{\"x\":[0,1,2,3,4,5,6,7,8,9,10,11,12,13,14,15,16,17,18,19,20,21,22,23,24,25,26,27,28,29,30,31,32,33,34,35,36,37,38,39,40,41,42,43,44,45,46,47,48,49,50,51,52,53,54,55,56,57,58,59,60,61,62,63,64,65,66,67,68,69,70,71,72,73,74,75,76,77,78,79,80,81,82,83,84,85,86,87,88,89,90,91,92,93,94,95,96,97,98,99,100,101,102,103,104,105,106,107,108,109,110,111,112,113,114,115,116,117,118,119,120,121,122,123,124,125,126,127,128,129,130,131,132,133,134,135,136,137,138,139,140,141,142,143,144,145,146,147,148,149,150,151,152,153,154,155,156,157,158,159,160,161,162,163,164,165,166,167,168,169,170,171,172,173,174,175,176,177,178,179,180,181,182,183,184,185,186,187,188,189,190,191,192,193,194,195,196,197,198,199,200,201,202,203,204,205,206,207,208,209,210,211,212,213,214,215,216,217,218,219,220,221,222,223,224,225,226,227,228,229,230,231,232,233,234,235,236,237,238,239,240,241,242,243,244,245,246,247,248,249,250,251,252,253,254,255,256,257,258,259,260,261,262,263,264,265,266,267,268,269,270,271,272,273,274,275,276,277,278,279,280,281,282,283,284,285,286,287,288,289,290,291,292,293,294,295,296,297,298,299,300,301,302,303,304,305,306,307,308,309,310,311,312,313,314,315,316,317,318,319,320,321,322,323,324,325,326,327,328,329,330,331,332,333,334,335,336,337,338,339,340,341,342,343,344,345,346,347,348,349,350,351,352,353,354,355,356,357,358,359,360,361,362,363,364,365,366,367,368,369,370,371,372,373,374,375,376,377,378,379,380,381,382,383,384,385,386,387,388,389,390,391,392,393,394,395,396,397,398,399],\"y\":{\"__ndarray__\":\"AAAAAAAAAAAAAAAAAAAAAAAAAAAAAAAAAAAAAAAAAAAAAAAAAAAAAAAAAAAAAAAAAAAAAAAAAAAAAAAAAAAAAAAAAAAAAAAAAAAAAAAAAAAAAAAAAAAAAAAAAAAAAAAAAAAAAAAAAAAAAAAAAAAAAAAAAAAAAAAAAAAAAAAAAAAAAAAAAAAAAAAAAAAAAAAAAAAAAAAAAAAAAAAAAAAAAAAAAAAAAAAAAAAAAAAAAAAAAAAAAAAAAAAAAAAAAAAAAAAAAAAAAAAAAAAAAAAAAAAAAAAAAAAAAAAAAAAAAAAAAAAAAAAAAAAAAAAAAAAAAAAAAAAAAAAAAAAAAAAAAAAAAAAAAAAAAAAAAAAAAAAAAAAAAAAAAAAAAAAAAAAAAAAAAAAAAAAAAAAAAAAAAAAAAAAAAAAAAAAAAAAAAAAAAAAAAAAAAAAAAAAAAAAAAAAAAAAAAAAAAAAAAAAAAAAAAAAAAAAAAAAAAAAAAAAAAAAAAAAAAAAAAAAAAAAAAAAAAAAAAAAAAAAAAAAAAAAAAAAAAAAAAAAAAAAAAAAAAAAAAAAAAAAAAAAAAAAAAAAAAAAAAAAAAAAAAAAAAAAAAAAAAAAAAAAAAAAAAAAAAAAAAAAAAAAAAAAAAAAAAAAAAAAAAAAAAAAAAAAAAAAAAAAAAAAAAAAAAAAAAAAAAAAAAAAAAAAAAAAAAAAAAAAAAAAAAAAAAAAAAAAAAAAAAAAAAAAAAAAAAAAAAAAAAAAAAAAAAAAAAAAAAAAAAAAAAAAAAAAAAAAAAAAAAAAAAAAAAAAAAAAAAAAAAAAAAAAAAAAAAAAAAAAAAAAAAAAAAAAAAAAAAAAAAAAAAAAAAAAAAAAAAAAAAAAAAAAAAAAAAAAAAAAAAAAAAAAAAAAAAAAAAAAAAAAAAAAAAAAAAAAAAAAAAAAAAAAAAAAAAAAAAAAAAAAAAAAAAAAAAAAAAAAAAAAAAAAAAAAAAAAAAAAAAAAAAAAAAAAAAAAAAAAAAAAAAAAAAAAAAAAAAAAAAAAAAAAAAAAAAAAAAAAAAAAAAAAAAAAAAAAAAAAAAAAAAAAAAAAAAAAAAAAAAAAAAAAAAAAAAAAAAAAAAAAAAAAAAAAAAAAAAAAAAAAAAAAAAAAAAAAAAAAAAAAAAAAAAAAAAAAAAAAAAAAAAK7xxBGiKtg8el2u6EcaEj3saKluqVtRPa4kombABO09VU/JRCb2oz59Px0ZaD3DPjYoGZMCUtg+UqSTpcGI6T7uV+lzKjn4Po7ionqMjAU/dhgn+bM+Ej9ARl4ZwqQdP213rlkkNSc/TEZb9ECLMT/ykp7kjZ85P8onQBFpIUI/ovHvT4XXST+qUN3KI9hRP2bDGGk+1Vc/D3UFSihsXz+lYJ82Z5NkPw2JsUUnDWo/s7MEKmptcD/LGTzabmJ0P/F6GYL7t3g/bV0vyxEEfj/++55yOrWBP4q21wRwBYU/L/XB9thPiD9gfRlaPjKMPyfWwo4xD5A/qvFXAx4xkj+Z5e2QXXqUP/2lgYRprpY/iHTVtMpEmT9pdYmS8MibPyQAFbsjPp4/r92lu8qGoD+/70uP4uGhP2mNY1+HMKM/nx6x+bWdpD+mF2xYYQymP4lW+kQxbqc/cvDZWibDqD9sOA9ThDeqPzPN05GJpqs/F9z1pM0IrT8QoJs0pl6uP5kofUAXr68/Ph2ZhzuMsD8UP7COtTqxPwMhkKcv47E/hMgGr9uFsj/geLGY4SKzPyRNl3ETwLM/V6KCnKZitD+wr/gdCf+0Pyt7xLUhlrU/E5Yk/zQotj+muZ0+ZbW2P9FCAW3VPbc/IwBSpZXBtz+1iJilgEm4P2FQF4T+0Lg/9mz0DwlUuT8k+q2A2dK5P+mQCEaSTbo/vhHBqVPEuj8NavrxQje7P0IC9OeCprs/21cKWS8SvD84EjTVYnq8PzORU+323rw/dRaW2rVIvT+Pam8PQK+9PxVpzVeXEr4/N62uttdyvj/DoXvrHdC+P6mAGXM7IL8/tX3Dpe53vz+7fZeS8sy/P9KMS9euD8A/qJ6phKM3wD8/CBjeYV7AP1rQmrn0g8A/vRNHK2aowD+wz4m3v8vAP8AVrJMK7sA/mURdlk0PwT/HB3Iyli/BP5U8Z6TPUME/gdbz5E1xwT9GKlyN0JDBPx88q5Zmr8E/proNuBfNwT9FyABE6+nBPxCrrIvoBcI/BhTeXRYhwj/oDWk9ezvCP4A0zbIdVcI/cn3W8ANuwj9bYuOwM4bCPzZ1rtyyncI/7y4g8oa0wj/B4iZatcrCPwjy+VRD4MI/jED6iTX1wj8wrjwhkQnDPzSL0MBaHcM/0NJXKJcwwz9QAHQ/SkPDPxKJTKiKVsM/T4Kgmjhowz/+jc6PaXnDP4HtGmwzisM/7B4iDYKawz/7rQb7UqrDPysf2k61ucM/OAKgWazIwz9xue98INfDP3HpfM1Y5cM/TzT9uTDzwz9bq8Kj4ADEPz+iNeYPDsQ/U00JVfQaxD8PIR1ZnSfEPz3KdetMNMQ/BCzHUzg9xD95tWfzWkTEP/g5mNRNS8Q/Cp9TUhJSxD8Mru+8qVjEP1aZrlkVX8Q/BlXOY1ZlxD+aDNAMbmvEP8yIjC5dccQ/IHHvPCV3xD8jV71Lx3zEP15fjGhEgsQ/BC51mJ2HxD9/MUrZ04zEP2IHiCHokcQ/EH+ZYNuWxD94kfV+rpvEP/ZLW15ioMQ/+dIP2vekxD8v2wvHb6nEP8eHNPTKrcQ/oNh1KgqyxD9MEP8sLrbEPyhpb7k3usQ/f28GiCe+xD882MZL/sHEP9T6nbK8xcQ/L3+VZWPJxD+PcOcI88zEP2YtLjxs0MQ/w/+Jms/TxD/29cLxHNfEP1ZbHKlV2sQ/DNHUSXrdxD9VppsHjODEP6550b+K48Q/VHe183bmxD+op30hUenEP+J7EcQZ7MQ/gCoUU9HuxD8oKYCSd/HEPxhuQKEN9MQ/m7c57pP2xD+bKN7kCvnEP5Ylsu1y+8Q/mVtibsz9xD8lAtfJFwDFP5U1TWBVAsU/KmNpj4UExT/RykGyqAbFP+bWcyG/CMU/CCU0M8kKxT+uTWQ7xwzFP7xXpIu5DsU/NIkfbaAQxT9bMP4rfBLFP6LakhZNFMU/50oBdxMWxT82tUqVzxfFP/ifYLeBGcU/UJT6HiobxT9uv38QyRzFPyoXP8xeHsU/l8TIkOsfxT8MtP6abyHFP9SnziLrIsU/tuwyZV4kxT9ZW0+aySXFPxzFzvgsJ8U/9jLptYgoxT8TuHIF3SnFP4XR5BkqK8U/S0ppJHAsxT/JvuVUry3FP+A6C9rnLsU/Eg5P4RkwxT9fAQGXRTHFP3pAUSZrMsU/5CROuYozxT94YBSLpDTFPydy8bG4NcU/2zqrVMc2xT9tVDKZ0DfFP/COgqTUOMU/w4qnmtM5xT8KxceezTrFP39VLdPCO8U/AX1IWbM8xT8zbLRRnz3FP9URRdyGPsU/42QHGGo/xT/KT0EjSUDFP9+VehskQcU/kfeBHftBxT8273VFzkLFPydpxa6dQ8U/tzo5dGlExT9+v/WvMUXFP/cPfHv2RcU/HN+x77dGxT/6weUkdkfFPwlh0zIxSMU/XsmqMOlIxT/NoBQ1nknFP+ydK1ZQSsU/A3SHqf9KxT82bD9ErEvFP6Gj8DpWTMU/D23Aof1MxT9/xlyMok3FPzeSBA5FTsU/CnCDOeVOxT/juTohg0/FP2lSK9ceUMU/wFoBXbhQxT9fJFPNT1HFPwgBgD/lUcU/FL32w3hSxT+8hspqClPFP5aBtUOaU8U/AtgeXihUxT8XwhnJtFTFP9+0apM/VcU/H2OBy8hVxT9KPIB/UFbFP5PLPr3WVsU/4lmzi1tXxT+oiMv+3lfFPzbUkCNhWMU/IUHGBuJYxT/Ekg2IYVnFP/InH+bfWcU/pfRfKl1axT+fP+1f2VrFP9kFy5FUW8U/c8lIx85bxT+d37sOSFzFP6WxxXLAXMU/Zhvm/TddxT+jBHG6rl3FP9fulrIkXsU/5vJf8JlexT+D+Kh9Dl/FPzpyJmSCX8U/w3dmrfVfxT9qsmtfaGDFP3zzMa/aYMU/dClAeExhxT8FjIeVvWHFP0mcXkYuYsU/nN9pkZ5ixT/1VwF/DmPFPwUqZRd+Y8U/uCO/Yu1jxT9WUB9pXGTFP1D3ezLLZMU/WtqyxjllxT9In4gtqGXFP/Ksp24WZsU/GXSjkYRmxT+pcPad8mbFP/BuAptgZ8U/N2YRkM5nxT8=\",\"dtype\":\"float64\",\"order\":\"little\",\"shape\":[400]}},\"selected\":{\"id\":\"58466\"},\"selection_policy\":{\"id\":\"58465\"}},\"id\":\"58443\",\"type\":\"ColumnDataSource\"},{\"attributes\":{},\"id\":\"58374\",\"type\":\"BasicTickFormatter\"},{\"attributes\":{\"coordinates\":null,\"group\":null},\"id\":\"58368\",\"type\":\"Title\"},{\"attributes\":{\"coordinates\":null,\"formatter\":{\"id\":\"58374\"},\"group\":null,\"major_label_policy\":{\"id\":\"58375\"},\"major_tick_in\":0,\"minor_tick_line_color\":null,\"ticker\":{\"id\":\"58353\"}},\"id\":\"58352\",\"type\":\"LinearAxis\"},{\"attributes\":{},\"id\":\"58346\",\"type\":\"DataRange1d\"},{\"attributes\":{\"line_alpha\":0.2,\"line_color\":\"#2a9d8f\",\"line_width\":4,\"x\":{\"field\":\"x\"},\"y\":{\"field\":\"y\"}},\"id\":\"58383\",\"type\":\"Line\"},{\"attributes\":{\"source\":{\"id\":\"58399\"}},\"id\":\"58404\",\"type\":\"CDSView\"},{\"attributes\":{\"line_alpha\":0.2,\"line_color\":\"#e9c46a\",\"line_width\":4,\"x\":{\"field\":\"x\"},\"y\":{\"field\":\"y\"}},\"id\":\"58402\",\"type\":\"Line\"},{\"attributes\":{},\"id\":\"58372\",\"type\":\"AllLabels\"},{\"attributes\":{},\"id\":\"58375\",\"type\":\"AllLabels\"},{\"attributes\":{\"label\":{\"value\":\"3\"},\"renderers\":[{\"id\":\"58424\"}]},\"id\":\"58442\",\"type\":\"LegendItem\"},{\"attributes\":{},\"id\":\"58348\",\"type\":\"LinearScale\"},{\"attributes\":{\"data\":{\"x\":[0,1,2,3,4,5,6,7,8,9,10,11,12,13,14,15,16,17,18,19,20,21,22,23,24,25,26,27,28,29,30,31,32,33,34,35,36,37,38,39,40,41,42,43,44,45,46,47,48,49,50,51,52,53,54,55,56,57,58,59,60,61,62,63,64,65,66,67,68,69,70,71,72,73,74,75,76,77,78,79,80,81,82,83,84,85,86,87,88,89,90,91,92,93,94,95,96,97,98,99,100,101,102,103,104,105,106,107,108,109,110,111,112,113,114,115,116,117,118,119,120,121,122,123,124,125,126,127,128,129,130,131,132,133,134,135,136,137,138,139,140,141,142,143,144,145,146,147,148,149,150,151,152,153,154,155,156,157,158,159,160,161,162,163,164,165,166,167,168,169,170,171,172,173,174,175,176,177,178,179,180,181,182,183,184,185,186,187,188,189,190,191,192,193,194,195,196,197,198,199,200,201,202,203,204,205,206,207,208,209,210,211,212,213,214,215,216,217,218,219,220,221,222,223,224,225,226,227,228,229,230,231,232,233,234,235,236,237,238,239,240,241,242,243,244,245,246,247,248,249,250,251,252,253,254,255,256,257,258,259,260,261,262,263,264,265,266,267,268,269,270,271,272,273,274,275,276,277,278,279,280,281,282,283,284,285,286,287,288,289,290,291,292,293,294,295,296,297,298,299,300,301,302,303,304,305,306,307,308,309,310,311,312,313,314,315,316,317,318,319,320,321,322,323,324,325,326,327,328,329,330,331,332,333,334,335,336,337,338,339,340,341,342,343,344,345,346,347,348,349,350,351,352,353,354,355,356,357,358,359,360,361,362,363,364,365,366,367,368,369,370,371,372,373,374,375,376,377,378,379,380,381,382,383,384,385,386,387,388,389,390,391,392,393,394,395,396,397,398,399],\"y\":{\"__ndarray__\":\"AAAAAAAAAAAAAAAAAAAAAAAAAAAAAAAAAAAAAAAAAAAAAAAAAAAAAAAAAAAAAAAAAAAAAAAAAAAAAAAAAAAAAAAAAAAAAAAAAAAAAAAAAAAAAAAAAAAAAAAAAAAAAAAAAAAAAAAAAAAAAAAAAAAAAAAAAAAAAAAAAAAAAAAAAAAAAAAAAAAAAAAAAAAAAAAAAAAAAAAAAAAAAAAAAAAAAAAAAAAAAAAAAAAAAAAAAAAAAAAAAAAAAAAAAAAAAAAAAAAAAAAAAAAAAAAAAAAAAAAAAAAAAAAAAAAAAAAAAAAAAAAAAAAAAAAAAAAAAAAAAAAAAAAAAAAAAAAAAAAAAAAAAAAAAAAAAAAAAAAAAAAAAAAAAAAAAAAAAAAAAAAAAAAAAAAAAAAAAAAAAAAAAAAAAAAAAAAAAAAAAAAAAAAAAAAAAAAAAAAAAAAAAAAAAAAAAAAAAAAAAAAAAAAAAAAAAAAAAAAAAAAAAAAAAAAAAAAAAAAAAAAAAAAAAAAAAAAAAAAAAAAAAAAAAAAAAAAAAAAAAAAAAAAAAAAAAAAAAAAAAAAAAAAAAAAAAAAAAAAAAAAAAAAAAAAAAAAAAAAAAAAAAAAAAAAAAAAAAAAAAAAAAAAAAAAAAAAAAAAAAAAAAAAAAAAAAAAAAAAAAAAAAAAAAAAAAAAAAAAAAAAAAAAAAAAAAAAAAAAAAAAAAAAAAAAAAAAAAAAAAAAAAAAAAAAAAAAAAAAAAAAAAAAAAAAAAAAAAAAAAAAAAAAAAAAAAAAAAAAAAAAAAAAAAAAAAAAAAAAAAAAAAAAAAAAAAAAAAAAAAAAAAAAAAAAAAAAAAAAAAAAAAAAAAAAAAAAAAAAAAAAAAAAAAAAAAAAAAAAAAAAAAAAAAAAAAAAAAAAAAAAAAAAAAAAAAAAAAAAAAAAAAAAAAAAAAAAAAAAAAAAAAAAAAAAAAAAAAAAAAAAAAAAAAAAAAAAAAAAAAAAAAAAAAAAAAAAAAAAAAAAAAAAAAAAAAAAAAAAAAAAAAAAAAAAAAAAAAAAAAAAAAAAAAAAAAAAAAAAAAAAAAAAAAAAAAAAAAAAAAAAAAAAAAAAAAAAAAAAAAAAAAAAAAAAAAAAAAAAAAAAAAAAAAAAAAAAAAAAAAAAAAAAAAAAAAAAAAAAAAAAAAAAAAAAAAAAAAAAAAAAAAAAAAAAAAAAAAAAAAAAAAAAAAAAAAAAAAAAAAAAAAAAAAAAAAAAAAAAAAAAAAAAAAAAAAAAAAAAAAAAAAAAAAAAAAAAAAAAAAAAAAAAAAAAAAAAAAAAAAAAAAAAAAAAAAAAAAAAAAAAAAAAAAAAAAAAAAAAAAAAAAAAAAAAAAAAAAAAAAAAAAAAAAAAAAAAAAAAAAAAAAAAAAAAAAAAAAAAAAAAAAAAAAAAAAAAAAAAAAAAAAAAAAAAAAAAAAAAAAAAAAAAAAAAAAAAAAAAAAAAAAAAAAAAAAAAAAAAAAAAAAAAAAAAAAAAAAAAAAAAAAAAAAAAAAAAAAAAAAAAAAAAAAAAAAAAAAAAAAAAAAAAAAAAAAAAAAAAAAAAAAAAAAAAAAAAAAAAAAAAAAAAAAAAAAAAAAAAAAAAAAAAAAAAAAAAAAAAAAAAAAAAAAAAAAAAAAAAAAAAAAAAAAAAAAAAAAAAAAAAAAAAAAAAAAAAAAAAAAAAAAAAAAAAAAAAAAAAAAAAAAAAAAAAAAAAAAAAAAAAAAAAAAAAAAAAAAAAAAAAAAAAAAAAAAAAAAAAAAAAAAAAAAAAAAAAAAAAAAAAAAAAAAAAAAAAAAAAAAAAAAAAAAAAAAAAAAAAAAAAAAAAAAAAAAAAAAAAAAAAAAAAAAAAAAAAAAAAAAAAAAAAAAAAAAAAAAAAAAAAAAAAAAAAAAAAAAAAAAAAAAAAAAAAAAAAAAAAAAAAAAAAAAAAAAAAAAAAAAAAAAAAAAAAAAAAAAAAAAAAAAAAAAAAAAAAAAAAAAAAAAAAAAAAAAAAAAAAAAAAAAAAAAAAAAAAAAAAAAAAAAAAAAAAAAAAAAAAAAAAAAAAAAAAAAAAAAAAAAAAAAAAAAAAAAAAAAAAAAAAAAAAAAAAAAAAAAAAAAAAAAAAAAAAAAAAAAAAAAAAAAAAAAAAAAAAAAAAAAAAAAAAAAAAAAAAAAAAAAAAAAAAAAAAAAAAAAAAAAAAAAAAAAAAAAAAAAAAAAAAAAAAAAAAAAAAAAAAAAAAAAAAAAAAAAAAAAAAAAAAAAAAAAAAAAAAAAAAAAAAAAAAAAAAAAAAAAAAAAAAAAAAAAAAAAAAAAAAAAAAAAAAAAAAAAAAAAAAAAAAAAAAAAAAAAAAAAAAAAAAAAAAAAAAAAAAAAAAAAAAAAAAAAAAAAAAAAAAAAAAAAAAAAAAAAAAAAAAAAAAAAAAAAAAAAAAAAAAAAAAAAAAAAAAAAAAAAAAAAAAAAAAAAAAAAAAAAAAAAAAAAAAAAAAAAAAAAAAAAAAAAAAAAAAAAAAAAAAAAAAAAAAAAAAAAAAAAAAAAAAAAAAAAAAAAAAAAAAAAAAAAAAAAAAAAAAAAAAAAAAAAAAAAAAAAAAAAAAAAAAAAAAAAAAAAAAAAAAAAAAAAAAAAAAAAAAAAAAAAAAAAAAAAAAAAAAAAAAAAAAAAAAAAAAAAAAAAAAAAAAAAAAAAAAAAAAAAAAAAAAAAAAAAAAAAAAAAAAAAAAAAAAAAAAAAAAAAAAAAAAAAAAAAAAAAAAAAAAAAAAAAAAAAAAAAAAAAAAAAAAAAAAAAAAAAAAAAAAAAAAAAAAAAAAAAAAAAAAAAAAAAAAAAAAAAAAAAAAAAAAAAAAAAAAAAAAAAAAAAAAAAAAAAAAAAAAAAAAAAAAAAAAAAAAAAAAAAAAAAAAAAAAAAAAAAAAAAAAAAAAAAAAAAAAAAAAAAAAAAAAAAAAAAAAAAAAAAAAAAAAAAAAAAAAAAAAAAAAAAAAAAAAAAAAAAAAAAAAAAAAAAAAAAAAAAAAAAAAAAAAAAAAAAAAAAAAAAAAAAAAAAAAAAAAAAAAAAAAAAAAAAAAAAAAAAAAAAAAAAAAAAAAAAAAAAAAAAAAAAAAAAAAAAAAAAAAAAAAAAAAAAAAAAAAAAAAAAAAAAAAAAAAAAAAAAAAAAAAAAAAAAAAAAAAAAAAAAAAAAAAAAAAAAAAAAAAAAAAAAAAAAAAAAAAAAAAAAAAAAAAAAAAAAAAAAAAAAAAAAAAAAAAAAAAAAAAAAAAAAAAAAAAAAAAAAAAAAAAAAAAAAAAAAAAAAAAAAAAAAAAAAAAAAAAAAAAAAAAAAAAAAAAAAAAAAAAAAAAAAAAAAAAAAAAAAAAAAAAAAAAAAAAAAAAAAAAAAAAAAAAAAAAAAAAAAAAAAAAAAAAAAAAAAAAAAAAAAAAAAAAAAAAAAAAAAAAAAAAAAAAAAAAAAAAAAAAAAAAAAAAAAAAAAAAAAAAAAAAAAAAAAAAAAAAAAAAAAAAAAAAAAAAAAAAAAAAAAAAAAAAAAAAAAAAAAAAAAAAAAAAAAAAAAAAAAAAAAAAAAAAAAAAAAAAAAAAAAAAAAAAAAAAAAAAAAAAAAAAAAAAAAAAAAAAAAAAAAAAAAAAAAAAAAAAAAAAAAAAAAAAAAAAAAAAAAAAAAAAAAAAAAAAAAAAAAAAAAAAAAAAAAAAAAAAAAAAAAAAAAAAAAAAAAAAAAAAAAAAAAAAAAAAAAAAAAAAAAAAAAAAAAAAAAAAAAAAAAAAAAAAAAAAAAAAAAAAAAAAAAAAAAAAAAAAAAAAAAAAAAAAAAAAAAAAAAAAAAAAAAAAAAAAAAAAAAAAAAAAAAAAAAAAAAAAAAAAAAAAAAAAAAAAAAAAAAAAAAAAAAAAAAAAAAAAAAAAAAAAAAAAAAAAAAAAAAAAAAAAAAAAAAAAAAAAAAAAAAAAAAAAAAAAAAAAAAAAAAAAAAAAAAAAAAAAAAAAAAAAAAAAAAAAAAAAAAAAAAAAAAAAAAAAAAAAAAAAAAAAAAAAAAAAAAAAAAAAAAAAAAAAAAAAAAAAAAAAAAAAAAAAAAAAAAAAAAAAAAAAAAAAAAAAAAAAAAAAAAAAAAAAAAAAAAAAAAAAAAAAAAAAAAAAAAAAAAAAAAAAAAAAAAAAAAAAAAAAAAAAAAAAAAAAAAAAAAAAAAAAAAAAAAAAAAAAAAAAAAAAAAAAAAAAAAAAAAAAAAAAAAAAAAAAAAAAAAAAAAAAAAAAAAAAAAAAAAAAAAAAAAAAAAAAAAAAAAAAAAAAAAAAAAAA=\",\"dtype\":\"float64\",\"order\":\"little\",\"shape\":[400]}},\"selected\":{\"id\":\"58441\"},\"selection_policy\":{\"id\":\"58440\"}},\"id\":\"58420\",\"type\":\"ColumnDataSource\"},{\"attributes\":{},\"id\":\"58377\",\"type\":\"Selection\"},{\"attributes\":{\"line_alpha\":0.2,\"line_color\":\"#e76f51\",\"line_width\":4,\"x\":{\"field\":\"x\"},\"y\":{\"field\":\"y\"}},\"id\":\"58446\",\"type\":\"Line\"},{\"attributes\":{},\"id\":\"58371\",\"type\":\"BasicTickFormatter\"},{\"attributes\":{\"source\":{\"id\":\"58420\"}},\"id\":\"58425\",\"type\":\"CDSView\"},{\"attributes\":{\"source\":{\"id\":\"58443\"}},\"id\":\"58448\",\"type\":\"CDSView\"},{\"attributes\":{},\"id\":\"58418\",\"type\":\"Selection\"},{\"attributes\":{},\"id\":\"58350\",\"type\":\"LinearScale\"},{\"attributes\":{\"line_color\":\"#2a9d8f\",\"line_width\":4,\"x\":{\"field\":\"x\"},\"y\":{\"field\":\"y\"}},\"id\":\"58381\",\"type\":\"Line\"}],\"root_ids\":[\"58343\"]},\"title\":\"Bokeh Application\",\"version\":\"2.4.2\"}};\n  const render_items = [{\"docid\":\"fb8a44ba-e09f-4520-9706-4a1f234c9aea\",\"root_ids\":[\"58343\"],\"roots\":{\"58343\":\"b0b6182e-cd37-46bd-9cc2-141cce950e17\"}}];\n  root.Bokeh.embed.embed_items_notebook(docs_json, render_items);\n\n  }\n  if (root.Bokeh !== undefined) {\n    embed_document(root);\n  } else {\n    let attempts = 0;\n    const timer = setInterval(function(root) {\n      if (root.Bokeh !== undefined) {\n        clearInterval(timer);\n        embed_document(root);\n      } else {\n        attempts++;\n        if (attempts > 100) {\n          clearInterval(timer);\n          console.log(\"Bokeh: ERROR: Unable to run BokehJS code because BokehJS library is missing\");\n        }\n      }\n    }, 10, root)\n  }\n})(window);",
      "application/vnd.bokehjs_exec.v0+json": ""
     },
     "metadata": {
      "application/vnd.bokehjs_exec.v0+json": {
       "id": "58343"
      }
     }
    },
    {
     "output_type": "display_data",
     "data": {
      "text/html": "\n\n\n\n\n\n  <div class=\"bk-root\" id=\"b0ac4588-abdf-4879-bdd4-55bb7fa2061b\" data-root-id=\"59525\"></div>\n"
     },
     "metadata": {}
    },
    {
     "output_type": "display_data",
     "data": {
      "application/javascript": "(function(root) {\n  function embed_document(root) {\n    \n  const docs_json = {\"bd4b6851-da12-4ec3-8121-77e85ac429a4\":{\"defs\":[],\"roots\":{\"references\":[{\"attributes\":{\"below\":[{\"id\":\"59534\"}],\"center\":[{\"id\":\"59537\"},{\"id\":\"59541\"},{\"id\":\"59560\"}],\"left\":[{\"id\":\"59538\"}],\"min_border_bottom\":35,\"min_border_left\":35,\"min_border_right\":35,\"min_border_top\":35,\"renderers\":[{\"id\":\"59548\"},{\"id\":\"59566\"},{\"id\":\"59585\"},{\"id\":\"59606\"},{\"id\":\"59629\"}],\"title\":{\"id\":\"59550\"},\"toolbar\":{\"id\":\"59542\"},\"toolbar_location\":null,\"x_range\":{\"id\":\"59526\"},\"x_scale\":{\"id\":\"59530\"},\"y_range\":{\"id\":\"59528\"},\"y_scale\":{\"id\":\"59532\"}},\"id\":\"59525\",\"subtype\":\"Figure\",\"type\":\"Plot\"},{\"attributes\":{},\"id\":\"59526\",\"type\":\"DataRange1d\"},{\"attributes\":{\"line_alpha\":0.2,\"line_color\":\"#e9c46a\",\"line_width\":4,\"x\":{\"field\":\"x\"},\"y\":{\"field\":\"y\"}},\"id\":\"59584\",\"type\":\"Line\"},{\"attributes\":{},\"id\":\"59539\",\"type\":\"BasicTicker\"},{\"attributes\":{\"coordinates\":null,\"group\":null},\"id\":\"59550\",\"type\":\"Title\"},{\"attributes\":{},\"id\":\"59554\",\"type\":\"AllLabels\"},{\"attributes\":{\"label\":{\"value\":\"3\"},\"renderers\":[{\"id\":\"59606\"}]},\"id\":\"59624\",\"type\":\"LegendItem\"},{\"attributes\":{},\"id\":\"59578\",\"type\":\"UnionRenderers\"},{\"attributes\":{},\"id\":\"59623\",\"type\":\"Selection\"},{\"attributes\":{\"line_color\":\"#f4a261\",\"line_width\":4,\"x\":{\"field\":\"x\"},\"y\":{\"field\":\"y\"}},\"id\":\"59603\",\"type\":\"Line\"},{\"attributes\":{\"label\":{\"value\":\"0\"},\"renderers\":[{\"id\":\"59548\"}]},\"id\":\"59561\",\"type\":\"LegendItem\"},{\"attributes\":{},\"id\":\"59579\",\"type\":\"Selection\"},{\"attributes\":{\"coordinates\":null,\"data_source\":{\"id\":\"59562\"},\"glyph\":{\"id\":\"59563\"},\"group\":null,\"hover_glyph\":null,\"muted_glyph\":{\"id\":\"59565\"},\"nonselection_glyph\":{\"id\":\"59564\"},\"view\":{\"id\":\"59567\"}},\"id\":\"59566\",\"type\":\"GlyphRenderer\"},{\"attributes\":{\"source\":{\"id\":\"59602\"}},\"id\":\"59607\",\"type\":\"CDSView\"},{\"attributes\":{},\"id\":\"59557\",\"type\":\"AllLabels\"},{\"attributes\":{},\"id\":\"59600\",\"type\":\"Selection\"},{\"attributes\":{\"source\":{\"id\":\"59625\"}},\"id\":\"59630\",\"type\":\"CDSView\"},{\"attributes\":{},\"id\":\"59599\",\"type\":\"UnionRenderers\"},{\"attributes\":{\"coordinates\":null,\"data_source\":{\"id\":\"59544\"},\"glyph\":{\"id\":\"59545\"},\"group\":null,\"hover_glyph\":null,\"muted_glyph\":{\"id\":\"59547\"},\"nonselection_glyph\":{\"id\":\"59546\"},\"view\":{\"id\":\"59549\"}},\"id\":\"59548\",\"type\":\"GlyphRenderer\"},{\"attributes\":{\"data\":{\"x\":[0,1,2,3,4,5,6,7,8,9,10,11,12,13,14,15,16,17,18,19,20,21,22,23,24,25,26,27,28,29,30,31,32,33,34,35,36,37,38,39,40,41,42,43,44,45,46,47,48,49,50,51,52,53,54,55,56,57,58,59,60,61,62,63,64,65,66,67,68,69,70,71,72,73,74,75,76,77,78,79,80,81,82,83,84,85,86,87,88,89,90,91,92,93,94,95,96,97,98,99,100,101,102,103,104,105,106,107,108,109,110,111,112,113,114,115,116,117,118,119,120,121,122,123,124,125,126,127,128,129,130,131,132,133,134,135,136,137,138,139,140,141,142,143,144,145,146,147,148,149,150,151,152,153,154,155,156,157,158,159,160,161,162,163,164,165,166,167,168,169,170,171,172,173,174,175,176,177,178,179,180,181,182,183,184,185,186,187,188,189,190,191,192,193,194,195,196,197,198,199,200,201,202,203,204,205,206,207,208,209,210,211,212,213,214,215,216,217,218,219,220,221,222,223,224,225,226,227,228,229,230,231,232,233,234,235,236,237,238,239,240,241,242,243,244,245,246,247,248,249,250,251,252,253,254,255,256,257,258,259,260,261,262,263,264,265,266,267,268,269,270,271,272,273,274,275,276,277,278,279,280,281,282,283,284,285,286,287,288,289,290,291,292,293,294,295,296,297,298,299,300,301,302,303,304,305,306,307,308,309,310,311,312,313,314,315,316,317,318,319,320,321,322,323,324,325,326,327,328,329,330,331,332,333,334,335,336,337,338,339,340,341,342,343,344,345,346,347,348,349,350,351,352,353,354,355,356,357,358,359,360,361,362,363,364,365,366,367,368,369,370,371,372,373,374,375,376,377,378,379,380,381,382,383,384,385,386,387,388,389,390,391,392,393,394,395,396,397,398,399],\"y\":{\"__ndarray__\":\"AAAAAAAAAAAAAAAAAAAAAAAAAAAAAAAAAAAAAAAAAAAAAAAAAAAAAAAAAAAAAAAAAAAAAAAAAAAAAAAAAAAAAAAAAAAAAAAAAAAAAAAAAAAAAAAAAAAAAAAAAAAAAAAAAAAAAAAAAAAAAAAAAAAAAAAAAAAAAAAAAAAAAAAAAAAAAAAAAAAAAAAAAAAAAAAAAAAAAAAAAAAAAAAAAAAAAAAAAAAAAAAAAAAAAAAAAAAAAAAAAAAAAAAAAAAAAAAAAAAAAAAAAAAAAAAAAAAAAAAAAAAAAAAAAAAAAAAAAAAAAAAAAAAAAAAAAAAAAAAAAAAAAAAAAAAAAAAAAAAAAAAAAAAAAAAAAAAAAAAAAAAAAAAAAAAAAAAAAAAAAAAAAAAAAAAAAAAAAAAAAAAAAAAAAAAAAAAAAAAAAAAAAAAAAAAAAAAAAAAAAAAAAAAAAAAAAAAAAAAAAAAAAAAAAAAAAAAAAAAAAAAAAAAAAAAAAAAAAAAAAAAAAAAAAAAAAAAAAAAAAAAAAAAAAAAAAAAAAAAAAAAAAAAAAAAAAAAAAAAAAAAAAAAAAAAAAAAAAAAAAAAAAAAAAAAAAAAAAAAAAAAAAAAAAAAAAAAAAAAAAAAAAAAAAAAAAAAAAAAAAAAAAAAAAAAAAAAAAAAAAAAAAAAAAAAAAAAAAAAAAAAAAAAAAAAAAAAAAAAAAAAAAAAAAAAAAAAAAAAAAAAAAAAAAAAAAAAAAAAAAAAAAAAAAAAAAAAAAAAAAAAAAAAAAAAAAAAAAAAAAAAAAAAAAAAAAAAAAAAAAAAAAAAAAAAAAAAAAAAAAAAAAAAAAAAAAAAAAAAAAAAAAAAAAAAAAAAAAAAAAAAAAAAAAAAAAAAAAAAAAAAAAAAAAAAAAAAAAAAAAAAAAAAAAAAAAAAAAAAAAAAAAAAAAAAAAAAAAAAAAAAAAAAAAAAAAAAAAAAAAAAAAAAAAAAAAAAAAAAAAAAAAAAAAAAAAAAAAAAAAAAAAAAAAAAAAAAAAAAAAAAAAAAAAAAAAAAAAAAAAAAAAAAAAAAAAAAAAAAAAAAAAAAAAAAAAAAAAAAAAAAAAAAAAAAAAAAAAAAAAAAAAAAAAAAAAAAAAAAAAAAAAAAAAAAAAAAAAAAAAAAAAAAAAAAAAAAAAAAAAAAAAAAAAAAAAAAAAAAAAAAAAAAAAAAAAAAAAAAAAAAAAAAAAAAAAAAAAAAAAAAAAAAAAAAAAAAAAAAAAAAAAAAAAAAAAAAAAAAAAAAAAAAAAAAAAAAAAAAAAAAAAAAAAAAAAAAAAAAAAAAAAAAAAAAAAAAAAAAAAAAAAAAAAAAAAAAAAAAAAAAAAAAAAAAAAAAAAAAAAAAAAAAAAAAAAAAAAAAAAAAAAAAAAAAAAAAAAAAAAAAAAAAAAAAAAAAAAAAAAAAAAAAAAAAAAAAAAAAAAAAAAAAAAAAAAAAAAAAAAAAAAAAAAAAAAAAAAAAAAAAAAAAAAAAAAAAAAAAAAAAAAAAAAAAAAAAAAAAAAAAAAAAAAAAAAAAAAAAAAAAAAAAAAAAAAAAAAAAAAAAAAAAAAAAAAAAAAAAAAAAAAAAAAAAAAAAAAAAAAAAAAAAAAAAAAAAAAAAAAAAAAAAAAAAAAAAAAAAAAAAAAAAAAAAAAAAAAAAAAAAAAAAAAAAAAAAAAAAAAAAAAAAAAAAAAAAAAAAAAAAAAAAAAAAAAAAAAAAAAAAAAAAAAAAAAAAAAAAAAAAAAAAAAAAAAAAAAAAAAAAAAAAAAAAAAAAAAAAAAAAAAAAAAAAAAAAAAAAAAAAAAAAAAAAAAAAAAAAAAAAAAAAAAAAAAAAAAAAAAAAAAAAAAAAAAAAAAAAAAAAAAAAAAAAAAAAAAAAAAAAAAAAAAAAAAAAAAAAAAAAAAAAAAAAAAAAAAAAAAAAAAAAAAAAAAAAAAAAAAAAAAAAAAAAAAAAAAAAAAAAAAAAAAAAAAAAAAAAAAAAAAAAAAAAAAAAAAAAAAAAAAAAAAAAAAAAAAAAAAAAAAAAAAAAAAAAAAAAAAAAAAAAAAAAAAAAAAAAAAAAAAAAAAAAAAAAAAAAAAAAAAAAAAAAAAAAAAAAAAAAAAAAAAAAAAAAAAAAAAAAAAAAAAAAAAAAAAAAAAAAAAAAAAAAAAAAAAAAAAAAAAAAAAAAAAAAAAAAAAAAAAAAAAAAAAAAAAAAAAAAAAAAAAAAAAAAAAAAAAAAAAAAAAAAAAAAAAAAAAAAAAAAAAAAAAAAAAAAAAAAAAAAAAAAAAAAAAAAAAAAAAAAAAAAAAAAAAAAAAAAAAAAAAAAAAAAAAAAAAAAAAAAAAAAAAAAAAAAAAAAAAAAAAAAAAAAAAAAAAAAAAAAAAAAAAAAAAAAAAAAAAAAAAAAAAAAAAAAAAAAAAAAAAAAAAAAAAAAAAAAAAAAAAAAAAAAAAAAAAAAAAAAAAAAAAAAAAAAAAAAAAAAAAAAAAAAAAAAAAAAAAAAAAAAAAAAAAAAAAAAAAAAAAAAAAAAAAAAAAAAAAAAAAAAAAAAAAAAAAAAAAAAAAAAAAAAAAAAAAAAAAAAAAAAAAAAAAAAAAAAAAAAAAAAAAAAAAAAAAAAAAAAAAAAAAAAAAAAAAAAAAAAAAAAAAAAAAAAAAAAAAAAAAAAAAAAAAAAAAAAAAAAAAAAAAAAAAAAAAAAAAAAAAAAAAAAAAAAAAAAAAAAAAAAAAAAAAAAAAAAAAAAAAAAAAAAAAAAAAAAAAAAAAAAAAAAAAAAAAAAAAAAAAAAAAAAAAAAAAAAAAAAAAAAAAAAAAAAAAAAAAAAAAAAAAAAAAAAAAAAAAAAAAAAAAAAAAAAAAAAAAAAAAAAAAAAAAAAAAAAAAAAAAAAAAAAAAAAAAAAAAAAAAAAAAAAAAAAAAAAAAAAAAAAAAAAAAAAAAAAAAAAAAAAAAAAAAAAAAAAAAAAAAAAAAAAAAAAAAAAAAAAAAAAAAAAAAAAAAAAAAAAAAAAAAAAAAAAAAAAAAAAAAAAAAAAAAAAAAAAAAAAAAAAAAAAAAAAAAAAAAAAAAAAAAAAAAAAAAAAAAAAAAAAAAAAAAAAAAAAAAAAAAAAAAAAAAAAAAAAAAAAAAAAAAAAAAAAAAAAAAAAAAAAAAAAAAAAAAAAAAAAAAAAAAAAAAAAAAAAAAAAAAAAAAAAAAAAAAAAAAAAAAAAAAAAAAAAAAAAAAAAAAAAAAAAAAAAAAAAAAAAAAAAAAAAAAAAAAAAAAAAAAAAAAAAAAAAAAAAAAAAAAAAAAAAAAAAAAAAAAAAAAAAAAAAAAAAAAAAAAAAAAAAAAAAAAAAAAAAAAAAAAAAAAAAAAAAAAAAAAAAAAAAAAAAAAAAAAAAAAAAAAAAAAAAAAAAAAAAAAAAAAAAAAAAAAAAAAAAAAAAAAAAAAAAAAAAAAAAAAAAAAAAAAAAAAAAAAAAAAAAAAAAAAAAAAAAAAAAAAAAAAAAAAAAAAAAAAAAAAAAAAAAAAAAAAAAAAAAAAAAAAAAAAAAAAAAAAAAAAAAAAAAAAAAAAAAAAAAAAAAAAAAAAAAAAAAAAAAAAAAAAAAAAAAAAAAAAAAAAAAAAAAAAAAAAAAAAAAAAAAAAAAAAAAAAAAAAAAAAAAAAAAAAAAAAAAAAAAAAAAAAAAAAAAAAAAAAAAAAAAAAAAAAAAAAAAAAAAAAAAAAAAAAAAAAAAAAAAAAAAAAAAAAAAAAAAAAAAAAAAAAAAAAAAAAAAAAAAAAAAAAAAAAAAAAAAAAAAAAAAAAAAAAAAAAAAAAAAAAAAAAAAAAAAAAAAAAAAAAAAAAAAAAAAAAAAAAAAAAAAAAAAAAAAAAAAAAAAAAAAAAAAAAAAAAAAAAAAAAAAAAAAAAAAAAAAAAAAAAAAAAAAAAAAAAAAAAAAAAAAAAAAAAAAAAAAAAAAAAAAAAAAAAAAAAAAAAAAAAAAAAAAAAAAAAAAAAAAAAAAAAAAAAAAAAAAAAAAAAAAAAAAAAAAAAAAAAAAAAAAAAAAAAAAAAAAAAAAAAAAAAAAAAAAAAAAAAAAAAAAAAAAAAAAAAAAAAAAAAAAAAAAAAAAAAAAAAAAAAAAAAAAAAAAAAAAAAAAAAAAAAAAAAAAAAAAAAAAAAAAAAAAAAAAAAAAAAAAAAAAAAAAAAAAAAAAAAAAAAAAAAAAAAAAAAAAAAAAAAAAAAAAAAAAAAAAAAAAAAAAAAAAAAAAAAAAAAAAAAAAAAAAAAAAAAAAAAAAAAAAAAAAAAAAAAAAAAAAAAAA=\",\"dtype\":\"float64\",\"order\":\"little\",\"shape\":[400]}},\"selected\":{\"id\":\"59648\"},\"selection_policy\":{\"id\":\"59647\"}},\"id\":\"59625\",\"type\":\"ColumnDataSource\"},{\"attributes\":{},\"id\":\"59553\",\"type\":\"BasicTickFormatter\"},{\"attributes\":{},\"id\":\"59622\",\"type\":\"UnionRenderers\"},{\"attributes\":{\"source\":{\"id\":\"59562\"}},\"id\":\"59567\",\"type\":\"CDSView\"},{\"attributes\":{\"line_alpha\":0.1,\"line_color\":\"#f4a261\",\"line_width\":4,\"x\":{\"field\":\"x\"},\"y\":{\"field\":\"y\"}},\"id\":\"59604\",\"type\":\"Line\"},{\"attributes\":{},\"id\":\"59559\",\"type\":\"Selection\"},{\"attributes\":{\"data\":{\"x\":[0,1,2,3,4,5,6,7,8,9,10,11,12,13,14,15,16,17,18,19,20,21,22,23,24,25,26,27,28,29,30,31,32,33,34,35,36,37,38,39,40,41,42,43,44,45,46,47,48,49,50,51,52,53,54,55,56,57,58,59,60,61,62,63,64,65,66,67,68,69,70,71,72,73,74,75,76,77,78,79,80,81,82,83,84,85,86,87,88,89,90,91,92,93,94,95,96,97,98,99,100,101,102,103,104,105,106,107,108,109,110,111,112,113,114,115,116,117,118,119,120,121,122,123,124,125,126,127,128,129,130,131,132,133,134,135,136,137,138,139,140,141,142,143,144,145,146,147,148,149,150,151,152,153,154,155,156,157,158,159,160,161,162,163,164,165,166,167,168,169,170,171,172,173,174,175,176,177,178,179,180,181,182,183,184,185,186,187,188,189,190,191,192,193,194,195,196,197,198,199,200,201,202,203,204,205,206,207,208,209,210,211,212,213,214,215,216,217,218,219,220,221,222,223,224,225,226,227,228,229,230,231,232,233,234,235,236,237,238,239,240,241,242,243,244,245,246,247,248,249,250,251,252,253,254,255,256,257,258,259,260,261,262,263,264,265,266,267,268,269,270,271,272,273,274,275,276,277,278,279,280,281,282,283,284,285,286,287,288,289,290,291,292,293,294,295,296,297,298,299,300,301,302,303,304,305,306,307,308,309,310,311,312,313,314,315,316,317,318,319,320,321,322,323,324,325,326,327,328,329,330,331,332,333,334,335,336,337,338,339,340,341,342,343,344,345,346,347,348,349,350,351,352,353,354,355,356,357,358,359,360,361,362,363,364,365,366,367,368,369,370,371,372,373,374,375,376,377,378,379,380,381,382,383,384,385,386,387,388,389,390,391,392,393,394,395,396,397,398,399],\"y\":{\"__ndarray__\":\"AAAAAAAAAAAAAAAAAAAAAAAAAAAAAAAAAAAAAAAAAAAAAAAAAAAAAAAAAAAAAAAAAAAAAAAAAAAAAAAAAAAAAAAAAAAAAAAAAAAAAAAAAAAAAAAAAAAAAAAAAAAAAAAAAAAAAAAAAAAAAAAAAAAAAAAAAAAAAAAAAAAAAAAAAAAAAAAAAAAAAAAAAAAAAAAAAAAAAAAAAAAAAAAAAAAAAAAAAAAAAAAAAAAAAAAAAAAAAAAAAAAAAAAAAAAAAAAAAAAAAAAAAAAAAAAAAAAAAAAAAAAAAAAAAAAAAAAAAAAAAAAAAAAAAAAAAAAAAAAAAAAAAAAAAAAAAAAAAAAAAAAAAAAAAAAAAAAAAAAAAAAAAAAAAAAAAAAAAAAAAAAAAAAAAAAAAAAAAAAAAAAAAAAAAAAAAAAAAAAAAAAAAAAAAAAAAAAAAAAAAAAAAAAAAAAAAAAAAAAAAAAAAAAAAAAAAAAAAAAAAAAAAAAAAAAAAAAAAAAAAAAAAAAAAAAAAAAAAAAAAAAAAAAAAAAAAAAAAAAAAAAAAAAAAAAAAAAAAAAAAAAAAAAAAAAAAAAAAAAAAAAAAAAAAAAAAAAAAAAAAAAAAAAAAAAAAAAAAAAAAAAAAAAAAAAAAAAAAAAAAAAAAAAAAAAAAAAAAAAAAAAAAAAAAAAAAAAAAAAAAAAAAAAAAAAAAAAAAAAAAAAAAAAAAAAAAAAAAAAAAAAAAAAAAAAAAAAAAAAAAAAAAAAAAAAAAAAAAAAAAAAAAAAAAAAAAAAAAAAAAAAAAAAAAAAAAAAAAAAAAAAAAAAAAAAAAAAAAAAAAAAAAAAAAAAAAAAAAAAAAAAAAAAAAAAAAAAAAAAAAAAAAAAAAAAAAAAAAAAAAAAAAAAAAAAAAAAAAAAAAAAAAAAAAAAAAAAAAAAAAAAAAAAAAAAAAAAAAAAAAAAAAAAAAAAAAAAAAAAAAAAAAAAAAAAAAAAAAAAAAAAAAAAAAAAAAAAAAAAAAAAAAAAAAAAAAAAAAAAAAAAAAAAAAAAAAAAAAAAAAAAAAAAAAAAAAAAAAAAAAAAAAAAAAAAAAAAAAAAAAAAAAAAAAAAAAAAAAAAAAAAAAAAAAAAAAAAAAAAAAAAAAAAAAAAAAAAAAAAAAAAAAAAAAAAAAAAAAAAAAAAAAAAAAAAAAAAAAAAAAAAAAAAAAAAAAAAAAAAAAAAAAAAAAAAAAAAAAAAAAAAAAAAAAAAAAAAAAAAAAAAAAAAAZDRo/xEB4jz+QzByDfILPd7r2vD/tCY9RqUButW2PT37lfhji2hbPcZMK77ShoA9uJ4FvLR1pz0Ap6RRQ80jPnwt+AS3+3k+csiY3X3amz7ugrrTxPO0PiLxqrQvEMs+JKuHrX373T4FSocTHb7tPi/MJcVZavs+u7u7LYreBz+0hWMXKtATP3q8MQIBkB8/Jgg5d981KD+6+sCqKQ4yP7Dbmqo/Hzo/YhzHcYR7Qj+eieB6eGZJP8MtRb78E1E/TinQuz6RVj/dln/t4ildP5o2s3ZyfmI/QQ5THDwuZz/N32S0b2VsPyl6U+29omE/XvbjXB11ZT8YoLjThsdpPzpmyCApkG4/YFg0nUDzcT/u2XKpnsl0P+hnSNMj+Hc/UtWhvh42ez/CUK6x6sh+P/elZ6XQQoE/myyL5iwkgz+WrJhSSUaFP5xAZTUSX4c/OuPc5Ed0iT/TMVz7wKGLP4HaShPz3o0/JxJ0t2MLkD/pDb9qYyWRP7Yu3Er5t54/fiYbBvIwoD8Taal0XheoPxLUXbC0nKc/PnK58cCsqD83B3QPoMmlP7MRDAHxqqY/NU6am0DJqj8TrEsV8O2rPzagfTUxwaw/hOw/NC6urT8LR3CMHyKxP2c0iSzNmbE/HNUhMv4Ssj9ieb8QKlmyPy03caenrrM/ZzZ0F+ketD9xnIC7qJezP1RyYsxn/LM/PIseqP1dtT9y2XWoy7+1P4UTJngYH7Y/Fh9ZDMBxtT+PeCgqBMa1P0Fax0eiGLY/9Ktn5ng6tj9VA3ksJoq2PzKPKcrN1bY/PJHTn6Ydtz8ehv/pk2K3PzC54p3tpLc/KBNQleDktz8FUhWpNJu5P3oUeXyyZ7c/25qsdQWftz/oVK4GGua3P4LPS6jzTrg/6FLmCHl5uD9QOh15X6K4P4yosAXOybg/+kzl18jvuD/Nq2BR1RS5P2jF7EKpOLk/qDO0cQZcuT/WwUSjI365PyHbWHcLn7k/UGeCdvN3tz+0Bi2CKZa3Py55uXtSs7c/NmmQlnrPtz9C7xtdqeq3P5PDLC3mBLg/pldW2TseuD82h6fbsja4P2jrC1hnmbo/NwvgmPFkuD/v803/wca6P95hVghr3Lo/QhUZhFjxuj9dotbakQW7P/vgz4e/zLg/vWeNn1bfuD/USzaiUPG4P0oohzyzArk/ZcaawIMTuT9h7qRfyCO5P2dsTtqFM7k/mWaXFncVvz8riGXhkCO/P2zJLmM3Mb8/ZujTrm0+vz8PpdgHOUu/P9r4xOWcV78/1xagJp1jvz8PMr/HPW+/P8mVu7GCer8/OO169iqFvz9g6+CcwY+/P7JBUfYGmr8/QhFx9f6jvz9mawGFKCTSP0zO9F07JtI/IeLeWD4o0j9FLWkGGyrSP+RmENEALNI/Y+3iOdgt0j8MdLrNoS/SPw3ItBBeMdI/ZuYUUgwz0j8APMIrrjTSP2/gJSFENtI/5GwTnM430j89pLAOTjnSP6wPuN7COtI/9zsXby080j8oH8sdjj3SP3CUJkXlPtI/6k/6QDNA0j+JZzhieEHSPxPli/+0QtI/3mPBaOlD0j/jFkrjFUXSP94rLbg6RtI/mIexdaJEwj8QxvBtwkfCP6ZkjMLMSsI/SaW9E4Hfuz+ENLZQZuS7Pzbiksgr6bs/PID8g9Ltuz9qkA2qW/K7P8PjUl3I9rs/WaDJhQ1fwj/WongsiGHCPzm3dYvzY8I/fRAXRVBmwj/e3eLsnmjCP9z59gvgasI/T1ZvLBRtwj8QB8/GO2/CPz/YoFhXccI/vQ6YW2dzwj/bfsA4bHXCP08WgV9md8I/ruqUNVZ5wj9Mb0gePHvCPwFxSvCtjMw/5Lo2NA2OzD/eqvTOZY/MP3CaVwi4kMw/Ou/xIgSSzD/ySIBfSpPMP4FPhUn6lcw/6xOF2zWXzD8CBGA2bJjMP0jVWoqdmcw/ZuVXB8qazD+mDmuGNJ3MP6InZ+hXnsw/ZDZisnafzD8BoyNPkaDMP66LIeWnocw/a4pMoLqizD/zqbGlyaPMPxiYFRfVpMw/FezxEd2lzD+NkuzB4abMP9yTDlbjp8w/+INE4uGozD+FFp5+3anMP/oyGEfWqsw/RyImA5mpyD85cQeNmqrIP0J3PJSZq8g/B6FCMZasyD/Q/jZ9kK3IP9eINpqIrsg/gn9Wk36vyD8tgjqacrDIP8KJupJhscg/LrQpVk6yyD+w1zROObPIP8h+BY8itMg/iv9NQQq1yD8MBENl8LXIP+HPvxbVtsg/mIzgUri3yD+Fc15HmrjIP/eGqfZ6ucg/j2xGa1q6yD+r4PmzOLvIP3gRyN8VvMg/DGVeAPK8yD8eZKghzb3IP2AN8EKnvsg/WlD4eIC/yD/VVfHQWMDIP6cFsV4wwcg/cWDeLgfCyD+YmsVL3cLIP6VD4Luyw8g/qVNyhofEyD+xoiW0W8XIP0tzQVsvxsg/Sj7ehQLHyD8nyk091cfIPxH604inyMg/1oG0cnnJyD+ejvD2SsrIP8LXaxwcy8g/hNYj+uzLyD+pvvWovczIPwwy1TOOzcg/0ncVnF7OyD/cF9fjLs/IP25K7wv/z8g/VFA3Ic/QyD9M1scnn9HIP9keZ1Pv1Mg/NOeT0r/VyD+Bk7tPkNbIP4U8nNJg18g/Sw98n7y1wj/mdFXZvrbCPwFrYRnBt8I/v6VGaMO4wj+OYgPDxbnCP3FtEOjOvcI/QWls7dS+wj8Wq5kc27/CP13KC3zhwMI/2sUyIejBwj8V418h78LCP0s/hlP2w8I/XnGew/3Ewj8AYpGFBcbCP8PSu5UNx8I/5Bi97xXIwj+p19Kt5uDIPz3h7Nq34cg/PfE2EILCwj/xoexMhcPCP7Y4AQCJxMI/ru/EKY3Fwj/MxRTfkcbCP+mlcwuXx8I/2a+xsJzIwj8BXs3HosnCP+jIqFipysI/3ZDIdbDLwj+J540xuMzCP0ImI5zAzcI/X2gGqsnOwj/3xXpX08/CP1dVI6jd0MI/PdvapejRwj8=\",\"dtype\":\"float64\",\"order\":\"little\",\"shape\":[400]}},\"selected\":{\"id\":\"59623\"},\"selection_policy\":{\"id\":\"59622\"}},\"id\":\"59602\",\"type\":\"ColumnDataSource\"},{\"attributes\":{\"line_color\":\"#e9c46a\",\"line_width\":4,\"x\":{\"field\":\"x\"},\"y\":{\"field\":\"y\"}},\"id\":\"59582\",\"type\":\"Line\"},{\"attributes\":{\"line_alpha\":0.1,\"line_color\":\"#264653\",\"line_width\":4,\"x\":{\"field\":\"x\"},\"y\":{\"field\":\"y\"}},\"id\":\"59546\",\"type\":\"Line\"},{\"attributes\":{\"logo\":null},\"id\":\"59542\",\"type\":\"Toolbar\"},{\"attributes\":{\"source\":{\"id\":\"59581\"}},\"id\":\"59586\",\"type\":\"CDSView\"},{\"attributes\":{\"coordinates\":null,\"group\":null,\"items\":[{\"id\":\"59561\"},{\"id\":\"59580\"},{\"id\":\"59601\"},{\"id\":\"59624\"},{\"id\":\"59649\"}]},\"id\":\"59560\",\"type\":\"Legend\"},{\"attributes\":{\"coordinates\":null,\"data_source\":{\"id\":\"59602\"},\"glyph\":{\"id\":\"59603\"},\"group\":null,\"hover_glyph\":null,\"muted_glyph\":{\"id\":\"59605\"},\"nonselection_glyph\":{\"id\":\"59604\"},\"view\":{\"id\":\"59607\"}},\"id\":\"59606\",\"type\":\"GlyphRenderer\"},{\"attributes\":{\"coordinates\":null,\"formatter\":{\"id\":\"59553\"},\"group\":null,\"major_label_policy\":{\"id\":\"59554\"},\"major_tick_in\":0,\"minor_tick_line_color\":null,\"ticker\":{\"id\":\"59539\"}},\"id\":\"59538\",\"type\":\"LinearAxis\"},{\"attributes\":{\"axis\":{\"id\":\"59534\"},\"coordinates\":null,\"grid_line_color\":null,\"group\":null,\"ticker\":null},\"id\":\"59537\",\"type\":\"Grid\"},{\"attributes\":{},\"id\":\"59558\",\"type\":\"UnionRenderers\"},{\"attributes\":{\"label\":{\"value\":\"1\"},\"renderers\":[{\"id\":\"59566\"}]},\"id\":\"59580\",\"type\":\"LegendItem\"},{\"attributes\":{},\"id\":\"59530\",\"type\":\"LinearScale\"},{\"attributes\":{\"line_alpha\":0.1,\"line_color\":\"#e9c46a\",\"line_width\":4,\"x\":{\"field\":\"x\"},\"y\":{\"field\":\"y\"}},\"id\":\"59583\",\"type\":\"Line\"},{\"attributes\":{},\"id\":\"59528\",\"type\":\"DataRange1d\"},{\"attributes\":{\"line_alpha\":0.2,\"line_color\":\"#2a9d8f\",\"line_width\":4,\"x\":{\"field\":\"x\"},\"y\":{\"field\":\"y\"}},\"id\":\"59565\",\"type\":\"Line\"},{\"attributes\":{},\"id\":\"59532\",\"type\":\"LinearScale\"},{\"attributes\":{\"label\":{\"value\":\"2\"},\"renderers\":[{\"id\":\"59585\"}]},\"id\":\"59601\",\"type\":\"LegendItem\"},{\"attributes\":{\"label\":{\"value\":\"4\"},\"renderers\":[{\"id\":\"59629\"}]},\"id\":\"59649\",\"type\":\"LegendItem\"},{\"attributes\":{},\"id\":\"59647\",\"type\":\"UnionRenderers\"},{\"attributes\":{\"coordinates\":null,\"formatter\":{\"id\":\"59556\"},\"group\":null,\"major_label_policy\":{\"id\":\"59557\"},\"major_tick_in\":0,\"minor_tick_line_color\":null,\"ticker\":{\"id\":\"59535\"}},\"id\":\"59534\",\"type\":\"LinearAxis\"},{\"attributes\":{\"line_alpha\":0.1,\"line_color\":\"#2a9d8f\",\"line_width\":4,\"x\":{\"field\":\"x\"},\"y\":{\"field\":\"y\"}},\"id\":\"59564\",\"type\":\"Line\"},{\"attributes\":{\"line_color\":\"#264653\",\"line_width\":4,\"x\":{\"field\":\"x\"},\"y\":{\"field\":\"y\"}},\"id\":\"59545\",\"type\":\"Line\"},{\"attributes\":{},\"id\":\"59648\",\"type\":\"Selection\"},{\"attributes\":{},\"id\":\"59535\",\"type\":\"BasicTicker\"},{\"attributes\":{\"line_alpha\":0.2,\"line_color\":\"#264653\",\"line_width\":4,\"x\":{\"field\":\"x\"},\"y\":{\"field\":\"y\"}},\"id\":\"59547\",\"type\":\"Line\"},{\"attributes\":{\"line_color\":\"#2a9d8f\",\"line_width\":4,\"x\":{\"field\":\"x\"},\"y\":{\"field\":\"y\"}},\"id\":\"59563\",\"type\":\"Line\"},{\"attributes\":{\"data\":{\"x\":[0,1,2,3,4,5,6,7,8,9,10,11,12,13,14,15,16,17,18,19,20,21,22,23,24,25,26,27,28,29,30,31,32,33,34,35,36,37,38,39,40,41,42,43,44,45,46,47,48,49,50,51,52,53,54,55,56,57,58,59,60,61,62,63,64,65,66,67,68,69,70,71,72,73,74,75,76,77,78,79,80,81,82,83,84,85,86,87,88,89,90,91,92,93,94,95,96,97,98,99,100,101,102,103,104,105,106,107,108,109,110,111,112,113,114,115,116,117,118,119,120,121,122,123,124,125,126,127,128,129,130,131,132,133,134,135,136,137,138,139,140,141,142,143,144,145,146,147,148,149,150,151,152,153,154,155,156,157,158,159,160,161,162,163,164,165,166,167,168,169,170,171,172,173,174,175,176,177,178,179,180,181,182,183,184,185,186,187,188,189,190,191,192,193,194,195,196,197,198,199,200,201,202,203,204,205,206,207,208,209,210,211,212,213,214,215,216,217,218,219,220,221,222,223,224,225,226,227,228,229,230,231,232,233,234,235,236,237,238,239,240,241,242,243,244,245,246,247,248,249,250,251,252,253,254,255,256,257,258,259,260,261,262,263,264,265,266,267,268,269,270,271,272,273,274,275,276,277,278,279,280,281,282,283,284,285,286,287,288,289,290,291,292,293,294,295,296,297,298,299,300,301,302,303,304,305,306,307,308,309,310,311,312,313,314,315,316,317,318,319,320,321,322,323,324,325,326,327,328,329,330,331,332,333,334,335,336,337,338,339,340,341,342,343,344,345,346,347,348,349,350,351,352,353,354,355,356,357,358,359,360,361,362,363,364,365,366,367,368,369,370,371,372,373,374,375,376,377,378,379,380,381,382,383,384,385,386,387,388,389,390,391,392,393,394,395,396,397,398,399],\"y\":{\"__ndarray__\":\"AAAAAAAAAAAAAAAAAAAAAAAAAAAAAAAAAAAAAAAAAAAAAAAAAAAAAAAAAAAAAAAAAAAAAAAAAAAAAAAAAAAAAAAAAAAAAAAAAAAAAAAAAAAAAAAAAAAAAAAAAAAAAAAAAAAAAAAAAAAAAAAAAAAAAAAAAAAAAAAAAAAAAAAAAAAAAAAAAAAAAAAAAAAAAAAAAAAAAAAAAAAAAAAAAAAAAAAAAAAAAAAAAAAAAAAAAAAAAAAAAAAAAAAAAAAAAAAAAAAAAAAAAAAAAAAAAAAAAAAAAAAAAAAAAAAAAAAAAAAAAAAAAAAAAAAAAAAAAAAAAAAAAAAAAAAAAAAAAAAAAAAAAAAAAAAAAAAAAAAAAAAAAAAAAAAAAAAAAAAAAAAAAAAAAAAAAAAAAAAAAAAAAAAAAAAAAAAAAAAAAAAAAAAAAAAAAAAAAAAAAAAAAAAAAAAAAAAAAAAAAAAAAAAAAAAAAAAAAAAAAAAAAAAAAAAAAAAAAAAAAAAAAAAAAAAAAAAAAAAAAAAAAAAAAAAAAAAAAAAAAAAAAAAAAAAAAAAAAAAAAAAAAAAAAAAAAAAAAAAAAAAAAAAAAAAAAAAAAAAAAAAAAAAAAAAAAAAAAAAAAAAAAAAAAAAAAAAAAAAAAAAAAAAAAAAAAAAAAAAAAAAAAAAAAAAAAAAAAAAAAAAAAAAAAAAAAAAAAAAAAAAAAAAAAAAAAAAAAAAAAAAAAAAAAAAAAAAAAAAAAAAAAAAAAAAAAAAAAAAAAAAAAAAAAAAAAAAAAAAAAAAAAAAAAAAAAAAAAAAAAAAAAAAAAAAAAAAAAAAAAAAAAAAAAAAAAAAAAAAAAAAAAAAAAAAAAAAAAAAAAAAAAAAAAAAAAAAAAAAAAAAAAAAAAAAAAAAAAAAAAAAAAAAAAAAAAAAAAAAAAAAAAAAAAAAAAAAAAAAAAAAAAAAAAAAAAAAAAAAAAAAAAAAAAAAAAAAAAAAAAAAAAAAAAAAAAAAAAAAAAAAAAAAAAAAAAAAAAAAAAAAAAAAAAAAAAAAAAAAAAAAAAAAAAAAAAAAAAAAAAAAAAAAAAAAAAAAAAAAAAAAAAAAAAAAAAAAAAAAAAAAAAAAAAAAAAAAAAAAAAAAAAAAAAAAAAAAAAAAAAAAAAAAAAAAAAAAAAAAAAAAAAAAAAAAAAAAAAAAAAAAAAAAAAAAAAAAAAAAAAAAAAAAAAAAAAAAAAAAAAAAAAAAAAAAAAAAAAAAAAAAAAAAAAAAAAAAAAAAAAAAAAAAAAAAAAAAAAAAAAAAAAAAAAAAAAAAAAAAAAAAAAAAAAAAAAAAAAAAAAAAAAAAAAAAAAAAAAAAAAAAAAAAAAAAAAAAAAAAAAAAAAAAAAAAAAAAAAAAAAAAAAAAAAAAAAAAAAAAAAAAAAAAAAAAAAAAAAAAAAAAAAAAAAAAAAAAAAAAAAAAAAAAAAAAAAAAAAAAAAAAAAAAAAAAAAAAAAAAAAAAAAAAAAAAAAAAAAAAAAAAAAAAAAAAAAAAAAAAAAAAAAAAAAAAAAAAAAAAAAAAAAAAAAAAAAAAAAAAAAAAAAAAAAAAAAAAAAAAAAAAAAAAAAAAAAAAAAAAAAAAAAAAAAAAAAAAAAAAAAAAAAAAAAAAAAAAAAAAAAAAAAAAAAAAAAAAAAAAAAAAAAAAAAAAAAAAAAAAAAAAAAAAAAAAAAAAAAAAAAAAAAAAAAAAAAAAAAAAAAAAAAAAAAAAAAAAAAAAAAAAAAAAAAAAAAAAAAAAAAAAAAAAAAAAAAAAAAAAAAAAAAAAAAAAAAAAAAAAAAAAAAAAAAAAAAAAAAAAAAAAAAAAAAAAAAAAAAAAAAAAAAAAAAAAAAAAAAAAAAAAAAAAAAAAAAAAAAAAAAAAAAAAAAAAAAAAAAAAAAAAAAAAAAAAAAAAAAAAAAAAAAAAAAAAAAAAAAAAAAAAAAAAAAAAAAAAAAAAAAAAAAAAAAAAAAAAAAAAAAAAAAAAAAAAAAAAAAAAAAAAAAAAAAAAAAAAAAAAAAAAAAAAAAAAAAAAAAAAAAAAAAAAAAAAAAAAAAAAAAAAAAAAAAAAAAAAAAAAAAAAAAAAAAAAAAAAAAAAAAAAAAAAAAAAAAAAAAAAAAAAAAAAAAAAAAAAAAAAAAAAAAAAAAAAAAAAAAAAAAAAAAAAAAAAAAAAAAAAAAAAAAAAAAAAAAAAAAAAAAAAAAAAAAAAAAAAAAAAAAAAAAAAAAAAAAAAAAAAAAAAAAAAAAAAAAAAAAAAAAAAAAAAAAAAAAAAAAAAAAAAAAAAAAAAAAAAAAAAAAAAAAAAAAAAAAAAAAAAAAAAAAAAAAAAAAAAAAAAAAAAAAAAAAAAAAAAAAAAAAAAAAAAAAAAAAAAAAAAAAAAAAAAAAAAAAAAAAAAAAAAAAAAAAAAAAAAAAAAAAAAAAAAAAAAAAAAAAAAAAAAAAAAAAAAAAAAAAAAAAAAAAAAAAAAAAAAAAAAAAAAAAAAAAAAAAAAAAAAAAAAAAAAAAAAAAAAAAAAAAAAAAAAAAAAAAAAAAAAAAAAAAAAAAAAAAAAAAAAAAAAAAAAAAAAAAAAAAAAAAAAAAAAAAAAAAAAAAAAAAAAAAAAAAAAAAAAAAAAAAAAAAAAAAAAAAAAAAAAAAAAAAAAAAAAAAAAAAAAAAAAAAAAAAAAAAAAAAAAAAAAAAAAAAAAAAAAAAAAAAAAAAAAAAAAAAAAAAAAAAAAAAAAAAAAAAAAAAAAAAAAAAAAAAAAAAAAAAAAAAAAAAAAAAAAAAAAAAAAAAAAAAAAAAAAAAAAAAAAAAAAAAAAAAAAAAAAAAAAAAAAAAAAAAAAAAAAAAAAAAAAAAAAAAAAAAAAAAAAAAAAAAAAAAAAAAAAAAAAAAAAAAAAAAAAAAAAAAAAAAAAAAAAAAAAAAAAAAAAAAAAAAAAAAAAAAAAAAAAAAAAAAAAAAAAAAAAAAAAAAAAAAAAAAAAAAAAAAAAAAAAAAAAAAAAAAAAAAAAAAAAAAAAAAAAAAAAAAAAAAAAAAAAAAAAAAAAAAAAAAAAAAAAAAAAAAAAAAAAAAAAAAAAAAAAAAAAAAAAAAAAAAAAAAAAAAAAAAAAAAAAAAAAAAAAAAAAAAAAAAAAAAAAAAAAAAAAAAAAAAAAAAAAAAAAAAAAAAAAAAAAAAAAAAAAAAAAAAAAAAAAAAAAAAAAAAAAAAAAAAAAAAAAAAAAAAAAAAAAAAAAAAAAAAAAAAAAAAAAAAAAAAAAAAAAAAAAAAAAAAAAAAAAAAAAAAAAAAAAAAAAAAAAAAAAAAAAAAAAAAAAAAAAAAAAAAAAAAAAAAAAAAAAAAAAAAAAAAAAAAAAAAAAAAAAAAAAAAAAAAAAAAAAAAAAAAAAAAAAAAAAAAAAAAAAAAAAAAAAAAAAAAAAAAAAAAAAAAAAAAAAAAAAAAAAAAAAAAAAAAAAAAAAAAAAAAAAAAAAAAAAAAAAAAAAAAAAAAAAAAAAAAAAAAAAAAAAAAAAAAAAAAAAAAAAAAAAAAAAAAAAAAAAAAAAAAAAAAAAAAAAAAAAAAAAAAAAAAAAAAAAAAAAAAAAAAAAAAAAAAAAAAAAAAAAAAAAAAAAAAAAAAAAAAAAAAAAAAAAAAAAAAAAAAAAAAAAAAAAAAAAAAAAAAAAAAAAAAAAAAAAAAAAAAAAAAAAAAAAAAAAAAAAAAAAAAAAAAAAAAAAAAAAAAAAAAAAAAAAAAAAAAAAAAAAAAAAAAAAAAAAAAAAAAAAAAAAAAAAAAAAAAAAAAAAAAAAAAAAAAAAAAAAAAAAAAAAAAAAAAAAAAAAAAAAAAAAAAAAAAAAAAAAAAAAAAAAAAAAAAAAAAAAAAAAAAAAAAAAAAAAAAAAAAAAAAAAAAAAAAAAAAAAAAAAAAAAAAAAAAAAAAAAAAAAAAAAAAAAAAAAAAAAAAAAAAAAAAAAAAAAAAAAAAAAAAAAAAAAAAAAAAAAAAAAAAAAAAAAAAAAAAAAAAAAAAAAAAAAAAAAAAAAAAAAAAAAAAAAAAAAAAAAAAAAAAAAAAAAAAAAAAAAAAAAAAAAAAAAAAAAAAAAAAAAAAAAAAAAAAAAAAAAAAAAAAAAAAAAAAAAAAAAAAAAAAAAAAAAAAAAAAAAAAAAAAAAAAAAAAAAAAAAAAAAAAAAAAAAAAAAAAAAAAAAAAAAAAAAAAAAAAAAAAAAAAAAAAAAAAAAAAAAAAAAAAAAAAAAAAAAAAAAAAAAAAAAAAAAAAAAAAAAAAAAAAAAAAAAAAAAAAAA=\",\"dtype\":\"float64\",\"order\":\"little\",\"shape\":[400]}},\"selected\":{\"id\":\"59600\"},\"selection_policy\":{\"id\":\"59599\"}},\"id\":\"59581\",\"type\":\"ColumnDataSource\"},{\"attributes\":{\"data\":{\"x\":[0,1,2,3,4,5,6,7,8,9,10,11,12,13,14,15,16,17,18,19,20,21,22,23,24,25,26,27,28,29,30,31,32,33,34,35,36,37,38,39,40,41,42,43,44,45,46,47,48,49,50,51,52,53,54,55,56,57,58,59,60,61,62,63,64,65,66,67,68,69,70,71,72,73,74,75,76,77,78,79,80,81,82,83,84,85,86,87,88,89,90,91,92,93,94,95,96,97,98,99,100,101,102,103,104,105,106,107,108,109,110,111,112,113,114,115,116,117,118,119,120,121,122,123,124,125,126,127,128,129,130,131,132,133,134,135,136,137,138,139,140,141,142,143,144,145,146,147,148,149,150,151,152,153,154,155,156,157,158,159,160,161,162,163,164,165,166,167,168,169,170,171,172,173,174,175,176,177,178,179,180,181,182,183,184,185,186,187,188,189,190,191,192,193,194,195,196,197,198,199,200,201,202,203,204,205,206,207,208,209,210,211,212,213,214,215,216,217,218,219,220,221,222,223,224,225,226,227,228,229,230,231,232,233,234,235,236,237,238,239,240,241,242,243,244,245,246,247,248,249,250,251,252,253,254,255,256,257,258,259,260,261,262,263,264,265,266,267,268,269,270,271,272,273,274,275,276,277,278,279,280,281,282,283,284,285,286,287,288,289,290,291,292,293,294,295,296,297,298,299,300,301,302,303,304,305,306,307,308,309,310,311,312,313,314,315,316,317,318,319,320,321,322,323,324,325,326,327,328,329,330,331,332,333,334,335,336,337,338,339,340,341,342,343,344,345,346,347,348,349,350,351,352,353,354,355,356,357,358,359,360,361,362,363,364,365,366,367,368,369,370,371,372,373,374,375,376,377,378,379,380,381,382,383,384,385,386,387,388,389,390,391,392,393,394,395,396,397,398,399],\"y\":{\"__ndarray__\":\"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\",\"dtype\":\"float64\",\"order\":\"little\",\"shape\":[400]}},\"selected\":{\"id\":\"59559\"},\"selection_policy\":{\"id\":\"59558\"}},\"id\":\"59544\",\"type\":\"ColumnDataSource\"},{\"attributes\":{},\"id\":\"59556\",\"type\":\"BasicTickFormatter\"},{\"attributes\":{\"line_color\":\"#e76f51\",\"line_width\":4,\"x\":{\"field\":\"x\"},\"y\":{\"field\":\"y\"}},\"id\":\"59626\",\"type\":\"Line\"},{\"attributes\":{\"source\":{\"id\":\"59544\"}},\"id\":\"59549\",\"type\":\"CDSView\"},{\"attributes\":{\"line_alpha\":0.1,\"line_color\":\"#e76f51\",\"line_width\":4,\"x\":{\"field\":\"x\"},\"y\":{\"field\":\"y\"}},\"id\":\"59627\",\"type\":\"Line\"},{\"attributes\":{\"line_alpha\":0.2,\"line_color\":\"#e76f51\",\"line_width\":4,\"x\":{\"field\":\"x\"},\"y\":{\"field\":\"y\"}},\"id\":\"59628\",\"type\":\"Line\"},{\"attributes\":{\"axis\":{\"id\":\"59538\"},\"coordinates\":null,\"dimension\":1,\"grid_line_color\":null,\"group\":null,\"ticker\":null},\"id\":\"59541\",\"type\":\"Grid\"},{\"attributes\":{\"line_alpha\":0.2,\"line_color\":\"#f4a261\",\"line_width\":4,\"x\":{\"field\":\"x\"},\"y\":{\"field\":\"y\"}},\"id\":\"59605\",\"type\":\"Line\"},{\"attributes\":{\"data\":{\"x\":[0,1,2,3,4,5,6,7,8,9,10,11,12,13,14,15,16,17,18,19,20,21,22,23,24,25,26,27,28,29,30,31,32,33,34,35,36,37,38,39,40,41,42,43,44,45,46,47,48,49,50,51,52,53,54,55,56,57,58,59,60,61,62,63,64,65,66,67,68,69,70,71,72,73,74,75,76,77,78,79,80,81,82,83,84,85,86,87,88,89,90,91,92,93,94,95,96,97,98,99,100,101,102,103,104,105,106,107,108,109,110,111,112,113,114,115,116,117,118,119,120,121,122,123,124,125,126,127,128,129,130,131,132,133,134,135,136,137,138,139,140,141,142,143,144,145,146,147,148,149,150,151,152,153,154,155,156,157,158,159,160,161,162,163,164,165,166,167,168,169,170,171,172,173,174,175,176,177,178,179,180,181,182,183,184,185,186,187,188,189,190,191,192,193,194,195,196,197,198,199,200,201,202,203,204,205,206,207,208,209,210,211,212,213,214,215,216,217,218,219,220,221,222,223,224,225,226,227,228,229,230,231,232,233,234,235,236,237,238,239,240,241,242,243,244,245,246,247,248,249,250,251,252,253,254,255,256,257,258,259,260,261,262,263,264,265,266,267,268,269,270,271,272,273,274,275,276,277,278,279,280,281,282,283,284,285,286,287,288,289,290,291,292,293,294,295,296,297,298,299,300,301,302,303,304,305,306,307,308,309,310,311,312,313,314,315,316,317,318,319,320,321,322,323,324,325,326,327,328,329,330,331,332,333,334,335,336,337,338,339,340,341,342,343,344,345,346,347,348,349,350,351,352,353,354,355,356,357,358,359,360,361,362,363,364,365,366,367,368,369,370,371,372,373,374,375,376,377,378,379,380,381,382,383,384,385,386,387,388,389,390,391,392,393,394,395,396,397,398,399],\"y\":{\"__ndarray__\":\"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\",\"dtype\":\"float64\",\"order\":\"little\",\"shape\":[400]}},\"selected\":{\"id\":\"59579\"},\"selection_policy\":{\"id\":\"59578\"}},\"id\":\"59562\",\"type\":\"ColumnDataSource\"},{\"attributes\":{\"coordinates\":null,\"data_source\":{\"id\":\"59625\"},\"glyph\":{\"id\":\"59626\"},\"group\":null,\"hover_glyph\":null,\"muted_glyph\":{\"id\":\"59628\"},\"nonselection_glyph\":{\"id\":\"59627\"},\"view\":{\"id\":\"59630\"}},\"id\":\"59629\",\"type\":\"GlyphRenderer\"},{\"attributes\":{\"coordinates\":null,\"data_source\":{\"id\":\"59581\"},\"glyph\":{\"id\":\"59582\"},\"group\":null,\"hover_glyph\":null,\"muted_glyph\":{\"id\":\"59584\"},\"nonselection_glyph\":{\"id\":\"59583\"},\"view\":{\"id\":\"59586\"}},\"id\":\"59585\",\"type\":\"GlyphRenderer\"}],\"root_ids\":[\"59525\"]},\"title\":\"Bokeh Application\",\"version\":\"2.4.2\"}};\n  const render_items = [{\"docid\":\"bd4b6851-da12-4ec3-8121-77e85ac429a4\",\"root_ids\":[\"59525\"],\"roots\":{\"59525\":\"b0ac4588-abdf-4879-bdd4-55bb7fa2061b\"}}];\n  root.Bokeh.embed.embed_items_notebook(docs_json, render_items);\n\n  }\n  if (root.Bokeh !== undefined) {\n    embed_document(root);\n  } else {\n    let attempts = 0;\n    const timer = setInterval(function(root) {\n      if (root.Bokeh !== undefined) {\n        clearInterval(timer);\n        embed_document(root);\n      } else {\n        attempts++;\n        if (attempts > 100) {\n          clearInterval(timer);\n          console.log(\"Bokeh: ERROR: Unable to run BokehJS code because BokehJS library is missing\");\n        }\n      }\n    }, 10, root)\n  }\n})(window);",
      "application/vnd.bokehjs_exec.v0+json": ""
     },
     "metadata": {
      "application/vnd.bokehjs_exec.v0+json": {
       "id": "59525"
      }
     }
    }
   ],
   "source": [
    "width = 600\n",
    "height = 600\n",
    "\n",
    "for j in range(o.shape[1]):\n",
    "    figg = graphs.figure(plot_width=width, plot_height=height, tools=\"\")\n",
    "    for i in range(o.shape[2]):\n",
    "        graphs.line(range(o.shape[0]), o[:, j, i], fig = figg, show=False, color='#' + palette[i], legend = str(i), line_width=4) #, title=\"Average error over trials\", width=600)\n",
    "        #graphs.line(range(a.shape[0]), a[:,4], fig = figg)#, title=\"Average error over trials\", width=600)\n",
    "    graphs.show(figg)"
   ]
  },
  {
   "cell_type": "code",
   "execution_count": 160,
   "metadata": {},
   "outputs": [
    {
     "output_type": "execute_result",
     "data": {
      "text/plain": "0.8981618522441439"
     },
     "metadata": {},
     "execution_count": 160
    }
   ],
   "source": [
    "min(err)"
   ]
  },
  {
   "cell_type": "code",
   "execution_count": 159,
   "metadata": {},
   "outputs": [
    {
     "output_type": "execute_result",
     "data": {
      "text/plain": "1.2847766603316746"
     },
     "metadata": {},
     "execution_count": 159
    }
   ],
   "source": [
    "err[99]"
   ]
  },
  {
   "cell_type": "code",
   "execution_count": 119,
   "metadata": {},
   "outputs": [
    {
     "output_type": "execute_result",
     "data": {
      "text/plain": "array([[3.41130565e-02, 1.57647137e-01, 1.48970001e-01, 2.51810340e-01,\n        1.41534792e-01, 1.72877315e-02, 9.43520038e-03, 2.53525322e-04,\n        4.24118248e-01, 2.08232462e-02],\n       [1.55924841e-01, 3.09186870e-02, 7.62438510e-01, 3.11932048e-01,\n        2.98783817e-01, 1.65398298e-01, 1.75806040e-02, 5.02979198e-04,\n        9.08146452e-01, 7.18911866e-03],\n       [9.65108925e-02, 1.99062727e-01, 8.86469139e-01, 2.27116671e-01,\n        8.86767398e-02, 3.30862776e-01, 7.25053589e-02, 8.96403567e-04,\n        7.94066036e-02, 1.23164026e-01],\n       [6.90670204e-01, 4.91417341e-02, 6.83584552e-01, 2.04117383e-01,\n        9.34305024e-02, 3.10795339e-01, 9.35530575e-03, 2.44216032e-03,\n        5.20647957e-01, 1.20517213e-02],\n       [5.29598933e-02, 1.55549019e-01, 1.45859454e-02, 9.52077767e-02,\n        4.74429776e-01, 9.36045433e-03, 5.93469695e-01, 2.46545719e-03,\n        2.14610252e-01, 6.50811976e-02],\n       [3.14079872e-01, 2.06083007e-02, 2.25281460e-01, 5.74629785e-02,\n        2.85996343e-02, 6.99974874e-02, 5.70954861e-01, 3.94597053e-03,\n        3.82928260e-01, 7.71134727e-03],\n       [1.03573489e-01, 3.09265646e-02, 1.32467739e-01, 1.20223488e-01,\n        1.61070157e-02, 1.17960768e-01, 2.06507889e-01, 5.05871681e-03,\n        2.30733695e-02, 4.53902181e-01],\n       [1.71205542e-01, 1.08553371e-03, 1.17378483e-02, 8.45578657e-02,\n        7.27170998e-04, 9.98139093e-05, 7.58046290e-02, 1.61269263e-03,\n        4.77414773e-01, 2.85145699e-02],\n       [1.44233416e-01, 2.45608707e-01, 1.15381516e-01, 4.20090290e-03,\n        3.24154369e-01, 2.97342387e-01, 2.24553474e-01, 6.12108593e-04,\n        3.48956643e-02, 1.18028270e-01],\n       [2.82012817e-03, 3.26674751e-04, 3.75794442e-02, 6.11553547e-05,\n        1.75764482e-02, 4.44414219e-02, 2.95792431e-02, 2.13643397e-04,\n        1.47459840e-01, 6.08942488e-03],\n       [3.40865485e-01, 1.30366059e-01, 1.56595285e-02, 4.96330584e-01,\n        4.24220696e-04, 1.29845367e-02, 1.90871832e-02, 2.36945343e-04,\n        9.43865858e-02, 9.65053459e-03],\n       [7.13911733e-01, 1.46046870e-02, 3.61211186e-02, 6.11684700e-01,\n        3.39631442e-02, 3.02074954e-02, 2.55742774e-01, 4.40761453e-02,\n        3.54186748e-01, 1.30890553e-01],\n       [3.89740372e-01, 1.50145704e-02, 7.32289423e-02, 8.72371350e-02,\n        3.27666384e-02, 3.72046828e-04, 2.62446384e-01, 1.86843833e-03,\n        1.74499850e-01, 3.07464729e-03],\n       [2.69614397e-01, 7.35897153e-01, 1.42082526e-02, 1.60990339e-01,\n        2.82280547e-01, 7.51437054e-02, 1.92728396e-01, 1.29949801e-02,\n        1.03500025e-01, 5.61937214e-01],\n       [1.87519838e-03, 5.87502693e-04, 4.31566789e-03, 8.79005142e-05,\n        8.27549426e-03, 1.48340181e-03, 1.07998428e-01, 1.49319688e-05,\n        7.26378537e-02, 5.91060986e-04],\n       [2.34949829e-01, 4.54055120e-03, 5.42519665e-01, 1.55483721e-01,\n        4.01642305e-01, 2.18600969e-02, 7.76984725e-01, 2.45163166e-03,\n        4.17875648e-01, 7.82939437e-03],\n       [1.66613193e-02, 8.66561585e-02, 2.12564475e-01, 1.50490345e-02,\n        4.82075116e-03, 1.86918394e-02, 6.29668206e-02, 1.34784014e-05,\n        1.80385379e-01, 1.47489045e-03],\n       [1.14179229e-03, 2.34694310e-01, 4.05479814e-01, 1.43943879e-03,\n        6.80317398e-01, 7.45483109e-01, 3.15147358e-01, 2.21852308e-04,\n        1.02536737e-01, 4.44773078e-01],\n       [2.16176226e-02, 6.48584275e-01, 1.19277516e-01, 2.17506231e-01,\n        1.97632494e-01, 2.24046453e-01, 5.90257902e-01, 6.09005005e-04,\n        2.85088062e-02, 1.79476466e-01],\n       [1.41277441e-01, 5.58080816e-01, 9.28107455e-02, 2.45188057e-02,\n        3.21383788e-01, 5.81256836e-01, 9.73571138e-02, 1.42946558e-03,\n        1.92567767e-01, 2.07352473e-01],\n       [6.73371656e-02, 1.60411485e-03, 7.70280053e-01, 1.02058791e-02,\n        3.54562451e-01, 9.74097966e-02, 1.07571597e-01, 7.06650022e-04,\n        7.15277892e-01, 2.01697893e-03],\n       [1.54129505e-01, 3.76975177e-02, 2.34666154e-02, 3.82353947e-02,\n        4.17792931e-01, 2.05748640e-01, 8.92283579e-01, 4.16875412e-02,\n        1.15563235e-01, 9.02092387e-04],\n       [4.28194968e-02, 2.32166005e-01, 7.53539489e-01, 6.40703537e-03,\n        1.64565566e-01, 6.15935118e-01, 8.34082705e-02, 4.62935005e-04,\n        4.67082701e-01, 4.95175228e-02],\n       [5.58794771e-02, 3.06595186e-01, 6.90623721e-01, 9.78802818e-03,\n        3.65376128e-01, 5.38807871e-01, 1.64600201e-01, 1.64467067e-03,\n        8.82093643e-01, 4.86959998e-02],\n       [1.76609085e-01, 3.15318777e-02, 1.59735607e-02, 1.95407435e-01,\n        2.59947678e-03, 1.35785836e-02, 3.48515054e-01, 1.52952138e-03,\n        4.03641141e-01, 1.30564617e-02],\n       [4.43305733e-01, 1.62033595e-01, 7.80076654e-01, 7.09571472e-01,\n        4.78716221e-02, 2.58432855e-01, 4.00966806e-01, 1.12388397e-02,\n        8.00218132e-02, 9.42170687e-02],\n       [5.95459972e-02, 2.67646659e-01, 7.56075891e-01, 9.24279882e-02,\n        2.13501440e-01, 5.82838440e-02, 5.96491453e-03, 1.45084889e-04,\n        9.72053211e-03, 4.99428351e-01],\n       [6.80754470e-05, 4.14579628e-01, 8.30133508e-02, 5.56903514e-04,\n        2.62750558e-01, 1.92220425e-01, 3.38256761e-02, 2.00588063e-07,\n        2.14526783e-02, 2.43596504e-01],\n       [3.06268252e-01, 3.68316740e-02, 2.76822067e-02, 6.94656579e-02,\n        3.00533458e-01, 2.70612121e-01, 8.79084166e-01, 6.98719655e-03,\n        2.41883424e-01, 9.11103678e-04],\n       [1.45425234e-01, 3.24178752e-01, 2.98903422e-01, 5.43349913e-02,\n        3.03950348e-01, 3.26920268e-01, 2.17264030e-01, 3.18996024e-03,\n        1.19347989e-01, 1.77090439e-01],\n       [1.46502345e-01, 4.00876710e-02, 3.71197146e-02, 3.26225070e-02,\n        2.77719112e-01, 7.48906068e-02, 2.27803241e-01, 3.04189672e-04,\n        5.65264756e-01, 9.96039573e-03],\n       [2.36674496e-01, 1.01336829e-03, 1.45573991e-02, 1.37183646e-03,\n        1.95217807e-02, 2.48977289e-02, 4.00761546e-01, 2.40652740e-03,\n        2.38970408e-01, 2.74950666e-03],\n       [1.05201833e-01, 9.78051153e-02, 1.30216765e-01, 1.50874491e-01,\n        1.35039624e-01, 5.00115230e-02, 2.45431451e-01, 4.29632992e-03,\n        8.19846614e-02, 4.30006759e-01],\n       [7.97154268e-01, 8.93370486e-02, 1.26824715e-02, 4.64087901e-01,\n        2.13025332e-01, 6.49456166e-01, 7.24707718e-01, 1.83956121e-02,\n        1.95176099e-01, 3.51974265e-02],\n       [4.53212806e-01, 9.57407370e-02, 6.65081320e-01, 1.97774178e-01,\n        5.67968633e-02, 4.75116216e-02, 9.10457509e-03, 7.60330556e-04,\n        1.07002040e-01, 2.80747921e-01],\n       [5.04477721e-01, 1.32580741e-02, 3.19531193e-01, 1.30030797e-01,\n        9.49533386e-02, 6.86505854e-03, 2.94376236e-02, 9.75909085e-04,\n        2.40144716e-01, 7.25459518e-03],\n       [1.63053149e-01, 1.13459330e-02, 1.48306441e-01, 1.70448043e-02,\n        1.79596567e-02, 3.28791525e-02, 1.49814943e-01, 1.66374523e-02,\n        1.49371722e-01, 1.97343282e-02],\n       [1.69251933e-04, 6.07630818e-02, 2.85600397e-02, 9.87392642e-06,\n        1.16386736e-02, 3.32911620e-03, 1.13278894e-01, 2.00353401e-05,\n        3.41145888e-01, 2.77766557e-04],\n       [1.15440179e-01, 7.02683493e-01, 2.11769420e-01, 3.75898470e-02,\n        5.37926219e-01, 8.48739674e-01, 2.14250428e-01, 3.75001842e-03,\n        2.29698043e-01, 3.92730385e-01],\n       [1.23971537e-01, 3.84182671e-01, 3.56303931e-03, 2.42463916e-02,\n        4.42873359e-02, 1.09127436e-01, 3.80829258e-02, 1.62691799e-03,\n        2.85739210e-01, 1.02809389e-01]])"
     },
     "metadata": {},
     "execution_count": 119
    }
   ],
   "source": [
    "hidden_out_conn.weights"
   ]
  },
  {
   "cell_type": "code",
   "execution_count": null,
   "metadata": {},
   "outputs": [],
   "source": []
  }
 ],
 "metadata": {
  "kernelspec": {
   "display_name": "Python 3 (ipykernel)",
   "language": "python",
   "name": "python3"
  },
  "language_info": {
   "codemirror_mode": {
    "name": "ipython",
    "version": 3
   },
   "file_extension": ".py",
   "mimetype": "text/x-python",
   "name": "python",
   "nbconvert_exporter": "python",
   "pygments_lexer": "ipython3",
   "version": "3.9.5-final"
  }
 },
 "nbformat": 4,
 "nbformat_minor": 1
}