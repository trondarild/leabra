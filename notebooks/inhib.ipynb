{
 "cells": [
  {
   "cell_type": "code",
   "execution_count": null,
   "metadata": {},
   "outputs": [],
   "source": [
    "# Inhibition\n",
    "\n",
    "This notebook recreates parts of the [\"Neuron\" tutorial of Chapter 3 of the CCN textbook](https://grey.colorado.edu/CompCogNeuro/index.php/CCNBook/Sims/Neuron/Neuron). It uses the Leabra framework corresponding to [emergent](https://grey.colorado.edu/emergent) 8.1. "
   ]
  },
  {
   "cell_type": "code",
   "execution_count": 55,
   "metadata": {},
   "outputs": [],
   "source": [
    "import numpy as np\n",
    "\n",
    "import dotdot\n",
    "import leabra\n",
    "import graphs\n",
    "from math import exp, sin"
   ]
  },
  {
   "cell_type": "markdown",
   "metadata": {},
   "source": [
    "**Unit, Layer Specs**"
   ]
  },
  {
   "cell_type": "code",
   "execution_count": 4,
   "metadata": {},
   "outputs": [],
   "source": [
    "excite_unit_spec = leabra.UnitSpec(adapt_on=False, noisy_act=True, act_thr=0.5, act_gain=100, tau_net=40, \n",
    "                                   g_bar_e=1.0, g_bar_l=0.1, g_bar_i=0.40)\n",
    "inhib_unit_spec  = leabra.UnitSpec(adapt_on=False, noisy_act=True, act_thr=0.4, act_gain=100, tau_net=20, \n",
    "                                   g_bar_e=1.0, g_bar_l=0.1, g_bar_i=0.75)\n",
    "layer_spec   = leabra.LayerSpec(lay_inhib=False)"
   ]
  },
  {
   "cell_type": "markdown",
   "metadata": {},
   "source": [
    "**Connections Specs**"
   ]
  },
  {
   "cell_type": "code",
   "execution_count": 5,
   "metadata": {},
   "outputs": [],
   "source": [
    "# \"ff\" = feed forward; \"fb\" = feedback\n",
    "ffexcite_spec   = leabra.ConnectionSpec(proj='full', rnd_type='uniform',  rnd_mean=0.25, rnd_var=0.2)\n",
    "ffinhib_spec    = leabra.ConnectionSpec(proj='full', rnd_type='gaussian', rnd_mean=0.25, rnd_var=0.2)\n",
    "fbinhib_spec    = leabra.ConnectionSpec(proj='full', rnd_type='uniform',  rnd_mean=0.25, rnd_var=0.2)\n",
    "# inhibitory connection weights are constant at 0.5.\n",
    "inhib_spec      = leabra.ConnectionSpec(proj='full', rnd_type='uniform',  rnd_mean=0.5,  rnd_var=0, inhib=True) \n",
    "inhibinhib_spec = leabra.ConnectionSpec(proj='full', rnd_type='uniform',  rnd_mean=0.5,  rnd_var=0, inhib=False)"
   ]
  },
  {
   "cell_type": "markdown",
   "metadata": {},
   "source": [
    "**Network**"
   ]
  },
  {
   "cell_type": "code",
   "execution_count": 6,
   "metadata": {},
   "outputs": [],
   "source": [
    "# layer specs\n",
    "input_layer  = leabra.Layer(10, spec=layer_spec, unit_spec=excite_unit_spec, name='input_layer')\n",
    "hidden_layer = leabra.Layer(10, spec=layer_spec, unit_spec=excite_unit_spec, name='hidden_layer')\n",
    "inhib_layer  = leabra.Layer( 2, spec=layer_spec, unit_spec=inhib_unit_spec,  name='inhib_layer')"
   ]
  },
  {
   "cell_type": "markdown",
   "metadata": {},
   "source": [
    "**Layer connections**"
   ]
  },
  {
   "cell_type": "code",
   "execution_count": 7,
   "metadata": {},
   "outputs": [],
   "source": [
    "# I:Input, H:Hidden, i:inhib \n",
    "IH_conn = leabra.Connection(input_layer,  hidden_layer, spec=ffexcite_spec)\n",
    "Ii_conn = leabra.Connection(input_layer,  inhib_layer,  spec=ffinhib_spec)\n",
    "Hi_conn = leabra.Connection(hidden_layer, inhib_layer,  spec=fbinhib_spec)\n",
    "iH_conn = leabra.Connection(inhib_layer,  hidden_layer, spec=inhib_spec)\n",
    "ii_conn = leabra.Connection(inhib_layer,  inhib_layer,  spec=inhibinhib_spec)"
   ]
  },
  {
   "cell_type": "code",
   "execution_count": 43,
   "metadata": {},
   "outputs": [],
   "source": [
    "def logistic(val):\n",
    "    return 1.0/(1+exp(-val))"
   ]
  },
  {
   "cell_type": "code",
   "execution_count": 48,
   "metadata": {},
   "outputs": [
    {
     "output_type": "execute_result",
     "data": {
      "text/plain": "0.3775406687981454"
     },
     "metadata": {},
     "execution_count": 48
    }
   ],
   "source": [
    "logistic(0.5-1.0)"
   ]
  },
  {
   "cell_type": "code",
   "execution_count": 8,
   "metadata": {},
   "outputs": [],
   "source": [
    "# network as layers and connections together\n",
    "network_spec = leabra.NetworkSpec(quarter_size=50)\n",
    "network = leabra.Network(spec=network_spec,\n",
    "                         layers=[input_layer, hidden_layer, inhib_layer], \n",
    "                         connections=[IH_conn, Ii_conn, Hi_conn, iH_conn, ii_conn])"
   ]
  },
  {
   "cell_type": "markdown",
   "metadata": {},
   "source": [
    "**Input Activity**"
   ]
  },
  {
   "cell_type": "code",
   "execution_count": 9,
   "metadata": {},
   "outputs": [],
   "source": [
    "input_activity = 10*[0.0]\n",
    "for i in [4, 8]:#, 17, 21, 28, 31, 32, 33, 35, 38, 43, 46, 47, 52, 56, 60, 61, 67, 73, 77, 82]:\n",
    "    input_activity[i] = 0.95"
   ]
  },
  {
   "cell_type": "code",
   "execution_count": 10,
   "metadata": {},
   "outputs": [
    {
     "output_type": "execute_result",
     "data": {
      "text/plain": "[0.0, 0.0, 0.0, 0.0, 0.95, 0.0, 0.0, 0.0, 0.95, 0.0]"
     },
     "metadata": {},
     "execution_count": 10
    }
   ],
   "source": [
    "input_activity"
   ]
  },
  {
   "cell_type": "code",
   "execution_count": 11,
   "metadata": {},
   "outputs": [],
   "source": [
    "network.set_inputs({'input_layer': input_activity})"
   ]
  },
  {
   "cell_type": "markdown",
   "metadata": {},
   "source": [
    "**Running Cycles**"
   ]
  },
  {
   "cell_type": "code",
   "execution_count": 99,
   "metadata": {
    "tags": []
   },
   "outputs": [],
   "source": [
    "hidden_acts_avg, inhib_acts_avg = [], []\n",
    "for i in range(200):\n",
    "    network.cycle() # tick()\n",
    "    #print(input_layer.activities[4])\n",
    "    hidden_acts_avg.append(np.mean(hidden_layer.activities))\n",
    "    inhib_acts_avg.append(np.mean(inhib_layer.activities[1]))"
   ]
  },
  {
   "cell_type": "code",
   "execution_count": 111,
   "metadata": {},
   "outputs": [],
   "source": [
    "hidden_acts_avg, inhib_acts_avg, input_acts_avg = [], [], []\n",
    "for i in range(100):\n",
    "    network.set_inputs({'input_layer': np.multiply(input_activity, sin(0.1*i)+0.75)})\n",
    "    network.quarter() # tick()\n",
    "    #print(input_layer.activities[4])\n",
    "    input_acts_avg.append(np.mean(input_layer.activities))\n",
    "    hidden_acts_avg.append(np.mean(hidden_layer.activities))\n",
    "    #hidden_acts_avg.append(input_layer.activities[4])\n",
    "    inhib_acts_avg.append(np.mean(inhib_layer.activities[1]))"
   ]
  },
  {
   "cell_type": "code",
   "execution_count": 112,
   "metadata": {
    "tags": []
   },
   "outputs": [
    {
     "output_type": "stream",
     "name": "stderr",
     "text": "BokehDeprecationWarning: 'legend' keyword is deprecated, use explicit 'legend_label', 'legend_field', or 'legend_group' keywords instead\nBokehDeprecationWarning: 'legend' keyword is deprecated, use explicit 'legend_label', 'legend_field', or 'legend_group' keywords instead\nBokehDeprecationWarning: 'legend' keyword is deprecated, use explicit 'legend_label', 'legend_field', or 'legend_group' keywords instead\n"
    },
    {
     "output_type": "display_data",
     "data": {
      "text/html": "\n\n\n\n\n\n  <div class=\"bk-root\" id=\"a22720dd-df8e-4385-b915-4dfe2e25cf0f\" data-root-id=\"16132\"></div>\n"
     },
     "metadata": {}
    },
    {
     "output_type": "display_data",
     "data": {
      "application/javascript": "(function(root) {\n  function embed_document(root) {\n    \n  const docs_json = {\"846edf76-e6e3-4be4-a3a2-7fddc3b004b8\":{\"defs\":[],\"roots\":{\"references\":[{\"attributes\":{\"below\":[{\"id\":\"16143\"}],\"center\":[{\"id\":\"16146\"},{\"id\":\"16150\"},{\"id\":\"16170\"}],\"height\":400,\"left\":[{\"id\":\"16147\"}],\"min_border_bottom\":35,\"min_border_left\":35,\"min_border_right\":35,\"min_border_top\":35,\"renderers\":[{\"id\":\"16159\"},{\"id\":\"16176\"},{\"id\":\"16194\"}],\"title\":{\"id\":\"16133\"},\"toolbar\":{\"id\":\"16152\"},\"toolbar_location\":null,\"width\":700,\"x_range\":{\"id\":\"16135\"},\"x_scale\":{\"id\":\"16139\"},\"y_range\":{\"id\":\"16137\"},\"y_scale\":{\"id\":\"16141\"}},\"id\":\"16132\",\"subtype\":\"Figure\",\"type\":\"Plot\"},{\"attributes\":{\"line_color\":\"green\",\"x\":{\"field\":\"x\"},\"y\":{\"field\":\"y\"}},\"id\":\"16191\",\"type\":\"Line\"},{\"attributes\":{\"data\":{\"x\":[0,1,2,3,4,5,6,7,8,9,10,11,12,13,14,15,16,17,18,19,20,21,22,23,24,25,26,27,28,29,30,31,32,33,34,35,36,37,38,39,40,41,42,43,44,45,46,47,48,49,50,51,52,53,54,55,56,57,58,59,60,61,62,63,64,65,66,67,68,69,70,71,72,73,74,75,76,77,78,79,80,81,82,83,84,85,86,87,88,89,90,91,92,93,94,95,96,97,98,99],\"y\":[0.9860760966175816,0.9886882947450941,0.9888676628520394,0.9888852632274607,0.9875370229594608,0.9895761444409149,0.9897194037744984,0.989733302822856,0.9884746654467005,0.9902174335314579,0.9903409088808954,0.9903527501310833,0.9890014485955444,0.9905946108741587,0.9907079298367086,0.9907187195355301,0.9891504443065295,0.9907068720668885,0.9908176112561268,0.9908281268016552,0.9889517432708095,0.990556267081265,0.9906704045440747,0.990681283801785,0.9883625427037511,0.9901400241491943,0.9902658359077587,0.9902779135357618,0.9873699904431964,0.9894616697348313,0.9896084467204302,0.9896227189415924,0.9858086699666382,0.9885408714502768,0.9887274444277888,0.9887457678448147,0.9823546941261582,0.9873993315179067,0.9877013793102394,0.9877305811591929,1.889159984052548e-09,2.7350391343084632e-17,3.9596641519751355e-25,5.732620056422437e-33,1.1832274374834866e-09,1.7130223875284242e-17,2.4800352047402043e-25,3.590481164478493e-33,1.1011096759164463e-09,1.594136060587561e-17,2.3079170361031913e-25,3.341296378159918e-33,1.3392612874472647e-09,1.9389210353561658e-17,2.807080900928871e-25,4.063962915803938e-33,0.8706520243105915,0.9855636329739957,0.987032102286955,0.9871506750440473,0.9843871799956867,0.9879295506728489,0.9881609566788558,0.9881836349090755,0.9865916209746893,0.988972128849495,0.9891374050177607,0.989153589718528,0.9878758400121239,0.9897910623696429,0.9899263672873462,0.989939465079679,0.9886746167619578,0.9903553505091758,0.9904747052313715,0.9904861282473234,0.989083031142998,0.9906547009466264,0.9907665375801955,0.9907771725277853,0.9891287767915473,0.9906900996084617,0.9908011909800053,0.9908117451477121,0.9888245623794275,0.9904624095153036,0.9905788589480549,0.9905899820107548,0.9881249017786521,0.9899686290347199,0.9900994084983856,0.9901120955218332,0.9869801061484124,0.9892159394795506,0.989371980791683,0.9893872054319003,0.9851692800120693,0.9882320041442672,0.9884376401443025,0.988457849065848]},\"selected\":{\"id\":\"16188\"},\"selection_policy\":{\"id\":\"16187\"}},\"id\":\"16172\",\"type\":\"ColumnDataSource\"},{\"attributes\":{\"coordinates\":null,\"group\":null,\"items\":[{\"id\":\"16171\"},{\"id\":\"16189\"},{\"id\":\"16209\"}]},\"id\":\"16170\",\"type\":\"Legend\"},{\"attributes\":{\"coordinates\":null,\"data_source\":{\"id\":\"16190\"},\"glyph\":{\"id\":\"16191\"},\"group\":null,\"hover_glyph\":null,\"muted_glyph\":{\"id\":\"16193\"},\"nonselection_glyph\":{\"id\":\"16192\"},\"view\":{\"id\":\"16195\"}},\"id\":\"16194\",\"type\":\"GlyphRenderer\"},{\"attributes\":{},\"id\":\"16163\",\"type\":\"BasicTickFormatter\"},{\"attributes\":{},\"id\":\"16188\",\"type\":\"Selection\"},{\"attributes\":{},\"id\":\"16168\",\"type\":\"UnionRenderers\"},{\"attributes\":{\"x\":{\"field\":\"x\"},\"y\":{\"field\":\"y\"}},\"id\":\"16156\",\"type\":\"Line\"},{\"attributes\":{\"source\":{\"id\":\"16190\"}},\"id\":\"16195\",\"type\":\"CDSView\"},{\"attributes\":{\"line_alpha\":0.1,\"line_color\":\"green\",\"x\":{\"field\":\"x\"},\"y\":{\"field\":\"y\"}},\"id\":\"16192\",\"type\":\"Line\"},{\"attributes\":{},\"id\":\"16139\",\"type\":\"LinearScale\"},{\"attributes\":{\"source\":{\"id\":\"16172\"}},\"id\":\"16177\",\"type\":\"CDSView\"},{\"attributes\":{\"logo\":null,\"tools\":[{\"id\":\"16151\"}]},\"id\":\"16152\",\"type\":\"Toolbar\"},{\"attributes\":{},\"id\":\"16208\",\"type\":\"Selection\"},{\"attributes\":{},\"id\":\"16169\",\"type\":\"Selection\"},{\"attributes\":{\"label\":{\"value\":\"inhib acts avg\"},\"renderers\":[{\"id\":\"16176\"}]},\"id\":\"16189\",\"type\":\"LegendItem\"},{\"attributes\":{},\"id\":\"16135\",\"type\":\"DataRange1d\"},{\"attributes\":{},\"id\":\"16151\",\"type\":\"SaveTool\"},{\"attributes\":{\"label\":{\"value\":\"hidden acts avg\"},\"renderers\":[{\"id\":\"16159\"}]},\"id\":\"16171\",\"type\":\"LegendItem\"},{\"attributes\":{\"data\":{\"x\":[0,1,2,3,4,5,6,7,8,9,10,11,12,13,14,15,16,17,18,19,20,21,22,23,24,25,26,27,28,29,30,31,32,33,34,35,36,37,38,39,40,41,42,43,44,45,46,47,48,49,50,51,52,53,54,55,56,57,58,59,60,61,62,63,64,65,66,67,68,69,70,71,72,73,74,75,76,77,78,79,80,81,82,83,84,85,86,87,88,89,90,91,92,93,94,95,96,97,98,99],\"y\":[0.1425,0.1425,0.1425,0.1425,0.21648948503864357,0.21648948503864357,0.21648948503864357,0.21648948503864357,0.2787976572709093,0.2787976572709093,0.2787976572709093,0.2787976572709093,0.31958742633377296,0.31958742633377296,0.31958742633377296,0.31958742633377296,0.33241898457788593,0.33241898457788593,0.33241898457788593,0.33241898457788593,0.31526651109687953,0.31526651109687953,0.31526651109687953,0.31526651109687953,0.2708380043047186,0.2708380043047186,0.2708380043047186,0.2708380043047186,0.20614774852962187,0.20614774852962187,0.20614774852962187,0.20614774852962187,0.1314089127487598,0.1314089127487598,0.1314089127487598,0.1314089127487598,0.05842111577397803,0.05842111577397803,0.05842111577397803,0.05842111577397803,-0.0012924741085063585,-0.0012924741085063585,-0.0012924741085063585,-0.0012924741085063585,-0.03830439403900804,-0.03830439403900804,-0.03830439403900804,-0.03830439403900804,-0.046771275678809704,-0.046771275678809704,-0.046771275678809704,-0.046771275678809704,-0.025356384586829095,-0.025356384586829095,-0.025356384586829095,-0.025356384586829095,0.02255933880425904,0.02255933880425904,0.02255933880425904,0.02255933880425904,0.08941105534220409,0.08941105534220409,0.08941105534220409,0.08941105534220409,0.1646443489215938,0.1646443489215938,0.1646443489215938,0.1646443489215938,0.2363815367163357,0.2363815367163357,0.2363815367163357,0.2363815367163357,0.2932968941313391,0.2932968941313391,0.2932968941313391,0.2932968941313391,0.32640473768598244,0.32640473768598244,0.32640473768598244,0.32640473768598244,0.33047806685844255,0.33047806685844255,0.33047806685844255,0.33047806685844255,0.3048737925367732,0.3048737925367732,0.3048737925367732,0.3048737925367732,0.25363426664943467,0.25363426664943467,0.25363426664943467,0.25363426664943467,0.1848490836790467,0.1848490836790467,0.1848490836790467,0.1848490836790467,0.10937791156763352,0.10937791156763352,0.10937791156763352,0.10937791156763352]},\"selected\":{\"id\":\"16208\"},\"selection_policy\":{\"id\":\"16207\"}},\"id\":\"16190\",\"type\":\"ColumnDataSource\"},{\"attributes\":{},\"id\":\"16137\",\"type\":\"DataRange1d\"},{\"attributes\":{},\"id\":\"16164\",\"type\":\"AllLabels\"},{\"attributes\":{\"line_color\":\"red\",\"x\":{\"field\":\"x\"},\"y\":{\"field\":\"y\"}},\"id\":\"16173\",\"type\":\"Line\"},{\"attributes\":{\"line_alpha\":0.2,\"line_color\":\"green\",\"x\":{\"field\":\"x\"},\"y\":{\"field\":\"y\"}},\"id\":\"16193\",\"type\":\"Line\"},{\"attributes\":{},\"id\":\"16166\",\"type\":\"BasicTickFormatter\"},{\"attributes\":{},\"id\":\"16167\",\"type\":\"AllLabels\"},{\"attributes\":{\"axis\":{\"id\":\"16143\"},\"coordinates\":null,\"grid_line_color\":null,\"group\":null,\"ticker\":null},\"id\":\"16146\",\"type\":\"Grid\"},{\"attributes\":{\"coordinates\":null,\"formatter\":{\"id\":\"16163\"},\"group\":null,\"major_label_policy\":{\"id\":\"16164\"},\"major_tick_in\":0,\"minor_tick_line_color\":null,\"ticker\":{\"id\":\"16148\"}},\"id\":\"16147\",\"type\":\"LinearAxis\"},{\"attributes\":{},\"id\":\"16207\",\"type\":\"UnionRenderers\"},{\"attributes\":{\"coordinates\":null,\"group\":null},\"id\":\"16133\",\"type\":\"Title\"},{\"attributes\":{\"line_alpha\":0.1,\"x\":{\"field\":\"x\"},\"y\":{\"field\":\"y\"}},\"id\":\"16157\",\"type\":\"Line\"},{\"attributes\":{},\"id\":\"16187\",\"type\":\"UnionRenderers\"},{\"attributes\":{\"data\":{\"x\":[0,1,2,3,4,5,6,7,8,9,10,11,12,13,14,15,16,17,18,19,20,21,22,23,24,25,26,27,28,29,30,31,32,33,34,35,36,37,38,39,40,41,42,43,44,45,46,47,48,49,50,51,52,53,54,55,56,57,58,59,60,61,62,63,64,65,66,67,68,69,70,71,72,73,74,75,76,77,78,79,80,81,82,83,84,85,86,87,88,89,90,91,92,93,94,95,96,97,98,99],\"y\":[0.9692490677531364,0.9789574152162581,0.9806801762759019,0.9811166429692786,0.9720763261190317,0.9804037591883825,0.9819249734254148,0.9823124764221255,0.9738727340599074,0.9814351016027987,0.9828363001633023,0.9831942010559459,0.974852924929508,0.9820382600052844,0.9833774320714632,0.9837198773709053,0.9751396912828089,0.9822183917960222,0.9835397627789613,0.9838777594766231,0.9747544030920652,0.9819766453837284,0.9833219577577209,0.9836659354583913,0.9736677861151039,0.9813115721185021,0.9827259653934777,0.9830871450822176,0.9717569054645653,0.9802207790144399,0.9817632662325009,0.9821560140675165,0.9687654907795112,0.978718933846929,0.9804764307988039,0.9809212958177707,0.9617737102166559,0.9766081437022518,0.9789153973438877,0.9794870743413455,0.0,0.0,0.0,0.0,0.0,0.0,0.0,0.0,0.0,0.0,0.0,0.0,0.0,0.0,0.0,0.0,0.0,0.9709920392296855,0.9771630386508294,0.9784604365182586,0.9659112331830727,0.9776514896496545,0.9796333956695438,0.980131055585393,0.9702754245252546,0.9794305642690493,0.9810763813751112,0.9814943615692353,0.9727031789195981,0.9807501420543024,0.9822283233941725,0.982605264019486,0.9742341700598443,0.9816551107220569,0.9830332104573933,0.9833853643779044,0.9750065495981518,0.9821345154021717,0.9834641286852941,0.9838041840782129,0.975096959515656,0.9821914275745923,0.9835154401966314,0.9838540974989558,0.9745118671016145,0.9818262011525313,0.9831867566687679,0.9835345386319428,0.9731829599694471,0.9810341106767767,0.982481015469903,0.9828502104680499,0.9709990281723385,0.979821437085648,0.9814173231007036,0.9818230943874244,0.9674889833561107,0.9781928894507465,0.9800488715883141,0.9805171167374152]},\"selected\":{\"id\":\"16169\"},\"selection_policy\":{\"id\":\"16168\"}},\"id\":\"16155\",\"type\":\"ColumnDataSource\"},{\"attributes\":{\"coordinates\":null,\"formatter\":{\"id\":\"16166\"},\"group\":null,\"major_label_policy\":{\"id\":\"16167\"},\"major_tick_in\":0,\"minor_tick_line_color\":null,\"ticker\":{\"id\":\"16144\"}},\"id\":\"16143\",\"type\":\"LinearAxis\"},{\"attributes\":{\"source\":{\"id\":\"16155\"}},\"id\":\"16160\",\"type\":\"CDSView\"},{\"attributes\":{\"line_alpha\":0.2,\"x\":{\"field\":\"x\"},\"y\":{\"field\":\"y\"}},\"id\":\"16158\",\"type\":\"Line\"},{\"attributes\":{\"coordinates\":null,\"data_source\":{\"id\":\"16172\"},\"glyph\":{\"id\":\"16173\"},\"group\":null,\"hover_glyph\":null,\"muted_glyph\":{\"id\":\"16175\"},\"nonselection_glyph\":{\"id\":\"16174\"},\"view\":{\"id\":\"16177\"}},\"id\":\"16176\",\"type\":\"GlyphRenderer\"},{\"attributes\":{\"coordinates\":null,\"data_source\":{\"id\":\"16155\"},\"glyph\":{\"id\":\"16156\"},\"group\":null,\"hover_glyph\":null,\"muted_glyph\":{\"id\":\"16158\"},\"nonselection_glyph\":{\"id\":\"16157\"},\"view\":{\"id\":\"16160\"}},\"id\":\"16159\",\"type\":\"GlyphRenderer\"},{\"attributes\":{\"line_alpha\":0.2,\"line_color\":\"red\",\"x\":{\"field\":\"x\"},\"y\":{\"field\":\"y\"}},\"id\":\"16175\",\"type\":\"Line\"},{\"attributes\":{\"label\":{\"value\":\"input acts avg\"},\"renderers\":[{\"id\":\"16194\"}]},\"id\":\"16209\",\"type\":\"LegendItem\"},{\"attributes\":{},\"id\":\"16148\",\"type\":\"BasicTicker\"},{\"attributes\":{},\"id\":\"16141\",\"type\":\"LinearScale\"},{\"attributes\":{\"axis\":{\"id\":\"16147\"},\"coordinates\":null,\"dimension\":1,\"grid_line_color\":null,\"group\":null,\"ticker\":null},\"id\":\"16150\",\"type\":\"Grid\"},{\"attributes\":{\"line_alpha\":0.1,\"line_color\":\"red\",\"x\":{\"field\":\"x\"},\"y\":{\"field\":\"y\"}},\"id\":\"16174\",\"type\":\"Line\"},{\"attributes\":{},\"id\":\"16144\",\"type\":\"BasicTicker\"}],\"root_ids\":[\"16132\"]},\"title\":\"Bokeh Application\",\"version\":\"2.4.2\"}};\n  const render_items = [{\"docid\":\"846edf76-e6e3-4be4-a3a2-7fddc3b004b8\",\"root_ids\":[\"16132\"],\"roots\":{\"16132\":\"a22720dd-df8e-4385-b915-4dfe2e25cf0f\"}}];\n  root.Bokeh.embed.embed_items_notebook(docs_json, render_items);\n\n  }\n  if (root.Bokeh !== undefined) {\n    embed_document(root);\n  } else {\n    let attempts = 0;\n    const timer = setInterval(function(root) {\n      if (root.Bokeh !== undefined) {\n        clearInterval(timer);\n        embed_document(root);\n      } else {\n        attempts++;\n        if (attempts > 100) {\n          clearInterval(timer);\n          console.log(\"Bokeh: ERROR: Unable to run BokehJS code because BokehJS library is missing\");\n        }\n      }\n    }, 10, root)\n  }\n})(window);",
      "application/vnd.bokehjs_exec.v0+json": ""
     },
     "metadata": {
      "application/vnd.bokehjs_exec.v0+json": {
       "id": "16132"
      }
     }
    }
   ],
   "source": [
    "fig = graphs.line(range(len(hidden_acts_avg)), hidden_acts_avg, color='black', legend='hidden acts avg', show=False)\n",
    "graphs.line(range(len(inhib_acts_avg)), inhib_acts_avg, fig=fig, color='red', legend='inhib acts avg', show=False)\n",
    "graphs.line(range(len(input_acts_avg)), input_acts_avg, fig=fig, color='green', legend='input acts avg')"
   ]
  },
  {
   "cell_type": "markdown",
   "metadata": {
    "collapsed": true
   },
   "source": [
    " "
   ]
  }
 ],
 "metadata": {
  "kernelspec": {
   "display_name": "Python 3 (ipykernel)",
   "language": "python",
   "name": "python3"
  },
  "language_info": {
   "codemirror_mode": {
    "name": "ipython",
    "version": 3
   },
   "file_extension": ".py",
   "mimetype": "text/x-python",
   "name": "python",
   "nbconvert_exporter": "python",
   "pygments_lexer": "ipython3",
   "version": "3.8.10-final"
  }
 },
 "nbformat": 4,
 "nbformat_minor": 2
}