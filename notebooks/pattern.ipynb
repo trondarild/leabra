{
 "cells": [
  {
   "cell_type": "markdown",
   "metadata": {},
   "source": [
    "# Pattern Associator"
   ]
  },
  {
   "cell_type": "markdown",
   "metadata": {},
   "source": [
    "We recreate the network of the [Pattern Associator tutorial from the CECN1 notebook](https://grey.colorado.edu/CompCogNeuro/index.php/CECN1_Pattern_Associator) exploring how the delta rule works and behave. "
   ]
  },
  {
   "cell_type": "code",
   "execution_count": null,
   "metadata": {},
   "outputs": [],
   "source": [
    "import numpy as np\n",
    "import dotdot\n",
    "import leabra\n",
    "import graphs"
   ]
  },
  {
   "cell_type": "code",
   "execution_count": null,
   "metadata": {},
   "outputs": [],
   "source": [
    "import random\n",
    "random.seed(0)"
   ]
  },
  {
   "cell_type": "code",
   "execution_count": null,
   "metadata": {},
   "outputs": [],
   "source": [
    "u_spec = leabra.UnitSpec(act_thr=0.5, act_gain=100, act_sd=0.01, \n",
    "                         g_bar_e=1.0, g_bar_i=1.0, g_bar_l=0.1, \n",
    "                         e_rev_e=1.0, e_rev_i=0.25, e_rev_l=0.3,\n",
    "                         avg_l_min=0.1, avg_l_init=0.4,\n",
    "                         adapt_on=False)"
   ]
  },
  {
   "cell_type": "code",
   "execution_count": null,
   "metadata": {},
   "outputs": [],
   "source": [
    "input_layer  = leabra.Layer(4, unit_spec=u_spec, name='input_layer')\n",
    "output_spec  = leabra.LayerSpec(g_i=1.5, ff=1.0, fb=0.5, fb_dt=1/1.4, ff0=0.1)\n",
    "output_layer = leabra.Layer(2, spec=output_spec, unit_spec=u_spec, name='output_layer')"
   ]
  },
  {
   "cell_type": "code",
   "execution_count": null,
   "metadata": {},
   "outputs": [],
   "source": [
    "conspec = leabra.ConnectionSpec(proj='full', lrule='leabra', lrate=0.04)\n",
    "conn    = leabra.Connection(input_layer, output_layer, spec=conspec)"
   ]
  },
  {
   "cell_type": "code",
   "execution_count": null,
   "metadata": {},
   "outputs": [],
   "source": [
    "conn.weights"
   ]
  },
  {
   "cell_type": "code",
   "execution_count": null,
   "metadata": {},
   "outputs": [],
   "source": [
    "network = leabra.Network(layers=[input_layer, output_layer], connections=[conn])"
   ]
  },
  {
   "cell_type": "code",
   "execution_count": null,
   "metadata": {},
   "outputs": [],
   "source": [
    "def event(k, network):\n",
    "    \"\"\"Run a minus phase and a plus phase for a given input/output pair\"\"\"\n",
    "    inputs  = [0.0, 0.0, 0.0, 0.0]\n",
    "    outputs = [0.0, 0.0]\n",
    "    inputs[k] = 1.0\n",
    "    outputs[int(k/2)] = 1.0  # desired output\n",
    "\n",
    "    network.set_inputs({'input_layer': inputs})\n",
    "    network.set_outputs({'output_layer': outputs})\n",
    "\n",
    "    # minus phase\n",
    "    for _ in range(3):\n",
    "        network.quarter()\n",
    "        print('g_e', [u.g_e for u in output_layer.units])\n",
    "        print('v_m', [u.v_m for u in output_layer.units])\n",
    "        print('v_m_eq', [u.v_m_eq for u in output_layer.units])\n",
    "        print('act', output_layer.activities)\n",
    "#        print(input_layer.activities)\n",
    "        print([u.avg_s_eff for u in input_layer.units])\n",
    "        \n",
    "    error = sum((np.array(output_layer.activities) - outputs)**2) \n",
    "\n",
    "    # plus phase: the output is set directly\n",
    "    network.quarter()\n",
    "    \n",
    "    return error"
   ]
  },
  {
   "cell_type": "code",
   "execution_count": null,
   "metadata": {},
   "outputs": [],
   "source": [
    "conn.weights\n",
    "print(output_layer.to_connections)"
   ]
  },
  {
   "cell_type": "code",
   "execution_count": null,
   "metadata": {},
   "outputs": [],
   "source": [
    "event(0, network)"
   ]
  },
  {
   "cell_type": "code",
   "execution_count": null,
   "metadata": {},
   "outputs": [],
   "source": [
    "conn.weights"
   ]
  },
  {
   "cell_type": "code",
   "execution_count": null,
   "metadata": {},
   "outputs": [],
   "source": [
    "def trial():\n",
    "    sse = 0.0\n",
    "    sse += event(0, network)\n",
    "    sse += event(1, network)\n",
    "    sse += event(2, network)\n",
    "    sse += event(3, network)\n",
    "    return sse / 4"
   ]
  },
  {
   "cell_type": "code",
   "execution_count": null,
   "metadata": {},
   "outputs": [],
   "source": [
    "err = [trial() for _ in range(20)]"
   ]
  },
  {
   "cell_type": "code",
   "execution_count": null,
   "metadata": {},
   "outputs": [],
   "source": [
    "conn.weights"
   ]
  },
  {
   "cell_type": "code",
   "execution_count": null,
   "metadata": {},
   "outputs": [],
   "source": [
    "graphs.line(range(len(err)), err, title=\"Average error over trials\", width=600)"
   ]
  },
  {
   "cell_type": "markdown",
   "metadata": {},
   "source": [
    " "
   ]
  }
 ],
 "metadata": {
  "kernelspec": {
   "display_name": "Python 3 (ipykernel)",
   "language": "python",
   "name": "python3"
  },
  "language_info": {
   "codemirror_mode": {
    "name": "ipython",
    "version": 3
   },
   "file_extension": ".py",
   "mimetype": "text/x-python",
   "name": "python",
   "nbconvert_exporter": "python",
   "pygments_lexer": "ipython3",
   "version": "3.9.5-final"
  }
 },
 "nbformat": 4,
 "nbformat_minor": 1
}